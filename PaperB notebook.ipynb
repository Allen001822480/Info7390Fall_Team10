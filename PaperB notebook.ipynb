{
 "cells": [
  {
   "cell_type": "markdown",
   "metadata": {},
   "source": [
    "## A review of artificial intelligence based building energy use prediction"
   ]
  },
  {
   "cell_type": "markdown",
   "metadata": {},
   "source": [
    "### 1. Introduction"
   ]
  },
  {
   "cell_type": "markdown",
   "metadata": {},
   "source": [
    "Building energy prediction:\n",
    "\n",
    "1. Engineering Approach: The engineering method estimates energy use by using thermodynamic equations to represent the physical behavior of systems and their interactions with the environment to estimate energy \n",
    "\n",
    "2. AI based Approach: AI-based prediction method predicts building energy use according to its correlated variables such as environmental conditions, building characteristics, and occupancy status."
   ]
  },
  {
   "cell_type": "markdown",
   "metadata": {},
   "source": [
    "### 2. Current trends: AI-based building energy use prediction"
   ]
  },
  {
   "cell_type": "markdown",
   "metadata": {},
   "source": [
    "Focus on:\n",
    "1. building types\n",
    "2. prediction approaches \n",
    "3. energy output types \n",
    "4. prediction time scale\n",
    "5. input data type"
   ]
  },
  {
   "cell_type": "markdown",
   "metadata": {},
   "source": [
    "#### 2.1 Buliding Types"
   ]
  },
  {
   "cell_type": "markdown",
   "metadata": {},
   "source": [
    "AI-based prediction models were largely used for energy prediction of the educational and research, and commercial building types because of data availability and, potentially, easier access to the available data.\n",
    "\n",
    "Difficul in data collection for residential buildings has adequately slowed the use of AI-based energy use prediction.\n",
    "Also short of sensor and meters to collect occupancy."
   ]
  },
  {
   "cell_type": "markdown",
   "metadata": {},
   "source": [
    "<img src=\"https://ars.els-cdn.com/content/image/1-s2.0-S1364032116307420-gr1_lrg.jpg\" width=\"250\" height=\"250\" />"
   ]
  },
  {
   "cell_type": "markdown",
   "metadata": {},
   "source": [
    "#### 2.2. Prediction method"
   ]
  },
  {
   "cell_type": "markdown",
   "metadata": {},
   "source": [
    "1. single prediction method (91%):\n",
    "prediction method is deep-rooted, and the framework for applying it to building energy use prediction is well established. \n",
    "\n",
    "2. ensemble prediction model(9%):\n",
    "the research on ensemble prediction method for building energy use prediction is still at the initial stage because of its complexity. \n"
   ]
  },
  {
   "cell_type": "markdown",
   "metadata": {},
   "source": [
    "#### 2.3. Energy type"
   ]
  },
  {
   "cell_type": "markdown",
   "metadata": {},
   "source": [
    "More than half of the studies focus on the prediction of whole building level energy use which reveals the overall energy performance of the building."
   ]
  },
  {
   "cell_type": "markdown",
   "metadata": {},
   "source": [
    "<img src=\"https://ars.els-cdn.com/content/image/1-s2.0-S1364032116307420-gr2_lrg.jpg\" width=\"250\" height=\"250\" />"
   ]
  },
  {
   "cell_type": "markdown",
   "metadata": {},
   "source": [
    "#### 2.4. Prediction time scale"
   ]
  },
  {
   "cell_type": "markdown",
   "metadata": {},
   "source": [
    "Almost half of the researchers selected hourly prediction as their preferred time scale, indicating that such scale is capable of satisfying the needs of current studies. "
   ]
  },
  {
   "cell_type": "markdown",
   "metadata": {},
   "source": [
    "<img src=\"https://ars.els-cdn.com/content/image/1-s2.0-S1364032116307420-gr3_lrg.jpg\" width=\"250\" height=\"250\" />"
   ]
  },
  {
   "cell_type": "markdown",
   "metadata": {},
   "source": [
    "#### 2.5. Input data type"
   ]
  },
  {
   "cell_type": "markdown",
   "metadata": {},
   "source": [
    "Various input features have been selected to work as the input data for AI-based prediction models. Based on the type of input data, the authors classify them into three categories namely, the meteorological data, occupancy data, and all others. \n",
    "Most of the studies did not adopt occupancy information because it is hard to acquire quality data.\n",
    "Occupancy indicators such as the time of day and day type, which could reveal the occupancy condition and pattern, to remedy the information lost from the omission of occupancy information."
   ]
  },
  {
   "cell_type": "markdown",
   "metadata": {},
   "source": [
    "<img src=\"https://ars.els-cdn.com/content/image/1-s2.0-S1364032116307420-gr4_lrg.jpg\" width=\"500\" height=\"300\" />"
   ]
  },
  {
   "cell_type": "markdown",
   "metadata": {},
   "source": [
    "### 3. AI-based prediction models"
   ]
  },
  {
   "cell_type": "markdown",
   "metadata": {},
   "source": [
    "Four main steps\n",
    "1. data collection: To acquire historical input and output data\n",
    "2. data preprocessing: To organize data in a suitable format before they are used to train \n",
    "3. model training: To select the most appropriate parameters that improve the prediction performance of the algorithm\n",
    "4. model testing: To validate the prediction performance of the model by applying the testing data to the trained model"
   ]
  },
  {
   "cell_type": "markdown",
   "metadata": {},
   "source": [
    "#### 3.1. Single prediction method"
   ]
  },
  {
   "cell_type": "markdown",
   "metadata": {},
   "source": [
    "##### 1. Multiple linear regression"
   ]
  },
  {
   "cell_type": "markdown",
   "metadata": {},
   "source": [
    "Advantage: Ease of use, no parameters were to be tuned.\n",
    "\n",
    "limitation: its inability to deal with nonlinear problems."
   ]
  },
  {
   "cell_type": "markdown",
   "metadata": {},
   "source": [
    "##### 2. Artificial neural network"
   ]
  },
  {
   "cell_type": "markdown",
   "metadata": {},
   "source": [
    "ANN has three layers namely, input, hidden, and output layers, which are interconnected.\n",
    "Three types of parameters are typically used to define ANNs: \n",
    "1. the interconnection pattern between neurons of different layers \n",
    "2. the learning process of updating the weights of the interconnection\n",
    "3. the activation function that converts a neuron's weighted input to its output activation "
   ]
  },
  {
   "cell_type": "markdown",
   "metadata": {},
   "source": [
    "Advantage: Its ability to detect complex nonlinear relationships between the inputs and outputs implicitly.\n",
    "\n",
    "Limitation: Fails to establish any interconnection relationship between building physical parameters and building energy use"
   ]
  },
  {
   "cell_type": "markdown",
   "metadata": {},
   "source": [
    "##### 3. Support vector regression"
   ]
  },
  {
   "cell_type": "markdown",
   "metadata": {},
   "source": [
    "Advantage\n",
    "1. Its optimization process is based on the structural risk minimization principle which aims to minimize the upper bound of the general error consisting of the sum of the training error\n",
    "2. Provides a better balance between prediction accuracy and computation speed comparing with MLR and ANNs.\n",
    "\n",
    "Limitation:\n",
    "1. The determination of kernel function. There is no uniform standard for determining which kernel will result in the most accurate SVR. "
   ]
  },
  {
   "cell_type": "markdown",
   "metadata": {},
   "source": [
    "#### 3.2. Ensemble prediction method"
   ]
  },
  {
   "cell_type": "markdown",
   "metadata": {},
   "source": [
    "Rather than a prediction algorithm, ensemble model works as a framework which aims to provide the best possible prediction performance by automatically managing the strengths and weaknesses of each base model.\n",
    "\n",
    "Different from single prediction model which contains only one learning model, the ensemble model consists of multiple base models.\n",
    "\n",
    "Based on the selection of the base models, ensemble prediction models may be further classified into two types, namely, homogeneous and heterogeneous ensemble models.\n"
   ]
  },
  {
   "cell_type": "markdown",
   "metadata": {},
   "source": [
    "<img src=\"https://ars.els-cdn.com/content/image/1-s2.0-S1364032116307420-gr6_lrg.jpg\" width=\"400\" height=\"400\" />"
   ]
  },
  {
   "cell_type": "markdown",
   "metadata": {},
   "source": [
    "Above is the heterogeneous ensemble model. it  requires a collection of machine learning algorithms to work as its base models. The irrelevance between each base model can cancel out their individual errors, thus sufficient base models should be selected to enhance the diversity of the base models."
   ]
  },
  {
   "cell_type": "markdown",
   "metadata": {},
   "source": [
    "<img src=\"https://ars.els-cdn.com/content/image/1-s2.0-S1364032116307420-gr7_lrg.jpg\" width=\"400\" height=\"400\" />"
   ]
  },
  {
   "cell_type": "markdown",
   "metadata": {},
   "source": [
    "Above is the homogeneous ensemble model. It derives from the same learning algorithm trained by different subsets of the training data. Hence, homogeneous ensemble model only needs to select one algorithm from the currently available machine learning techniques."
   ]
  },
  {
   "cell_type": "markdown",
   "metadata": {},
   "source": [
    "### 4. Discussion"
   ]
  },
  {
   "cell_type": "markdown",
   "metadata": {},
   "source": [
    "##### Single vs. ensemble prediction models"
   ]
  },
  {
   "cell_type": "markdown",
   "metadata": {},
   "source": [
    "Single prediction models\n",
    "<br>\n",
    "Advantage:\n",
    "<br>\n",
    "(1) Reliability\n",
    "<br>\n",
    "(2) Ease of implementation\n",
    "<br>\n",
    "(3) Fast computation speed\n",
    "<br>\n",
    "<br>\n",
    "Limitation:\n",
    "<br>\n",
    "(1) Limited prediction accuracy and reliability\n",
    "<br>\n",
    "(2)The users need to select a suitable learning algorithm\n"
   ]
  },
  {
   "cell_type": "markdown",
   "metadata": {},
   "source": [
    "Ensemble prediction models\n",
    "<br>\n",
    "Anvantage:\n",
    "<br>\n",
    "(1) Remarkably improved prediction accuracy and stability\n",
    "<br>\n",
    "(2) Universality: heterogeneous ensemble method let the user select not just one algorithm\n",
    "<br>\n",
    "<br>\n",
    "Limitation:\n",
    "<br>\n",
    "(1) Requires more calculation time and high level of knowledge as it is the combination of different base models\n",
    "<br>\n",
    "(2) Its prediction performance highly depends on the selection of base models"
   ]
  },
  {
   "cell_type": "markdown",
   "metadata": {},
   "source": [
    "##### Advantages and disadvantages of AI-based prediction methods"
   ]
  },
  {
   "cell_type": "markdown",
   "metadata": {},
   "source": [
    "Advantages:\n",
    "1. Requires less detailed physical information of the building. \n",
    "2. The process of data acquisition and data loading is relatively convenient\n",
    "3. Provide promising prediction accuracy once the model is well trained.\n",
    "\n",
    "Disadvantages:\n",
    "1. It's impossible to extrapolate building energy performance once the design or operation of the building has changed\n",
    "2. It's hard to be applied in building design phase as it requires historical building performance data to train the model\n",
    "3. Requires extensive training data for model establishment and maintaining prediction quality\n",
    "4. Need to be re-trained once changes are made to building envelope, system or operation"
   ]
  },
  {
   "cell_type": "markdown",
   "metadata": {},
   "source": [
    "### 5. Conclusion"
   ]
  },
  {
   "cell_type": "markdown",
   "metadata": {},
   "source": [
    "About our Appliances prediction assignment we may conclude from this paper that:\n",
    "1. Input data: Meteorological data includes the information of outdoor temperature, humidity, wind speed, precipitation, and solar radiation. While our assignment dataset didn't collect the precipitation and the solar radiation which may improve the prediction.\n",
    "2. Input data: The occupants have significant impacts on building energy use, but it's hard to collet the information. Our work foucs on occupancy indicators such as the time of day and day type, which could also reveal the occupancy condition and pattern, to remedy the information.\n",
    "3. Ensemble Prediction model: the better result can achieved by first adopting the heterogeneous model to find the best algorithm and then adopting homogeneous model to fit the best subset of the training data."
   ]
  },
  {
   "cell_type": "code",
   "execution_count": null,
   "metadata": {},
   "outputs": [],
   "source": []
  }
 ],
 "metadata": {
  "kernelspec": {
   "display_name": "Python 3",
   "language": "python",
   "name": "python3"
  },
  "language_info": {
   "codemirror_mode": {
    "name": "ipython",
    "version": 3
   },
   "file_extension": ".py",
   "mimetype": "text/x-python",
   "name": "python",
   "nbconvert_exporter": "python",
   "pygments_lexer": "ipython3",
   "version": "3.6.5"
  }
 },
 "nbformat": 4,
 "nbformat_minor": 2
}
