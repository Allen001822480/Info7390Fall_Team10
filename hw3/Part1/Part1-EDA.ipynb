{
 "cells": [
  {
   "cell_type": "markdown",
   "metadata": {},
   "source": [
    "## Exploratory Data Analysis"
   ]
  },
  {
   "cell_type": "code",
   "execution_count": 1,
   "metadata": {},
   "outputs": [],
   "source": [
    "import numpy as np\n",
    "import pandas as pd\n",
    "import matplotlib.pyplot as plt\n",
    "import seaborn as sns"
   ]
  },
  {
   "cell_type": "markdown",
   "metadata": {},
   "source": [
    "### Orignination Summary"
   ]
  },
  {
   "cell_type": "code",
   "execution_count": 2,
   "metadata": {},
   "outputs": [
    {
     "data": {
      "text/html": [
       "<div>\n",
       "<style scoped>\n",
       "    .dataframe tbody tr th:only-of-type {\n",
       "        vertical-align: middle;\n",
       "    }\n",
       "\n",
       "    .dataframe tbody tr th {\n",
       "        vertical-align: top;\n",
       "    }\n",
       "\n",
       "    .dataframe thead th {\n",
       "        text-align: right;\n",
       "    }\n",
       "</style>\n",
       "<table border=\"1\" class=\"dataframe\">\n",
       "  <thead>\n",
       "    <tr style=\"text-align: right;\">\n",
       "      <th></th>\n",
       "      <th>year</th>\n",
       "      <th>aveCreditScore</th>\n",
       "      <th>loanCount</th>\n",
       "      <th>aveMI</th>\n",
       "      <th>aveUnitNumber</th>\n",
       "      <th>aveCLTV</th>\n",
       "      <th>aveDTI</th>\n",
       "      <th>aveLTV</th>\n",
       "      <th>totalUPB</th>\n",
       "      <th>aveUPB</th>\n",
       "      <th>aveInterestRate</th>\n",
       "      <th>mostFrequentState</th>\n",
       "      <th>mostFrequentType</th>\n",
       "      <th>mostFrequentPostalCode</th>\n",
       "      <th>aveNumberOfBorrowers</th>\n",
       "      <th>mostFrequentSeller</th>\n",
       "      <th>mostFrequentServicer</th>\n",
       "    </tr>\n",
       "  </thead>\n",
       "  <tbody>\n",
       "    <tr>\n",
       "      <th>0</th>\n",
       "      <td>2008</td>\n",
       "      <td>746.36954</td>\n",
       "      <td>50000</td>\n",
       "      <td>4.268100</td>\n",
       "      <td>1.036660</td>\n",
       "      <td>71.504620</td>\n",
       "      <td>57.184360</td>\n",
       "      <td>70.28216</td>\n",
       "      <td>10199093000</td>\n",
       "      <td>203981.860000</td>\n",
       "      <td>6.057020</td>\n",
       "      <td>CA</td>\n",
       "      <td>SF</td>\n",
       "      <td>60600.0</td>\n",
       "      <td>1.56502</td>\n",
       "      <td>WELLSFARGOBANK,NA</td>\n",
       "      <td>Other servicers</td>\n",
       "    </tr>\n",
       "    <tr>\n",
       "      <th>1</th>\n",
       "      <td>2009</td>\n",
       "      <td>762.33614</td>\n",
       "      <td>50000</td>\n",
       "      <td>1.552420</td>\n",
       "      <td>1.016000</td>\n",
       "      <td>66.853080</td>\n",
       "      <td>34.216720</td>\n",
       "      <td>65.44966</td>\n",
       "      <td>10685987000</td>\n",
       "      <td>213719.740000</td>\n",
       "      <td>4.958583</td>\n",
       "      <td>CA</td>\n",
       "      <td>SF</td>\n",
       "      <td>94500.0</td>\n",
       "      <td>1.62456</td>\n",
       "      <td>Other sellers</td>\n",
       "      <td>Other servicers</td>\n",
       "    </tr>\n",
       "    <tr>\n",
       "      <th>2</th>\n",
       "      <td>2016</td>\n",
       "      <td>751.37888</td>\n",
       "      <td>50000</td>\n",
       "      <td>6.138400</td>\n",
       "      <td>1.032140</td>\n",
       "      <td>73.509260</td>\n",
       "      <td>34.171520</td>\n",
       "      <td>73.05932</td>\n",
       "      <td>11985644000</td>\n",
       "      <td>239712.880000</td>\n",
       "      <td>3.776303</td>\n",
       "      <td>CA</td>\n",
       "      <td>SF</td>\n",
       "      <td>94500.0</td>\n",
       "      <td>1.50606</td>\n",
       "      <td>Other sellers</td>\n",
       "      <td>Other servicers</td>\n",
       "    </tr>\n",
       "    <tr>\n",
       "      <th>3</th>\n",
       "      <td>2017</td>\n",
       "      <td>748.42680</td>\n",
       "      <td>37500</td>\n",
       "      <td>6.620933</td>\n",
       "      <td>1.036933</td>\n",
       "      <td>74.671467</td>\n",
       "      <td>34.991253</td>\n",
       "      <td>74.32032</td>\n",
       "      <td>8860499000</td>\n",
       "      <td>236279.973333</td>\n",
       "      <td>4.198448</td>\n",
       "      <td>CA</td>\n",
       "      <td>SF</td>\n",
       "      <td>75000.0</td>\n",
       "      <td>1.49424</td>\n",
       "      <td>Other sellers</td>\n",
       "      <td>Other servicers</td>\n",
       "    </tr>\n",
       "    <tr>\n",
       "      <th>4</th>\n",
       "      <td>2015</td>\n",
       "      <td>751.74064</td>\n",
       "      <td>50000</td>\n",
       "      <td>6.453200</td>\n",
       "      <td>1.030420</td>\n",
       "      <td>74.307380</td>\n",
       "      <td>33.867120</td>\n",
       "      <td>73.77618</td>\n",
       "      <td>11468396000</td>\n",
       "      <td>229367.920000</td>\n",
       "      <td>3.956772</td>\n",
       "      <td>CA</td>\n",
       "      <td>SF</td>\n",
       "      <td>94500.0</td>\n",
       "      <td>1.52030</td>\n",
       "      <td>Other sellers</td>\n",
       "      <td>Other servicers</td>\n",
       "    </tr>\n",
       "  </tbody>\n",
       "</table>\n",
       "</div>"
      ],
      "text/plain": [
       "   year  aveCreditScore  loanCount     aveMI  aveUnitNumber    aveCLTV  \\\n",
       "0  2008       746.36954      50000  4.268100       1.036660  71.504620   \n",
       "1  2009       762.33614      50000  1.552420       1.016000  66.853080   \n",
       "2  2016       751.37888      50000  6.138400       1.032140  73.509260   \n",
       "3  2017       748.42680      37500  6.620933       1.036933  74.671467   \n",
       "4  2015       751.74064      50000  6.453200       1.030420  74.307380   \n",
       "\n",
       "      aveDTI    aveLTV     totalUPB         aveUPB  aveInterestRate  \\\n",
       "0  57.184360  70.28216  10199093000  203981.860000         6.057020   \n",
       "1  34.216720  65.44966  10685987000  213719.740000         4.958583   \n",
       "2  34.171520  73.05932  11985644000  239712.880000         3.776303   \n",
       "3  34.991253  74.32032   8860499000  236279.973333         4.198448   \n",
       "4  33.867120  73.77618  11468396000  229367.920000         3.956772   \n",
       "\n",
       "  mostFrequentState mostFrequentType  mostFrequentPostalCode  \\\n",
       "0                CA               SF                 60600.0   \n",
       "1                CA               SF                 94500.0   \n",
       "2                CA               SF                 94500.0   \n",
       "3                CA               SF                 75000.0   \n",
       "4                CA               SF                 94500.0   \n",
       "\n",
       "   aveNumberOfBorrowers mostFrequentSeller mostFrequentServicer  \n",
       "0               1.56502  WELLSFARGOBANK,NA      Other servicers  \n",
       "1               1.62456      Other sellers      Other servicers  \n",
       "2               1.50606      Other sellers      Other servicers  \n",
       "3               1.49424      Other sellers      Other servicers  \n",
       "4               1.52030      Other sellers      Other servicers  "
      ]
     },
     "execution_count": 2,
     "metadata": {},
     "output_type": "execute_result"
    }
   ],
   "source": [
    "orig = pd.read_csv('cleanFilesWithSummaries/summary_orig.csv')\n",
    "orig.head()"
   ]
  },
  {
   "cell_type": "code",
   "execution_count": 3,
   "metadata": {},
   "outputs": [
    {
     "data": {
      "text/html": [
       "<div>\n",
       "<style scoped>\n",
       "    .dataframe tbody tr th:only-of-type {\n",
       "        vertical-align: middle;\n",
       "    }\n",
       "\n",
       "    .dataframe tbody tr th {\n",
       "        vertical-align: top;\n",
       "    }\n",
       "\n",
       "    .dataframe thead th {\n",
       "        text-align: right;\n",
       "    }\n",
       "</style>\n",
       "<table border=\"1\" class=\"dataframe\">\n",
       "  <thead>\n",
       "    <tr style=\"text-align: right;\">\n",
       "      <th></th>\n",
       "      <th>year</th>\n",
       "      <th>aveCreditScore</th>\n",
       "      <th>loanCount</th>\n",
       "      <th>aveMI</th>\n",
       "      <th>aveUnitNumber</th>\n",
       "      <th>aveCLTV</th>\n",
       "      <th>aveDTI</th>\n",
       "      <th>aveLTV</th>\n",
       "      <th>totalUPB</th>\n",
       "      <th>aveUPB</th>\n",
       "      <th>aveInterestRate</th>\n",
       "      <th>mostFrequentState</th>\n",
       "      <th>mostFrequentType</th>\n",
       "      <th>mostFrequentPostalCode</th>\n",
       "      <th>aveNumberOfBorrowers</th>\n",
       "      <th>mostFrequentSeller</th>\n",
       "      <th>mostFrequentServicer</th>\n",
       "    </tr>\n",
       "  </thead>\n",
       "  <tbody>\n",
       "    <tr>\n",
       "      <th>7</th>\n",
       "      <td>2005</td>\n",
       "      <td>728.49904</td>\n",
       "      <td>50000</td>\n",
       "      <td>4.38436</td>\n",
       "      <td>1.02644</td>\n",
       "      <td>71.21610</td>\n",
       "      <td>65.38164</td>\n",
       "      <td>69.56804</td>\n",
       "      <td>8534593000</td>\n",
       "      <td>170691.86</td>\n",
       "      <td>5.805862</td>\n",
       "      <td>CA</td>\n",
       "      <td>SF</td>\n",
       "      <td>85200.0</td>\n",
       "      <td>1.61412</td>\n",
       "      <td>WELLSFARGOBANK,NA</td>\n",
       "      <td>WELLSFARGOBANK,NA</td>\n",
       "    </tr>\n",
       "    <tr>\n",
       "      <th>12</th>\n",
       "      <td>2006</td>\n",
       "      <td>729.95500</td>\n",
       "      <td>50000</td>\n",
       "      <td>3.47626</td>\n",
       "      <td>1.02774</td>\n",
       "      <td>73.13102</td>\n",
       "      <td>57.58518</td>\n",
       "      <td>70.71394</td>\n",
       "      <td>8979629000</td>\n",
       "      <td>179592.58</td>\n",
       "      <td>6.406876</td>\n",
       "      <td>FL</td>\n",
       "      <td>SF</td>\n",
       "      <td>30000.0</td>\n",
       "      <td>1.58692</td>\n",
       "      <td>WELLSFARGOBANK,NA</td>\n",
       "      <td>WELLSFARGOBANK,NA</td>\n",
       "    </tr>\n",
       "    <tr>\n",
       "      <th>9</th>\n",
       "      <td>2007</td>\n",
       "      <td>728.46154</td>\n",
       "      <td>50000</td>\n",
       "      <td>5.19054</td>\n",
       "      <td>1.03666</td>\n",
       "      <td>74.53890</td>\n",
       "      <td>61.62562</td>\n",
       "      <td>72.10360</td>\n",
       "      <td>9188208000</td>\n",
       "      <td>183764.16</td>\n",
       "      <td>6.376952</td>\n",
       "      <td>CA</td>\n",
       "      <td>SF</td>\n",
       "      <td>60600.0</td>\n",
       "      <td>1.57590</td>\n",
       "      <td>WELLSFARGOBANK,NA</td>\n",
       "      <td>Other servicers</td>\n",
       "    </tr>\n",
       "    <tr>\n",
       "      <th>0</th>\n",
       "      <td>2008</td>\n",
       "      <td>746.36954</td>\n",
       "      <td>50000</td>\n",
       "      <td>4.26810</td>\n",
       "      <td>1.03666</td>\n",
       "      <td>71.50462</td>\n",
       "      <td>57.18436</td>\n",
       "      <td>70.28216</td>\n",
       "      <td>10199093000</td>\n",
       "      <td>203981.86</td>\n",
       "      <td>6.057020</td>\n",
       "      <td>CA</td>\n",
       "      <td>SF</td>\n",
       "      <td>60600.0</td>\n",
       "      <td>1.56502</td>\n",
       "      <td>WELLSFARGOBANK,NA</td>\n",
       "      <td>Other servicers</td>\n",
       "    </tr>\n",
       "    <tr>\n",
       "      <th>1</th>\n",
       "      <td>2009</td>\n",
       "      <td>762.33614</td>\n",
       "      <td>50000</td>\n",
       "      <td>1.55242</td>\n",
       "      <td>1.01600</td>\n",
       "      <td>66.85308</td>\n",
       "      <td>34.21672</td>\n",
       "      <td>65.44966</td>\n",
       "      <td>10685987000</td>\n",
       "      <td>213719.74</td>\n",
       "      <td>4.958583</td>\n",
       "      <td>CA</td>\n",
       "      <td>SF</td>\n",
       "      <td>94500.0</td>\n",
       "      <td>1.62456</td>\n",
       "      <td>Other sellers</td>\n",
       "      <td>Other servicers</td>\n",
       "    </tr>\n",
       "  </tbody>\n",
       "</table>\n",
       "</div>"
      ],
      "text/plain": [
       "    year  aveCreditScore  loanCount    aveMI  aveUnitNumber   aveCLTV  \\\n",
       "7   2005       728.49904      50000  4.38436        1.02644  71.21610   \n",
       "12  2006       729.95500      50000  3.47626        1.02774  73.13102   \n",
       "9   2007       728.46154      50000  5.19054        1.03666  74.53890   \n",
       "0   2008       746.36954      50000  4.26810        1.03666  71.50462   \n",
       "1   2009       762.33614      50000  1.55242        1.01600  66.85308   \n",
       "\n",
       "      aveDTI    aveLTV     totalUPB     aveUPB  aveInterestRate  \\\n",
       "7   65.38164  69.56804   8534593000  170691.86         5.805862   \n",
       "12  57.58518  70.71394   8979629000  179592.58         6.406876   \n",
       "9   61.62562  72.10360   9188208000  183764.16         6.376952   \n",
       "0   57.18436  70.28216  10199093000  203981.86         6.057020   \n",
       "1   34.21672  65.44966  10685987000  213719.74         4.958583   \n",
       "\n",
       "   mostFrequentState mostFrequentType  mostFrequentPostalCode  \\\n",
       "7                 CA               SF                 85200.0   \n",
       "12                FL               SF                 30000.0   \n",
       "9                 CA               SF                 60600.0   \n",
       "0                 CA               SF                 60600.0   \n",
       "1                 CA               SF                 94500.0   \n",
       "\n",
       "    aveNumberOfBorrowers mostFrequentSeller mostFrequentServicer  \n",
       "7                1.61412  WELLSFARGOBANK,NA    WELLSFARGOBANK,NA  \n",
       "12               1.58692  WELLSFARGOBANK,NA    WELLSFARGOBANK,NA  \n",
       "9                1.57590  WELLSFARGOBANK,NA      Other servicers  \n",
       "0                1.56502  WELLSFARGOBANK,NA      Other servicers  \n",
       "1                1.62456      Other sellers      Other servicers  "
      ]
     },
     "execution_count": 3,
     "metadata": {},
     "output_type": "execute_result"
    }
   ],
   "source": [
    "orig = orig.sort_values(by=['year'])\n",
    "orig.head()"
   ]
  },
  {
   "cell_type": "code",
   "execution_count": 4,
   "metadata": {},
   "outputs": [
    {
     "data": {
      "text/plain": [
       "[Text(0, 0.5, 'Average Credit Score'), Text(0.5, 0, 'Year')]"
      ]
     },
     "execution_count": 4,
     "metadata": {},
     "output_type": "execute_result"
    },
    {
     "data": {
      "image/png": "[encoded data removed]",
      "text/plain": [
       "<Figure size 640x320 with 1 Axes>"
      ]
     },
     "metadata": {},
     "output_type": "display_data"
    }
   ],
   "source": [
    "plt.figure(figsize=(8,4),dpi = 80)\n",
    "ax = sns.barplot(x = 'year', y = 'aveCreditScore', data = orig)\n",
    "ax.set(xlabel = 'Year', ylabel = 'Average Credit Score')"
   ]
  },
  {
   "cell_type": "code",
   "execution_count": 5,
   "metadata": {},
   "outputs": [
    {
     "data": {
      "image/png": "[encoded data removed]",
      "text/plain": [
       "<Figure size 640x320 with 1 Axes>"
      ]
     },
     "metadata": {},
     "output_type": "display_data"
    }
   ],
   "source": [
    "plt.figure(figsize=(8,4),dpi = 80)\n",
    "ax = sns.lineplot(x = 'year', y = 'aveMI', data = orig)\n",
    "plt.yticks(np.arange(-0,8,0.5))\n",
    "ax.set(xlabel = 'Year', ylabel = 'Average Mortgage Insurance Percentage %')\n",
    "sns.despine()"
   ]
  },
  {
   "cell_type": "code",
   "execution_count": 6,
   "metadata": {},
   "outputs": [
    {
     "data": {
      "text/plain": [
       "[Text(0, 0.5, 'Average Interest Rate'), Text(0.5, 0, 'Year')]"
      ]
     },
     "execution_count": 6,
     "metadata": {},
     "output_type": "execute_result"
    },
    {
     "data": {
      "image/png": "[encoded data removed]",
      "text/plain": [
       "<Figure size 640x320 with 1 Axes>"
      ]
     },
     "metadata": {},
     "output_type": "display_data"
    }
   ],
   "source": [
    "plt.figure(figsize=(8,4),dpi = 80)\n",
    "ax = sns.barplot(x = 'year', y = 'aveInterestRate', data = orig)\n",
    "ax.set(xlabel = 'Year', ylabel = 'Average Interest Rate')"
   ]
  },
  {
   "cell_type": "code",
   "execution_count": 7,
   "metadata": {},
   "outputs": [
    {
     "data": {
      "text/plain": [
       "Text(0.5, 1.0, 'Corrleation')"
      ]
     },
     "execution_count": 7,
     "metadata": {},
     "output_type": "execute_result"
    },
    {
     "data": {
      "image/png": "[encoded data removed]",
      "text/plain": [
       "<Figure size 640x640 with 2 Axes>"
      ]
     },
     "metadata": {},
     "output_type": "display_data"
    }
   ],
   "source": [
    "orig_1 = orig.iloc[:, [1,2,3,4,5,6,7,8,9,10,11,15]]\n",
    "corr = orig_1.corr()\n",
    "plt.figure(figsize=(8,8),dpi = 80)\n",
    "ax = sns.heatmap(corr,cmap = \"coolwarm\",square = True, annot = True, fmt = ' .2f')\n",
    "ax.set_title('Corrleation',fontsize = 15,pad = 30)"
   ]
  },
  {
   "cell_type": "markdown",
   "metadata": {},
   "source": [
    "### Performance Summary"
   ]
  },
  {
   "cell_type": "code",
   "execution_count": 8,
   "metadata": {},
   "outputs": [
    {
     "data": {
      "text/html": [
       "<div>\n",
       "<style scoped>\n",
       "    .dataframe tbody tr th:only-of-type {\n",
       "        vertical-align: middle;\n",
       "    }\n",
       "\n",
       "    .dataframe tbody tr th {\n",
       "        vertical-align: top;\n",
       "    }\n",
       "\n",
       "    .dataframe thead th {\n",
       "        text-align: right;\n",
       "    }\n",
       "</style>\n",
       "<table border=\"1\" class=\"dataframe\">\n",
       "  <thead>\n",
       "    <tr style=\"text-align: right;\">\n",
       "      <th></th>\n",
       "      <th>year</th>\n",
       "      <th>no_distinct_loans_per_year</th>\n",
       "      <th>most_lenth_loan_months</th>\n",
       "      <th>total_reos_per_year_percent</th>\n",
       "      <th>mean_upb_year</th>\n",
       "      <th>avg_loan_age</th>\n",
       "      <th>avg_current_interest_rate</th>\n",
       "    </tr>\n",
       "  </thead>\n",
       "  <tbody>\n",
       "    <tr>\n",
       "      <th>0</th>\n",
       "      <td>2014</td>\n",
       "      <td>50000</td>\n",
       "      <td>50</td>\n",
       "      <td>0.044000</td>\n",
       "      <td>195725.774977</td>\n",
       "      <td>19.766583</td>\n",
       "      <td>4.275649</td>\n",
       "    </tr>\n",
       "    <tr>\n",
       "      <th>1</th>\n",
       "      <td>2015</td>\n",
       "      <td>49999</td>\n",
       "      <td>38</td>\n",
       "      <td>0.014000</td>\n",
       "      <td>215189.786769</td>\n",
       "      <td>15.196114</td>\n",
       "      <td>3.938976</td>\n",
       "    </tr>\n",
       "    <tr>\n",
       "      <th>2</th>\n",
       "      <td>2017</td>\n",
       "      <td>37465</td>\n",
       "      <td>14</td>\n",
       "      <td>0.000000</td>\n",
       "      <td>230199.734677</td>\n",
       "      <td>4.824792</td>\n",
       "      <td>4.209890</td>\n",
       "    </tr>\n",
       "    <tr>\n",
       "      <th>3</th>\n",
       "      <td>2016</td>\n",
       "      <td>50000</td>\n",
       "      <td>26</td>\n",
       "      <td>0.000000</td>\n",
       "      <td>230333.185051</td>\n",
       "      <td>9.830888</td>\n",
       "      <td>3.788647</td>\n",
       "    </tr>\n",
       "    <tr>\n",
       "      <th>4</th>\n",
       "      <td>2012</td>\n",
       "      <td>49997</td>\n",
       "      <td>74</td>\n",
       "      <td>0.036002</td>\n",
       "      <td>193752.440745</td>\n",
       "      <td>31.118404</td>\n",
       "      <td>3.597135</td>\n",
       "    </tr>\n",
       "  </tbody>\n",
       "</table>\n",
       "</div>"
      ],
      "text/plain": [
       "   year  no_distinct_loans_per_year  most_lenth_loan_months  \\\n",
       "0  2014                       50000                      50   \n",
       "1  2015                       49999                      38   \n",
       "2  2017                       37465                      14   \n",
       "3  2016                       50000                      26   \n",
       "4  2012                       49997                      74   \n",
       "\n",
       "   total_reos_per_year_percent  mean_upb_year  avg_loan_age  \\\n",
       "0                     0.044000  195725.774977     19.766583   \n",
       "1                     0.014000  215189.786769     15.196114   \n",
       "2                     0.000000  230199.734677      4.824792   \n",
       "3                     0.000000  230333.185051      9.830888   \n",
       "4                     0.036002  193752.440745     31.118404   \n",
       "\n",
       "   avg_current_interest_rate  \n",
       "0                   4.275649  \n",
       "1                   3.938976  \n",
       "2                   4.209890  \n",
       "3                   3.788647  \n",
       "4                   3.597135  "
      ]
     },
     "execution_count": 8,
     "metadata": {},
     "output_type": "execute_result"
    }
   ],
   "source": [
    "svcg = pd.read_csv('cleanFilesWithSummaries/summary_svcg.csv')\n",
    "svcg.head()"
   ]
  },
  {
   "cell_type": "code",
   "execution_count": 9,
   "metadata": {},
   "outputs": [
    {
     "data": {
      "text/html": [
       "<div>\n",
       "<style scoped>\n",
       "    .dataframe tbody tr th:only-of-type {\n",
       "        vertical-align: middle;\n",
       "    }\n",
       "\n",
       "    .dataframe tbody tr th {\n",
       "        vertical-align: top;\n",
       "    }\n",
       "\n",
       "    .dataframe thead th {\n",
       "        text-align: right;\n",
       "    }\n",
       "</style>\n",
       "<table border=\"1\" class=\"dataframe\">\n",
       "  <thead>\n",
       "    <tr style=\"text-align: right;\">\n",
       "      <th></th>\n",
       "      <th>year</th>\n",
       "      <th>no_distinct_loans_per_year</th>\n",
       "      <th>most_lenth_loan_months</th>\n",
       "      <th>total_reos_per_year_percent</th>\n",
       "      <th>mean_upb_year</th>\n",
       "      <th>avg_loan_age</th>\n",
       "      <th>avg_current_interest_rate</th>\n",
       "    </tr>\n",
       "  </thead>\n",
       "  <tbody>\n",
       "    <tr>\n",
       "      <th>8</th>\n",
       "      <td>2005</td>\n",
       "      <td>49999</td>\n",
       "      <td>158</td>\n",
       "      <td>3.144063</td>\n",
       "      <td>147470.359979</td>\n",
       "      <td>49.342926</td>\n",
       "      <td>5.731460</td>\n",
       "    </tr>\n",
       "    <tr>\n",
       "      <th>5</th>\n",
       "      <td>2006</td>\n",
       "      <td>49997</td>\n",
       "      <td>146</td>\n",
       "      <td>4.670280</td>\n",
       "      <td>157320.881169</td>\n",
       "      <td>42.695682</td>\n",
       "      <td>6.270802</td>\n",
       "    </tr>\n",
       "    <tr>\n",
       "      <th>6</th>\n",
       "      <td>2007</td>\n",
       "      <td>49996</td>\n",
       "      <td>134</td>\n",
       "      <td>5.154412</td>\n",
       "      <td>160294.361364</td>\n",
       "      <td>39.986316</td>\n",
       "      <td>6.205151</td>\n",
       "    </tr>\n",
       "    <tr>\n",
       "      <th>12</th>\n",
       "      <td>2008</td>\n",
       "      <td>49995</td>\n",
       "      <td>122</td>\n",
       "      <td>2.416242</td>\n",
       "      <td>169830.639024</td>\n",
       "      <td>34.710778</td>\n",
       "      <td>5.948221</td>\n",
       "    </tr>\n",
       "    <tr>\n",
       "      <th>11</th>\n",
       "      <td>2009</td>\n",
       "      <td>49998</td>\n",
       "      <td>110</td>\n",
       "      <td>0.322013</td>\n",
       "      <td>175750.124093</td>\n",
       "      <td>35.703365</td>\n",
       "      <td>4.945080</td>\n",
       "    </tr>\n",
       "  </tbody>\n",
       "</table>\n",
       "</div>"
      ],
      "text/plain": [
       "    year  no_distinct_loans_per_year  most_lenth_loan_months  \\\n",
       "8   2005                       49999                     158   \n",
       "5   2006                       49997                     146   \n",
       "6   2007                       49996                     134   \n",
       "12  2008                       49995                     122   \n",
       "11  2009                       49998                     110   \n",
       "\n",
       "    total_reos_per_year_percent  mean_upb_year  avg_loan_age  \\\n",
       "8                      3.144063  147470.359979     49.342926   \n",
       "5                      4.670280  157320.881169     42.695682   \n",
       "6                      5.154412  160294.361364     39.986316   \n",
       "12                     2.416242  169830.639024     34.710778   \n",
       "11                     0.322013  175750.124093     35.703365   \n",
       "\n",
       "    avg_current_interest_rate  \n",
       "8                    5.731460  \n",
       "5                    6.270802  \n",
       "6                    6.205151  \n",
       "12                   5.948221  \n",
       "11                   4.945080  "
      ]
     },
     "execution_count": 9,
     "metadata": {},
     "output_type": "execute_result"
    }
   ],
   "source": [
    "svcg = svcg.sort_values(by=['year'])\n",
    "svcg.head()"
   ]
  },
  {
   "cell_type": "code",
   "execution_count": 10,
   "metadata": {},
   "outputs": [
    {
     "data": {
      "text/plain": [
       "[Text(0, 0.5, 'Max Loan Months'), Text(0.5, 0, 'Year')]"
      ]
     },
     "execution_count": 10,
     "metadata": {},
     "output_type": "execute_result"
    },
    {
     "data": {
      "image/png": "[encoded data removed]",
      "text/plain": [
       "<Figure size 640x320 with 1 Axes>"
      ]
     },
     "metadata": {},
     "output_type": "display_data"
    }
   ],
   "source": [
    "plt.figure(figsize=(8,4),dpi = 80)\n",
    "ax = sns.barplot(x = 'year', y = 'most_lenth_loan_months', data = svcg)\n",
    "ax.set(xlabel = 'Year', ylabel = 'Max Loan Months')"
   ]
  },
  {
   "cell_type": "code",
   "execution_count": 11,
   "metadata": {},
   "outputs": [
    {
     "data": {
      "text/plain": [
       "[Text(0, 0.5, 'Total REO percentale'), Text(0.5, 0, 'Year')]"
      ]
     },
     "execution_count": 11,
     "metadata": {},
     "output_type": "execute_result"
    },
    {
     "data": {
      "image/png": "[encoded data removed]",
      "text/plain": [
       "<Figure size 640x320 with 1 Axes>"
      ]
     },
     "metadata": {},
     "output_type": "display_data"
    }
   ],
   "source": [
    "plt.figure(figsize=(8,4),dpi = 80)\n",
    "ax = sns.barplot(x = 'year', y = 'total_reos_per_year_percent', data = svcg)\n",
    "ax.set(xlabel = 'Year', ylabel = 'Total REO percentale')"
   ]
  },
  {
   "cell_type": "code",
   "execution_count": 12,
   "metadata": {},
   "outputs": [
    {
     "data": {
      "image/png": "[encoded data removed]",
      "text/plain": [
       "<Figure size 640x320 with 1 Axes>"
      ]
     },
     "metadata": {},
     "output_type": "display_data"
    }
   ],
   "source": [
    "plt.figure(figsize=(8,4),dpi = 80)\n",
    "ax = sns.lineplot(x = 'year', y = 'avg_current_interest_rate', data = svcg)\n",
    "plt.yticks(np.arange(3,8,0.5))\n",
    "ax.set(xlabel = 'Year', ylabel = 'Average Current Interset Rate %')\n",
    "sns.despine()"
   ]
  },
  {
   "cell_type": "code",
   "execution_count": 13,
   "metadata": {},
   "outputs": [
    {
     "data": {
      "text/plain": [
       "Text(0.5, 1.0, 'Corrleation')"
      ]
     },
     "execution_count": 13,
     "metadata": {},
     "output_type": "execute_result"
    },
    {
     "data": {
      "image/png": "[encoded data removed]",
      "text/plain": [
       "<Figure size 480x480 with 2 Axes>"
      ]
     },
     "metadata": {},
     "output_type": "display_data"
    }
   ],
   "source": [
    "svcg_1 = svcg.iloc[:, [1,2,3,4,5,6]]\n",
    "corr = svcg_1.corr()\n",
    "plt.figure(figsize=(6,6),dpi = 80)\n",
    "ax = sns.heatmap(corr,cmap = \"coolwarm\",square = True, annot = True, fmt = ' .2f')\n",
    "ax.set_title('Corrleation',fontsize = 15,pad = 30)"
   ]
  },
  {
   "cell_type": "markdown",
   "metadata": {},
   "source": [
    "### Quarterly Analysis 2007,2008,2009"
   ]
  },
  {
   "cell_type": "code",
   "execution_count": 14,
   "metadata": {},
   "outputs": [],
   "source": [
    "orig_2007 = pd.read_csv('cleanFiles/sample_orig_2007.csv')\n",
    "svcg_2007 = pd.read_csv('cleanFiles/sample_svcg_2007.csv')\n",
    "\n",
    "orig_2007['quarter'] = orig_2007.loan_sequence_no.str[4:6]\n",
    "svcg_2007['quarter'] = svcg_2007.loan_sequence_no.str[4:6]"
   ]
  },
  {
   "cell_type": "markdown",
   "metadata": {},
   "source": [
    "#### Origination 2007"
   ]
  },
  {
   "cell_type": "code",
   "execution_count": 15,
   "metadata": {},
   "outputs": [
    {
     "data": {
      "text/html": [
       "<div>\n",
       "<style scoped>\n",
       "    .dataframe tbody tr th:only-of-type {\n",
       "        vertical-align: middle;\n",
       "    }\n",
       "\n",
       "    .dataframe tbody tr th {\n",
       "        vertical-align: top;\n",
       "    }\n",
       "\n",
       "    .dataframe thead th {\n",
       "        text-align: right;\n",
       "    }\n",
       "</style>\n",
       "<table border=\"1\" class=\"dataframe\">\n",
       "  <thead>\n",
       "    <tr style=\"text-align: right;\">\n",
       "      <th></th>\n",
       "      <th>credit_score</th>\n",
       "      <th>first_pay_date</th>\n",
       "      <th>first_time_homebuyer</th>\n",
       "      <th>maturity_date</th>\n",
       "      <th>msa</th>\n",
       "      <th>mi_percentage</th>\n",
       "      <th>no_of_units</th>\n",
       "      <th>occupance_status</th>\n",
       "      <th>original_cltv</th>\n",
       "      <th>original_dti_ratio</th>\n",
       "      <th>...</th>\n",
       "      <th>property_type</th>\n",
       "      <th>postal_code</th>\n",
       "      <th>loan_sequence_no</th>\n",
       "      <th>loan_purpose</th>\n",
       "      <th>original_loan_term</th>\n",
       "      <th>no_of_borrowers</th>\n",
       "      <th>seller_name</th>\n",
       "      <th>servicer_name</th>\n",
       "      <th>quarter</th>\n",
       "      <th>monthly_upb</th>\n",
       "    </tr>\n",
       "  </thead>\n",
       "  <tbody>\n",
       "    <tr>\n",
       "      <th>0</th>\n",
       "      <td>606.0</td>\n",
       "      <td>200703</td>\n",
       "      <td>N</td>\n",
       "      <td>203702</td>\n",
       "      <td>0.0</td>\n",
       "      <td>0.0</td>\n",
       "      <td>1.0</td>\n",
       "      <td>P</td>\n",
       "      <td>62.0</td>\n",
       "      <td>46.0</td>\n",
       "      <td>...</td>\n",
       "      <td>SF</td>\n",
       "      <td>99600</td>\n",
       "      <td>F107Q1000009</td>\n",
       "      <td>C</td>\n",
       "      <td>360</td>\n",
       "      <td>2</td>\n",
       "      <td>Other sellers</td>\n",
       "      <td>Other servicers</td>\n",
       "      <td>Q1</td>\n",
       "      <td>305.555556</td>\n",
       "    </tr>\n",
       "    <tr>\n",
       "      <th>1</th>\n",
       "      <td>712.0</td>\n",
       "      <td>200703</td>\n",
       "      <td>N</td>\n",
       "      <td>203702</td>\n",
       "      <td>0.0</td>\n",
       "      <td>0.0</td>\n",
       "      <td>1.0</td>\n",
       "      <td>P</td>\n",
       "      <td>48.0</td>\n",
       "      <td>15.0</td>\n",
       "      <td>...</td>\n",
       "      <td>SF</td>\n",
       "      <td>4500</td>\n",
       "      <td>F107Q1000019</td>\n",
       "      <td>C</td>\n",
       "      <td>360</td>\n",
       "      <td>2</td>\n",
       "      <td>Other sellers</td>\n",
       "      <td>Other servicers</td>\n",
       "      <td>Q1</td>\n",
       "      <td>472.222222</td>\n",
       "    </tr>\n",
       "    <tr>\n",
       "      <th>2</th>\n",
       "      <td>698.0</td>\n",
       "      <td>200704</td>\n",
       "      <td>N</td>\n",
       "      <td>203703</td>\n",
       "      <td>24020.0</td>\n",
       "      <td>0.0</td>\n",
       "      <td>1.0</td>\n",
       "      <td>I</td>\n",
       "      <td>75.0</td>\n",
       "      <td>50.0</td>\n",
       "      <td>...</td>\n",
       "      <td>SF</td>\n",
       "      <td>12800</td>\n",
       "      <td>F107Q1000028</td>\n",
       "      <td>C</td>\n",
       "      <td>360</td>\n",
       "      <td>2</td>\n",
       "      <td>Other sellers</td>\n",
       "      <td>Other servicers</td>\n",
       "      <td>Q1</td>\n",
       "      <td>225.000000</td>\n",
       "    </tr>\n",
       "    <tr>\n",
       "      <th>3</th>\n",
       "      <td>757.0</td>\n",
       "      <td>200703</td>\n",
       "      <td>N</td>\n",
       "      <td>203702</td>\n",
       "      <td>0.0</td>\n",
       "      <td>0.0</td>\n",
       "      <td>1.0</td>\n",
       "      <td>P</td>\n",
       "      <td>83.0</td>\n",
       "      <td>48.0</td>\n",
       "      <td>...</td>\n",
       "      <td>SF</td>\n",
       "      <td>42100</td>\n",
       "      <td>F107Q1000046</td>\n",
       "      <td>N</td>\n",
       "      <td>360</td>\n",
       "      <td>1</td>\n",
       "      <td>Other sellers</td>\n",
       "      <td>Other servicers</td>\n",
       "      <td>Q1</td>\n",
       "      <td>777.777778</td>\n",
       "    </tr>\n",
       "    <tr>\n",
       "      <th>4</th>\n",
       "      <td>761.0</td>\n",
       "      <td>200703</td>\n",
       "      <td>N</td>\n",
       "      <td>203702</td>\n",
       "      <td>24660.0</td>\n",
       "      <td>0.0</td>\n",
       "      <td>1.0</td>\n",
       "      <td>P</td>\n",
       "      <td>43.0</td>\n",
       "      <td>32.0</td>\n",
       "      <td>...</td>\n",
       "      <td>SF</td>\n",
       "      <td>27200</td>\n",
       "      <td>F107Q1000065</td>\n",
       "      <td>C</td>\n",
       "      <td>360</td>\n",
       "      <td>1</td>\n",
       "      <td>Other sellers</td>\n",
       "      <td>USBANKNA</td>\n",
       "      <td>Q1</td>\n",
       "      <td>416.666667</td>\n",
       "    </tr>\n",
       "  </tbody>\n",
       "</table>\n",
       "<p>5 rows × 27 columns</p>\n",
       "</div>"
      ],
      "text/plain": [
       "   credit_score  first_pay_date first_time_homebuyer  maturity_date      msa  \\\n",
       "0         606.0          200703                    N         203702      0.0   \n",
       "1         712.0          200703                    N         203702      0.0   \n",
       "2         698.0          200704                    N         203703  24020.0   \n",
       "3         757.0          200703                    N         203702      0.0   \n",
       "4         761.0          200703                    N         203702  24660.0   \n",
       "\n",
       "   mi_percentage  no_of_units occupance_status  original_cltv  \\\n",
       "0            0.0          1.0                P           62.0   \n",
       "1            0.0          1.0                P           48.0   \n",
       "2            0.0          1.0                I           75.0   \n",
       "3            0.0          1.0                P           83.0   \n",
       "4            0.0          1.0                P           43.0   \n",
       "\n",
       "   original_dti_ratio     ...      property_type  postal_code  \\\n",
       "0                46.0     ...                 SF        99600   \n",
       "1                15.0     ...                 SF         4500   \n",
       "2                50.0     ...                 SF        12800   \n",
       "3                48.0     ...                 SF        42100   \n",
       "4                32.0     ...                 SF        27200   \n",
       "\n",
       "   loan_sequence_no loan_purpose original_loan_term no_of_borrowers  \\\n",
       "0      F107Q1000009            C                360               2   \n",
       "1      F107Q1000019            C                360               2   \n",
       "2      F107Q1000028            C                360               2   \n",
       "3      F107Q1000046            N                360               1   \n",
       "4      F107Q1000065            C                360               1   \n",
       "\n",
       "     seller_name    servicer_name  quarter monthly_upb  \n",
       "0  Other sellers  Other servicers       Q1  305.555556  \n",
       "1  Other sellers  Other servicers       Q1  472.222222  \n",
       "2  Other sellers  Other servicers       Q1  225.000000  \n",
       "3  Other sellers  Other servicers       Q1  777.777778  \n",
       "4  Other sellers         USBANKNA       Q1  416.666667  \n",
       "\n",
       "[5 rows x 27 columns]"
      ]
     },
     "execution_count": 15,
     "metadata": {},
     "output_type": "execute_result"
    }
   ],
   "source": [
    "# create new col for analysis\n",
    "orig_2007['monthly_upb'] = orig_2007['original_upb']/orig_2007['original_loan_term']\n",
    "orig_2007.head()"
   ]
  },
  {
   "cell_type": "code",
   "execution_count": 16,
   "metadata": {},
   "outputs": [
    {
     "data": {
      "text/plain": [
       "Text(0.5, 1.0, '2007 UPB Quarterly Analysis')"
      ]
     },
     "execution_count": 16,
     "metadata": {},
     "output_type": "execute_result"
    },
    {
     "data": {
      "image/png": "[encoded data removed]",
      "text/plain": [
       "<Figure size 640x400 with 1 Axes>"
      ]
     },
     "metadata": {},
     "output_type": "display_data"
    }
   ],
   "source": [
    "plt.figure(figsize=(8,5),dpi = 80)\n",
    "ax = sns.boxplot(x=\"quarter\", y=\"monthly_upb\",showfliers=False,width = 0.5,data=orig_2007)\n",
    "ax.set(xlabel = 'Quarter',ylabel = 'Monthly_UPB')\n",
    "ax.set_title('2007 UPB Quarterly Analysis',fontsize = 15,pad = 30)"
   ]
  },
  {
   "cell_type": "code",
   "execution_count": 17,
   "metadata": {},
   "outputs": [
    {
     "data": {
      "text/html": [
       "<div>\n",
       "<style scoped>\n",
       "    .dataframe tbody tr th:only-of-type {\n",
       "        vertical-align: middle;\n",
       "    }\n",
       "\n",
       "    .dataframe tbody tr th {\n",
       "        vertical-align: top;\n",
       "    }\n",
       "\n",
       "    .dataframe thead th {\n",
       "        text-align: right;\n",
       "    }\n",
       "</style>\n",
       "<table border=\"1\" class=\"dataframe\">\n",
       "  <thead>\n",
       "    <tr style=\"text-align: right;\">\n",
       "      <th></th>\n",
       "      <th>quarter</th>\n",
       "      <th>credit_score</th>\n",
       "      <th>original_dti_ratio</th>\n",
       "    </tr>\n",
       "  </thead>\n",
       "  <tbody>\n",
       "    <tr>\n",
       "      <th>0</th>\n",
       "      <td>Q1</td>\n",
       "      <td>730.92184</td>\n",
       "      <td>53.94480</td>\n",
       "    </tr>\n",
       "    <tr>\n",
       "      <th>1</th>\n",
       "      <td>Q2</td>\n",
       "      <td>729.26544</td>\n",
       "      <td>59.01936</td>\n",
       "    </tr>\n",
       "    <tr>\n",
       "      <th>2</th>\n",
       "      <td>Q3</td>\n",
       "      <td>726.15128</td>\n",
       "      <td>65.00088</td>\n",
       "    </tr>\n",
       "    <tr>\n",
       "      <th>3</th>\n",
       "      <td>Q4</td>\n",
       "      <td>727.50760</td>\n",
       "      <td>68.53744</td>\n",
       "    </tr>\n",
       "  </tbody>\n",
       "</table>\n",
       "</div>"
      ],
      "text/plain": [
       "  quarter  credit_score  original_dti_ratio\n",
       "0      Q1     730.92184            53.94480\n",
       "1      Q2     729.26544            59.01936\n",
       "2      Q3     726.15128            65.00088\n",
       "3      Q4     727.50760            68.53744"
      ]
     },
     "execution_count": 17,
     "metadata": {},
     "output_type": "execute_result"
    }
   ],
   "source": [
    "cs2007 = orig_2007.groupby([\"quarter\"])['credit_score','original_dti_ratio'].mean().reset_index()\n",
    "cs2007"
   ]
  },
  {
   "cell_type": "code",
   "execution_count": 18,
   "metadata": {},
   "outputs": [
    {
     "data": {
      "image/png": "[encoded data removed]",
      "text/plain": [
       "<Figure size 960x320 with 2 Axes>"
      ]
     },
     "metadata": {},
     "output_type": "display_data"
    }
   ],
   "source": [
    "plt.figure(figsize=(12,4),dpi = 80)\n",
    "plt.subplot(1,2,1)\n",
    "ax1 = sns.lineplot(x = 'quarter', y = 'credit_score', data = cs2007)\n",
    "ax1.set(xlabel = 'Quarter',ylabel = 'Credit Score')\n",
    "plt.subplot(1,2,2)\n",
    "ax2 = sns.lineplot(x = 'quarter', y = 'original_dti_ratio', data = cs2007,color='r')\n",
    "ax2.set(xlabel = 'Quarter',ylabel = 'Original DTI Ratio')\n",
    "sns.despine()"
   ]
  },
  {
   "cell_type": "code",
   "execution_count": 19,
   "metadata": {},
   "outputs": [
    {
     "data": {
      "text/html": [
       "<div>\n",
       "<style scoped>\n",
       "    .dataframe tbody tr th:only-of-type {\n",
       "        vertical-align: middle;\n",
       "    }\n",
       "\n",
       "    .dataframe tbody tr th {\n",
       "        vertical-align: top;\n",
       "    }\n",
       "\n",
       "    .dataframe thead th {\n",
       "        text-align: right;\n",
       "    }\n",
       "</style>\n",
       "<table border=\"1\" class=\"dataframe\">\n",
       "  <thead>\n",
       "    <tr style=\"text-align: right;\">\n",
       "      <th>first_time_homebuyer</th>\n",
       "      <th>quarter</th>\n",
       "      <th>9</th>\n",
       "      <th>N</th>\n",
       "      <th>Y</th>\n",
       "    </tr>\n",
       "  </thead>\n",
       "  <tbody>\n",
       "    <tr>\n",
       "      <th>0</th>\n",
       "      <td>Q1</td>\n",
       "      <td>941</td>\n",
       "      <td>10379</td>\n",
       "      <td>1180</td>\n",
       "    </tr>\n",
       "    <tr>\n",
       "      <th>1</th>\n",
       "      <td>Q2</td>\n",
       "      <td>783</td>\n",
       "      <td>10191</td>\n",
       "      <td>1526</td>\n",
       "    </tr>\n",
       "    <tr>\n",
       "      <th>2</th>\n",
       "      <td>Q3</td>\n",
       "      <td>662</td>\n",
       "      <td>10099</td>\n",
       "      <td>1739</td>\n",
       "    </tr>\n",
       "    <tr>\n",
       "      <th>3</th>\n",
       "      <td>Q4</td>\n",
       "      <td>1111</td>\n",
       "      <td>10081</td>\n",
       "      <td>1308</td>\n",
       "    </tr>\n",
       "  </tbody>\n",
       "</table>\n",
       "</div>"
      ],
      "text/plain": [
       "first_time_homebuyer quarter     9      N     Y\n",
       "0                         Q1   941  10379  1180\n",
       "1                         Q2   783  10191  1526\n",
       "2                         Q3   662  10099  1739\n",
       "3                         Q4  1111  10081  1308"
      ]
     },
     "execution_count": 19,
     "metadata": {},
     "output_type": "execute_result"
    }
   ],
   "source": [
    "fthb_2007 = pd.pivot_table(orig_2007,index='quarter', values = 'credit_score',columns='first_time_homebuyer',aggfunc='count').reset_index()\n",
    "fthb_2007"
   ]
  },
  {
   "cell_type": "code",
   "execution_count": 20,
   "metadata": {},
   "outputs": [
    {
     "data": {
      "text/html": [
       "<div>\n",
       "<style scoped>\n",
       "    .dataframe tbody tr th:only-of-type {\n",
       "        vertical-align: middle;\n",
       "    }\n",
       "\n",
       "    .dataframe tbody tr th {\n",
       "        vertical-align: top;\n",
       "    }\n",
       "\n",
       "    .dataframe thead th {\n",
       "        text-align: right;\n",
       "    }\n",
       "</style>\n",
       "<table border=\"1\" class=\"dataframe\">\n",
       "  <thead>\n",
       "    <tr style=\"text-align: right;\">\n",
       "      <th>first_time_homebuyer</th>\n",
       "      <th>quarter</th>\n",
       "      <th>9</th>\n",
       "      <th>N</th>\n",
       "      <th>Y</th>\n",
       "      <th>percentage</th>\n",
       "    </tr>\n",
       "  </thead>\n",
       "  <tbody>\n",
       "    <tr>\n",
       "      <th>0</th>\n",
       "      <td>Q1</td>\n",
       "      <td>941</td>\n",
       "      <td>10379</td>\n",
       "      <td>1180</td>\n",
       "      <td>9.440</td>\n",
       "    </tr>\n",
       "    <tr>\n",
       "      <th>1</th>\n",
       "      <td>Q2</td>\n",
       "      <td>783</td>\n",
       "      <td>10191</td>\n",
       "      <td>1526</td>\n",
       "      <td>12.208</td>\n",
       "    </tr>\n",
       "    <tr>\n",
       "      <th>2</th>\n",
       "      <td>Q3</td>\n",
       "      <td>662</td>\n",
       "      <td>10099</td>\n",
       "      <td>1739</td>\n",
       "      <td>13.912</td>\n",
       "    </tr>\n",
       "    <tr>\n",
       "      <th>3</th>\n",
       "      <td>Q4</td>\n",
       "      <td>1111</td>\n",
       "      <td>10081</td>\n",
       "      <td>1308</td>\n",
       "      <td>10.464</td>\n",
       "    </tr>\n",
       "  </tbody>\n",
       "</table>\n",
       "</div>"
      ],
      "text/plain": [
       "first_time_homebuyer quarter     9      N     Y  percentage\n",
       "0                         Q1   941  10379  1180       9.440\n",
       "1                         Q2   783  10191  1526      12.208\n",
       "2                         Q3   662  10099  1739      13.912\n",
       "3                         Q4  1111  10081  1308      10.464"
      ]
     },
     "execution_count": 20,
     "metadata": {},
     "output_type": "execute_result"
    }
   ],
   "source": [
    "fthb_2007['percentage'] = fthb_2007['Y']/fthb_2007.sum(axis=1) * 100\n",
    "fthb_2007"
   ]
  },
  {
   "cell_type": "code",
   "execution_count": 21,
   "metadata": {},
   "outputs": [
    {
     "data": {
      "text/plain": [
       "[Text(0, 0.5, 'Total First Time Home Buyer percentale'),\n",
       " Text(0.5, 0, 'Quarter')]"
      ]
     },
     "execution_count": 21,
     "metadata": {},
     "output_type": "execute_result"
    },
    {
     "data": {
      "image/png": "[encoded data removed]",
      "text/plain": [
       "<Figure size 320x240 with 1 Axes>"
      ]
     },
     "metadata": {},
     "output_type": "display_data"
    }
   ],
   "source": [
    "plt.figure(figsize=(4,3),dpi = 80)\n",
    "ax = sns.barplot(x ='quarter',y ='percentage',data = fthb_2007 )\n",
    "vals = ax.get_yticks()\n",
    "ax.set_yticklabels(['{:3.1f}%'.format(x) for x in vals])\n",
    "ax.set(xlabel = 'Quarter', ylabel = 'Total First Time Home Buyer percentale')"
   ]
  },
  {
   "cell_type": "code",
   "execution_count": 22,
   "metadata": {},
   "outputs": [
    {
     "data": {
      "text/html": [
       "<div>\n",
       "<style scoped>\n",
       "    .dataframe tbody tr th:only-of-type {\n",
       "        vertical-align: middle;\n",
       "    }\n",
       "\n",
       "    .dataframe tbody tr th {\n",
       "        vertical-align: top;\n",
       "    }\n",
       "\n",
       "    .dataframe thead th {\n",
       "        text-align: right;\n",
       "    }\n",
       "</style>\n",
       "<table border=\"1\" class=\"dataframe\">\n",
       "  <thead>\n",
       "    <tr style=\"text-align: right;\">\n",
       "      <th>quarter</th>\n",
       "      <th>property_state</th>\n",
       "      <th>Q1</th>\n",
       "      <th>Q2</th>\n",
       "      <th>Q3</th>\n",
       "      <th>Q4</th>\n",
       "    </tr>\n",
       "  </thead>\n",
       "  <tbody>\n",
       "    <tr>\n",
       "      <th>0</th>\n",
       "      <td>AK</td>\n",
       "      <td>29.0</td>\n",
       "      <td>35.0</td>\n",
       "      <td>35.0</td>\n",
       "      <td>34.0</td>\n",
       "    </tr>\n",
       "    <tr>\n",
       "      <th>1</th>\n",
       "      <td>AL</td>\n",
       "      <td>195.0</td>\n",
       "      <td>178.0</td>\n",
       "      <td>204.0</td>\n",
       "      <td>171.0</td>\n",
       "    </tr>\n",
       "    <tr>\n",
       "      <th>2</th>\n",
       "      <td>AR</td>\n",
       "      <td>118.0</td>\n",
       "      <td>140.0</td>\n",
       "      <td>147.0</td>\n",
       "      <td>113.0</td>\n",
       "    </tr>\n",
       "    <tr>\n",
       "      <th>3</th>\n",
       "      <td>AZ</td>\n",
       "      <td>378.0</td>\n",
       "      <td>344.0</td>\n",
       "      <td>334.0</td>\n",
       "      <td>346.0</td>\n",
       "    </tr>\n",
       "    <tr>\n",
       "      <th>4</th>\n",
       "      <td>CA</td>\n",
       "      <td>922.0</td>\n",
       "      <td>846.0</td>\n",
       "      <td>776.0</td>\n",
       "      <td>1207.0</td>\n",
       "    </tr>\n",
       "  </tbody>\n",
       "</table>\n",
       "</div>"
      ],
      "text/plain": [
       "quarter property_state     Q1     Q2     Q3      Q4\n",
       "0                   AK   29.0   35.0   35.0    34.0\n",
       "1                   AL  195.0  178.0  204.0   171.0\n",
       "2                   AR  118.0  140.0  147.0   113.0\n",
       "3                   AZ  378.0  344.0  334.0   346.0\n",
       "4                   CA  922.0  846.0  776.0  1207.0"
      ]
     },
     "execution_count": 22,
     "metadata": {},
     "output_type": "execute_result"
    }
   ],
   "source": [
    "ps_2007 = pd.pivot_table(orig_2007,index='property_state', values = 'credit_score',columns='quarter',aggfunc='count').reset_index()\n",
    "ps_2007.head()"
   ]
  },
  {
   "cell_type": "code",
   "execution_count": 23,
   "metadata": {},
   "outputs": [
    {
     "data": {
      "text/plain": [
       "[Text(0, 0.5, 'Number of loan'), Text(0.5, 0, 'State')]"
      ]
     },
     "execution_count": 23,
     "metadata": {},
     "output_type": "execute_result"
    },
    {
     "data": {
      "image/png": "[encoded data removed]",
      "text/plain": [
       "<Figure size 1296x576 with 1 Axes>"
      ]
     },
     "metadata": {},
     "output_type": "display_data"
    }
   ],
   "source": [
    "ax = ps_2007.plot(kind = 'bar', figsize = (18,8),stacked=True)\n",
    "state_name = ps_2007['property_state']\n",
    "ax.set_xticklabels(state_name, rotation='vertical', fontsize=13)\n",
    "ax.set(xlabel = 'State', ylabel = 'Number of loan')"
   ]
  },
  {
   "cell_type": "code",
   "execution_count": 24,
   "metadata": {},
   "outputs": [
    {
     "data": {
      "text/html": [
       "<div>\n",
       "<style scoped>\n",
       "    .dataframe tbody tr th:only-of-type {\n",
       "        vertical-align: middle;\n",
       "    }\n",
       "\n",
       "    .dataframe tbody tr th {\n",
       "        vertical-align: top;\n",
       "    }\n",
       "\n",
       "    .dataframe thead th {\n",
       "        text-align: right;\n",
       "    }\n",
       "</style>\n",
       "<table border=\"1\" class=\"dataframe\">\n",
       "  <thead>\n",
       "    <tr style=\"text-align: right;\">\n",
       "      <th>quarter</th>\n",
       "      <th>seller_name</th>\n",
       "      <th>Q1</th>\n",
       "      <th>Q2</th>\n",
       "      <th>Q3</th>\n",
       "      <th>Q4</th>\n",
       "    </tr>\n",
       "  </thead>\n",
       "  <tbody>\n",
       "    <tr>\n",
       "      <th>0</th>\n",
       "      <td>ABNAMRO,NKACITIMORTG</td>\n",
       "      <td>NaN</td>\n",
       "      <td>NaN</td>\n",
       "      <td>413.0</td>\n",
       "      <td>205.0</td>\n",
       "    </tr>\n",
       "    <tr>\n",
       "      <th>1</th>\n",
       "      <td>ABNAMROMTGEGROUP,INC</td>\n",
       "      <td>1011.0</td>\n",
       "      <td>655.0</td>\n",
       "      <td>NaN</td>\n",
       "      <td>NaN</td>\n",
       "    </tr>\n",
       "    <tr>\n",
       "      <th>2</th>\n",
       "      <td>AMTRUSTBANK</td>\n",
       "      <td>NaN</td>\n",
       "      <td>NaN</td>\n",
       "      <td>130.0</td>\n",
       "      <td>199.0</td>\n",
       "    </tr>\n",
       "    <tr>\n",
       "      <th>3</th>\n",
       "      <td>BANKOFAMERICA,NA</td>\n",
       "      <td>908.0</td>\n",
       "      <td>1151.0</td>\n",
       "      <td>1310.0</td>\n",
       "      <td>1178.0</td>\n",
       "    </tr>\n",
       "    <tr>\n",
       "      <th>4</th>\n",
       "      <td>BRANCHBANKING&amp;TRUSTC</td>\n",
       "      <td>164.0</td>\n",
       "      <td>189.0</td>\n",
       "      <td>339.0</td>\n",
       "      <td>352.0</td>\n",
       "    </tr>\n",
       "  </tbody>\n",
       "</table>\n",
       "</div>"
      ],
      "text/plain": [
       "quarter           seller_name      Q1      Q2      Q3      Q4\n",
       "0        ABNAMRO,NKACITIMORTG     NaN     NaN   413.0   205.0\n",
       "1        ABNAMROMTGEGROUP,INC  1011.0   655.0     NaN     NaN\n",
       "2                 AMTRUSTBANK     NaN     NaN   130.0   199.0\n",
       "3            BANKOFAMERICA,NA   908.0  1151.0  1310.0  1178.0\n",
       "4        BRANCHBANKING&TRUSTC   164.0   189.0   339.0   352.0"
      ]
     },
     "execution_count": 24,
     "metadata": {},
     "output_type": "execute_result"
    }
   ],
   "source": [
    "seller_2007 = pd.pivot_table(orig_2007,index='seller_name', values = 'credit_score',columns='quarter',aggfunc='count').reset_index()\n",
    "seller_2007.head()"
   ]
  },
  {
   "cell_type": "code",
   "execution_count": 25,
   "metadata": {},
   "outputs": [
    {
     "data": {
      "text/plain": [
       "[Text(0, 0.5, 'Number of loan'), Text(0.5, 0, 'Seller')]"
      ]
     },
     "execution_count": 25,
     "metadata": {},
     "output_type": "execute_result"
    },
    {
     "data": {
      "image/png": "[encoded data removed]",
      "text/plain": [
       "<Figure size 1296x576 with 1 Axes>"
      ]
     },
     "metadata": {},
     "output_type": "display_data"
    }
   ],
   "source": [
    "ax = seller_2007.plot(kind = 'bar', figsize = (18,8),stacked=True)\n",
    "seller_name = seller_2007['seller_name']\n",
    "ax.set_xticklabels(seller_name, rotation='vertical', fontsize=13)\n",
    "ax.set(xlabel = 'Seller', ylabel = 'Number of loan')"
   ]
  },
  {
   "cell_type": "markdown",
   "metadata": {},
   "source": [
    "#### Performance 2007"
   ]
  },
  {
   "cell_type": "code",
   "execution_count": 26,
   "metadata": {},
   "outputs": [
    {
     "data": {
      "text/html": [
       "<div>\n",
       "<style scoped>\n",
       "    .dataframe tbody tr th:only-of-type {\n",
       "        vertical-align: middle;\n",
       "    }\n",
       "\n",
       "    .dataframe tbody tr th {\n",
       "        vertical-align: top;\n",
       "    }\n",
       "\n",
       "    .dataframe thead th {\n",
       "        text-align: right;\n",
       "    }\n",
       "</style>\n",
       "<table border=\"1\" class=\"dataframe\">\n",
       "  <thead>\n",
       "    <tr style=\"text-align: right;\">\n",
       "      <th></th>\n",
       "      <th>loan_sequence_no</th>\n",
       "      <th>monthly_reporting_period</th>\n",
       "      <th>current_actual_upb</th>\n",
       "      <th>current_loan_delinquency_status</th>\n",
       "      <th>loan_age</th>\n",
       "      <th>remaning_months_on_legal_maturity</th>\n",
       "      <th>zero_bal_code</th>\n",
       "      <th>current_interest_rate</th>\n",
       "      <th>current_deferred_upb</th>\n",
       "      <th>estimated_loan_to_value</th>\n",
       "      <th>quarter</th>\n",
       "    </tr>\n",
       "  </thead>\n",
       "  <tbody>\n",
       "    <tr>\n",
       "      <th>0</th>\n",
       "      <td>F107Q1000009</td>\n",
       "      <td>200702</td>\n",
       "      <td>110000.0</td>\n",
       "      <td>0</td>\n",
       "      <td>0</td>\n",
       "      <td>360</td>\n",
       "      <td>NaN</td>\n",
       "      <td>6.375</td>\n",
       "      <td>0.0</td>\n",
       "      <td>0.0</td>\n",
       "      <td>Q1</td>\n",
       "    </tr>\n",
       "    <tr>\n",
       "      <th>1</th>\n",
       "      <td>F107Q1000009</td>\n",
       "      <td>200703</td>\n",
       "      <td>110000.0</td>\n",
       "      <td>0</td>\n",
       "      <td>1</td>\n",
       "      <td>359</td>\n",
       "      <td>NaN</td>\n",
       "      <td>6.375</td>\n",
       "      <td>0.0</td>\n",
       "      <td>0.0</td>\n",
       "      <td>Q1</td>\n",
       "    </tr>\n",
       "    <tr>\n",
       "      <th>2</th>\n",
       "      <td>F107Q1000009</td>\n",
       "      <td>200704</td>\n",
       "      <td>110000.0</td>\n",
       "      <td>0</td>\n",
       "      <td>2</td>\n",
       "      <td>358</td>\n",
       "      <td>NaN</td>\n",
       "      <td>6.375</td>\n",
       "      <td>0.0</td>\n",
       "      <td>0.0</td>\n",
       "      <td>Q1</td>\n",
       "    </tr>\n",
       "    <tr>\n",
       "      <th>3</th>\n",
       "      <td>F107Q1000009</td>\n",
       "      <td>200705</td>\n",
       "      <td>110000.0</td>\n",
       "      <td>0</td>\n",
       "      <td>3</td>\n",
       "      <td>357</td>\n",
       "      <td>NaN</td>\n",
       "      <td>6.375</td>\n",
       "      <td>0.0</td>\n",
       "      <td>0.0</td>\n",
       "      <td>Q1</td>\n",
       "    </tr>\n",
       "    <tr>\n",
       "      <th>4</th>\n",
       "      <td>F107Q1000009</td>\n",
       "      <td>200706</td>\n",
       "      <td>110000.0</td>\n",
       "      <td>0</td>\n",
       "      <td>4</td>\n",
       "      <td>356</td>\n",
       "      <td>NaN</td>\n",
       "      <td>6.375</td>\n",
       "      <td>0.0</td>\n",
       "      <td>0.0</td>\n",
       "      <td>Q1</td>\n",
       "    </tr>\n",
       "  </tbody>\n",
       "</table>\n",
       "</div>"
      ],
      "text/plain": [
       "  loan_sequence_no  monthly_reporting_period  current_actual_upb  \\\n",
       "0     F107Q1000009                    200702            110000.0   \n",
       "1     F107Q1000009                    200703            110000.0   \n",
       "2     F107Q1000009                    200704            110000.0   \n",
       "3     F107Q1000009                    200705            110000.0   \n",
       "4     F107Q1000009                    200706            110000.0   \n",
       "\n",
       "  current_loan_delinquency_status  loan_age  \\\n",
       "0                               0         0   \n",
       "1                               0         1   \n",
       "2                               0         2   \n",
       "3                               0         3   \n",
       "4                               0         4   \n",
       "\n",
       "   remaning_months_on_legal_maturity  zero_bal_code  current_interest_rate  \\\n",
       "0                                360            NaN                  6.375   \n",
       "1                                359            NaN                  6.375   \n",
       "2                                358            NaN                  6.375   \n",
       "3                                357            NaN                  6.375   \n",
       "4                                356            NaN                  6.375   \n",
       "\n",
       "   current_deferred_upb  estimated_loan_to_value quarter  \n",
       "0                   0.0                      0.0      Q1  \n",
       "1                   0.0                      0.0      Q1  \n",
       "2                   0.0                      0.0      Q1  \n",
       "3                   0.0                      0.0      Q1  \n",
       "4                   0.0                      0.0      Q1  "
      ]
     },
     "execution_count": 26,
     "metadata": {},
     "output_type": "execute_result"
    }
   ],
   "source": [
    "svcg_2007.head()"
   ]
  },
  {
   "cell_type": "code",
   "execution_count": 27,
   "metadata": {},
   "outputs": [],
   "source": [
    "svcg_2007[\"current_loan_delinquency_status\"] = svcg_2007[\"current_loan_delinquency_status\"].astype(str)"
   ]
  },
  {
   "cell_type": "code",
   "execution_count": 28,
   "metadata": {},
   "outputs": [
    {
     "data": {
      "text/html": [
       "<div>\n",
       "<style scoped>\n",
       "    .dataframe tbody tr th:only-of-type {\n",
       "        vertical-align: middle;\n",
       "    }\n",
       "\n",
       "    .dataframe tbody tr th {\n",
       "        vertical-align: top;\n",
       "    }\n",
       "\n",
       "    .dataframe thead th {\n",
       "        text-align: right;\n",
       "    }\n",
       "</style>\n",
       "<table border=\"1\" class=\"dataframe\">\n",
       "  <thead>\n",
       "    <tr style=\"text-align: right;\">\n",
       "      <th>current_loan_delinquency_status</th>\n",
       "      <th>quarter</th>\n",
       "      <th>0</th>\n",
       "      <th>sum</th>\n",
       "      <th>delinquency_rate</th>\n",
       "    </tr>\n",
       "  </thead>\n",
       "  <tbody>\n",
       "    <tr>\n",
       "      <th>0</th>\n",
       "      <td>Q1</td>\n",
       "      <td>683740.0</td>\n",
       "      <td>742881.0</td>\n",
       "      <td>92.038967</td>\n",
       "    </tr>\n",
       "    <tr>\n",
       "      <th>1</th>\n",
       "      <td>Q2</td>\n",
       "      <td>666030.0</td>\n",
       "      <td>730901.0</td>\n",
       "      <td>91.124516</td>\n",
       "    </tr>\n",
       "    <tr>\n",
       "      <th>2</th>\n",
       "      <td>Q3</td>\n",
       "      <td>578140.0</td>\n",
       "      <td>639798.0</td>\n",
       "      <td>90.362896</td>\n",
       "    </tr>\n",
       "    <tr>\n",
       "      <th>3</th>\n",
       "      <td>Q4</td>\n",
       "      <td>592863.0</td>\n",
       "      <td>661076.0</td>\n",
       "      <td>89.681519</td>\n",
       "    </tr>\n",
       "  </tbody>\n",
       "</table>\n",
       "</div>"
      ],
      "text/plain": [
       "current_loan_delinquency_status quarter         0       sum  delinquency_rate\n",
       "0                                    Q1  683740.0  742881.0         92.038967\n",
       "1                                    Q2  666030.0  730901.0         91.124516\n",
       "2                                    Q3  578140.0  639798.0         90.362896\n",
       "3                                    Q4  592863.0  661076.0         89.681519"
      ]
     },
     "execution_count": 28,
     "metadata": {},
     "output_type": "execute_result"
    }
   ],
   "source": [
    "delinquency_2007 = pd.pivot_table(svcg_2007,index=['quarter'],values = 'loan_age',columns='current_loan_delinquency_status',aggfunc='count').reset_index()\n",
    "delinquency_2007['sum'] = delinquency_2007.sum(axis=1)\n",
    "delinquency_2007['delinquency_rate'] = delinquency_2007['0']/delinquency_2007['sum'] *100\n",
    "delinquency_2007 = delinquency_2007[['quarter','0','sum','delinquency_rate']]\n",
    "delinquency_2007.head()"
   ]
  },
  {
   "cell_type": "code",
   "execution_count": 29,
   "metadata": {},
   "outputs": [
    {
     "data": {
      "image/png": "[encoded data removed]",
      "text/plain": [
       "<Figure size 400x240 with 1 Axes>"
      ]
     },
     "metadata": {},
     "output_type": "display_data"
    }
   ],
   "source": [
    "plt.figure(figsize=(5,3),dpi = 80)\n",
    "ax = sns.lineplot(x = 'quarter', y = 'delinquency_rate', data = delinquency_2007)\n",
    "ax.set(xlabel = 'Quarter', ylabel = 'Deliquency Rate %')\n",
    "vals = ax.get_yticks()\n",
    "ax.set_yticklabels(['{:3.1f}%'.format(x) for x in vals])\n",
    "sns.despine()"
   ]
  },
  {
   "cell_type": "code",
   "execution_count": 30,
   "metadata": {},
   "outputs": [
    {
     "data": {
      "text/plain": [
       "44854"
      ]
     },
     "execution_count": 30,
     "metadata": {},
     "output_type": "execute_result"
    }
   ],
   "source": [
    "svcg_2007[svcg_2007.current_actual_upb <=0][\"current_actual_upb\"].count()"
   ]
  },
  {
   "cell_type": "code",
   "execution_count": 31,
   "metadata": {},
   "outputs": [
    {
     "data": {
      "text/html": [
       "<div>\n",
       "<style scoped>\n",
       "    .dataframe tbody tr th:only-of-type {\n",
       "        vertical-align: middle;\n",
       "    }\n",
       "\n",
       "    .dataframe tbody tr th {\n",
       "        vertical-align: top;\n",
       "    }\n",
       "\n",
       "    .dataframe thead th {\n",
       "        text-align: right;\n",
       "    }\n",
       "</style>\n",
       "<table border=\"1\" class=\"dataframe\">\n",
       "  <thead>\n",
       "    <tr style=\"text-align: right;\">\n",
       "      <th>zero_bal_code</th>\n",
       "      <th>quarter</th>\n",
       "      <th>1.0</th>\n",
       "      <th>2.0</th>\n",
       "      <th>3.0</th>\n",
       "      <th>6.0</th>\n",
       "      <th>9.0</th>\n",
       "      <th>15.0</th>\n",
       "    </tr>\n",
       "  </thead>\n",
       "  <tbody>\n",
       "    <tr>\n",
       "      <th>0</th>\n",
       "      <td>Q1</td>\n",
       "      <td>10029</td>\n",
       "      <td>134</td>\n",
       "      <td>276</td>\n",
       "      <td>86</td>\n",
       "      <td>606</td>\n",
       "      <td>99</td>\n",
       "    </tr>\n",
       "    <tr>\n",
       "      <th>1</th>\n",
       "      <td>Q2</td>\n",
       "      <td>9847</td>\n",
       "      <td>134</td>\n",
       "      <td>296</td>\n",
       "      <td>117</td>\n",
       "      <td>630</td>\n",
       "      <td>101</td>\n",
       "    </tr>\n",
       "    <tr>\n",
       "      <th>2</th>\n",
       "      <td>Q3</td>\n",
       "      <td>10002</td>\n",
       "      <td>119</td>\n",
       "      <td>277</td>\n",
       "      <td>145</td>\n",
       "      <td>660</td>\n",
       "      <td>93</td>\n",
       "    </tr>\n",
       "    <tr>\n",
       "      <th>3</th>\n",
       "      <td>Q4</td>\n",
       "      <td>9821</td>\n",
       "      <td>156</td>\n",
       "      <td>299</td>\n",
       "      <td>131</td>\n",
       "      <td>654</td>\n",
       "      <td>141</td>\n",
       "    </tr>\n",
       "  </tbody>\n",
       "</table>\n",
       "</div>"
      ],
      "text/plain": [
       "zero_bal_code quarter    1.0  2.0  3.0  6.0  9.0  15.0\n",
       "0                  Q1  10029  134  276   86  606    99\n",
       "1                  Q2   9847  134  296  117  630   101\n",
       "2                  Q3  10002  119  277  145  660    93\n",
       "3                  Q4   9821  156  299  131  654   141"
      ]
     },
     "execution_count": 31,
     "metadata": {},
     "output_type": "execute_result"
    }
   ],
   "source": [
    "upb_2007 = pd.pivot_table(svcg_2007,index=['quarter'],values = 'loan_age',columns='zero_bal_code',aggfunc='count').reset_index()\n",
    "upb_2007"
   ]
  },
  {
   "cell_type": "code",
   "execution_count": 32,
   "metadata": {},
   "outputs": [
    {
     "data": {
      "text/html": [
       "<div>\n",
       "<style scoped>\n",
       "    .dataframe tbody tr th:only-of-type {\n",
       "        vertical-align: middle;\n",
       "    }\n",
       "\n",
       "    .dataframe tbody tr th {\n",
       "        vertical-align: top;\n",
       "    }\n",
       "\n",
       "    .dataframe thead th {\n",
       "        text-align: right;\n",
       "    }\n",
       "</style>\n",
       "<table border=\"1\" class=\"dataframe\">\n",
       "  <thead>\n",
       "    <tr style=\"text-align: right;\">\n",
       "      <th></th>\n",
       "      <th>quarter</th>\n",
       "      <th>loan_sequence_no</th>\n",
       "    </tr>\n",
       "  </thead>\n",
       "  <tbody>\n",
       "    <tr>\n",
       "      <th>0</th>\n",
       "      <td>Q1</td>\n",
       "      <td>12500</td>\n",
       "    </tr>\n",
       "    <tr>\n",
       "      <th>1</th>\n",
       "      <td>Q2</td>\n",
       "      <td>12499</td>\n",
       "    </tr>\n",
       "    <tr>\n",
       "      <th>2</th>\n",
       "      <td>Q3</td>\n",
       "      <td>12500</td>\n",
       "    </tr>\n",
       "    <tr>\n",
       "      <th>3</th>\n",
       "      <td>Q4</td>\n",
       "      <td>12497</td>\n",
       "    </tr>\n",
       "  </tbody>\n",
       "</table>\n",
       "</div>"
      ],
      "text/plain": [
       "  quarter  loan_sequence_no\n",
       "0      Q1             12500\n",
       "1      Q2             12499\n",
       "2      Q3             12500\n",
       "3      Q4             12497"
      ]
     },
     "execution_count": 32,
     "metadata": {},
     "output_type": "execute_result"
    }
   ],
   "source": [
    "g_2007 = pd.pivot_table(svcg_2007,index=['quarter','loan_sequence_no'],aggfunc='count').reset_index()\n",
    "t_2007 = pd.pivot_table(g_2007,index=['quarter'],values='loan_sequence_no',aggfunc='count').reset_index()\n",
    "t_2007.head()"
   ]
  },
  {
   "cell_type": "code",
   "execution_count": 33,
   "metadata": {},
   "outputs": [
    {
     "data": {
      "text/html": [
       "<div>\n",
       "<style scoped>\n",
       "    .dataframe tbody tr th:only-of-type {\n",
       "        vertical-align: middle;\n",
       "    }\n",
       "\n",
       "    .dataframe tbody tr th {\n",
       "        vertical-align: top;\n",
       "    }\n",
       "\n",
       "    .dataframe thead th {\n",
       "        text-align: right;\n",
       "    }\n",
       "</style>\n",
       "<table border=\"1\" class=\"dataframe\">\n",
       "  <thead>\n",
       "    <tr style=\"text-align: right;\">\n",
       "      <th>zero_bal_code</th>\n",
       "      <th>quarter</th>\n",
       "      <th>1.0</th>\n",
       "      <th>2.0</th>\n",
       "      <th>3.0</th>\n",
       "      <th>6.0</th>\n",
       "      <th>9.0</th>\n",
       "      <th>15.0</th>\n",
       "      <th>sum</th>\n",
       "      <th>percentage</th>\n",
       "    </tr>\n",
       "  </thead>\n",
       "  <tbody>\n",
       "    <tr>\n",
       "      <th>0</th>\n",
       "      <td>Q1</td>\n",
       "      <td>10029</td>\n",
       "      <td>134</td>\n",
       "      <td>276</td>\n",
       "      <td>86</td>\n",
       "      <td>606</td>\n",
       "      <td>99</td>\n",
       "      <td>12500</td>\n",
       "      <td>80.232000</td>\n",
       "    </tr>\n",
       "    <tr>\n",
       "      <th>1</th>\n",
       "      <td>Q2</td>\n",
       "      <td>9847</td>\n",
       "      <td>134</td>\n",
       "      <td>296</td>\n",
       "      <td>117</td>\n",
       "      <td>630</td>\n",
       "      <td>101</td>\n",
       "      <td>12499</td>\n",
       "      <td>78.782303</td>\n",
       "    </tr>\n",
       "    <tr>\n",
       "      <th>2</th>\n",
       "      <td>Q3</td>\n",
       "      <td>10002</td>\n",
       "      <td>119</td>\n",
       "      <td>277</td>\n",
       "      <td>145</td>\n",
       "      <td>660</td>\n",
       "      <td>93</td>\n",
       "      <td>12500</td>\n",
       "      <td>80.016000</td>\n",
       "    </tr>\n",
       "    <tr>\n",
       "      <th>3</th>\n",
       "      <td>Q4</td>\n",
       "      <td>9821</td>\n",
       "      <td>156</td>\n",
       "      <td>299</td>\n",
       "      <td>131</td>\n",
       "      <td>654</td>\n",
       "      <td>141</td>\n",
       "      <td>12497</td>\n",
       "      <td>78.586861</td>\n",
       "    </tr>\n",
       "  </tbody>\n",
       "</table>\n",
       "</div>"
      ],
      "text/plain": [
       "zero_bal_code quarter    1.0  2.0  3.0  6.0  9.0  15.0    sum  percentage\n",
       "0                  Q1  10029  134  276   86  606    99  12500   80.232000\n",
       "1                  Q2   9847  134  296  117  630   101  12499   78.782303\n",
       "2                  Q3  10002  119  277  145  660    93  12500   80.016000\n",
       "3                  Q4   9821  156  299  131  654   141  12497   78.586861"
      ]
     },
     "execution_count": 33,
     "metadata": {},
     "output_type": "execute_result"
    }
   ],
   "source": [
    "upb_2007['sum'] = t_2007['loan_sequence_no']\n",
    "upb_2007['percentage'] = upb_2007[1]/upb_2007['sum'] *100\n",
    "upb_2007"
   ]
  },
  {
   "cell_type": "code",
   "execution_count": 34,
   "metadata": {},
   "outputs": [
    {
     "data": {
      "image/png": "[encoded data removed]",
      "text/plain": [
       "<Figure size 560x320 with 1 Axes>"
      ]
     },
     "metadata": {},
     "output_type": "display_data"
    }
   ],
   "source": [
    "plt.figure(figsize=(7,4),dpi = 80)\n",
    "ax = sns.lineplot(x = 'quarter',y ='percentage',data = upb_2007,color='g')\n",
    "plt.yticks(np.arange(76,85,1.5))\n",
    "ax.set(xlabel = 'Quarter', ylabel = 'Pecentage of payoff')\n",
    "vals = ax.get_yticks()\n",
    "ax.set_yticklabels(['{:3.1f}%'.format(x) for x in vals])\n",
    "sns.despine()"
   ]
  },
  {
   "cell_type": "code",
   "execution_count": 35,
   "metadata": {},
   "outputs": [
    {
     "data": {
      "text/html": [
       "<div>\n",
       "<style scoped>\n",
       "    .dataframe tbody tr th:only-of-type {\n",
       "        vertical-align: middle;\n",
       "    }\n",
       "\n",
       "    .dataframe tbody tr th {\n",
       "        vertical-align: top;\n",
       "    }\n",
       "\n",
       "    .dataframe thead th {\n",
       "        text-align: right;\n",
       "    }\n",
       "</style>\n",
       "<table border=\"1\" class=\"dataframe\">\n",
       "  <thead>\n",
       "    <tr style=\"text-align: right;\">\n",
       "      <th></th>\n",
       "      <th>quarter</th>\n",
       "      <th>loan_sequence_no</th>\n",
       "      <th>current_interest_rate</th>\n",
       "    </tr>\n",
       "  </thead>\n",
       "  <tbody>\n",
       "    <tr>\n",
       "      <th>0</th>\n",
       "      <td>Q1</td>\n",
       "      <td>F107Q1000009</td>\n",
       "      <td>1.0</td>\n",
       "    </tr>\n",
       "    <tr>\n",
       "      <th>1</th>\n",
       "      <td>Q1</td>\n",
       "      <td>F107Q1000019</td>\n",
       "      <td>1.0</td>\n",
       "    </tr>\n",
       "    <tr>\n",
       "      <th>2</th>\n",
       "      <td>Q1</td>\n",
       "      <td>F107Q1000028</td>\n",
       "      <td>1.0</td>\n",
       "    </tr>\n",
       "    <tr>\n",
       "      <th>3</th>\n",
       "      <td>Q1</td>\n",
       "      <td>F107Q1000046</td>\n",
       "      <td>1.0</td>\n",
       "    </tr>\n",
       "    <tr>\n",
       "      <th>4</th>\n",
       "      <td>Q1</td>\n",
       "      <td>F107Q1000065</td>\n",
       "      <td>1.0</td>\n",
       "    </tr>\n",
       "  </tbody>\n",
       "</table>\n",
       "</div>"
      ],
      "text/plain": [
       "  quarter loan_sequence_no  current_interest_rate\n",
       "0      Q1     F107Q1000009                    1.0\n",
       "1      Q1     F107Q1000019                    1.0\n",
       "2      Q1     F107Q1000028                    1.0\n",
       "3      Q1     F107Q1000046                    1.0\n",
       "4      Q1     F107Q1000065                    1.0"
      ]
     },
     "execution_count": 35,
     "metadata": {},
     "output_type": "execute_result"
    }
   ],
   "source": [
    "func = lambda x: x.nunique()\n",
    "rate_2007 = pd.pivot_table(svcg_2007,index=['quarter','loan_sequence_no'],values = 'current_interest_rate',aggfunc=func).reset_index()\n",
    "rate_2007.head()"
   ]
  },
  {
   "cell_type": "code",
   "execution_count": 36,
   "metadata": {},
   "outputs": [
    {
     "data": {
      "text/html": [
       "<div>\n",
       "<style scoped>\n",
       "    .dataframe tbody tr th:only-of-type {\n",
       "        vertical-align: middle;\n",
       "    }\n",
       "\n",
       "    .dataframe tbody tr th {\n",
       "        vertical-align: top;\n",
       "    }\n",
       "\n",
       "    .dataframe thead th {\n",
       "        text-align: right;\n",
       "    }\n",
       "</style>\n",
       "<table border=\"1\" class=\"dataframe\">\n",
       "  <thead>\n",
       "    <tr style=\"text-align: right;\">\n",
       "      <th>current_interest_rate</th>\n",
       "      <th>quarter</th>\n",
       "      <th>1.0</th>\n",
       "      <th>2.0</th>\n",
       "      <th>3.0</th>\n",
       "      <th>4.0</th>\n",
       "      <th>5.0</th>\n",
       "      <th>6.0</th>\n",
       "    </tr>\n",
       "  </thead>\n",
       "  <tbody>\n",
       "    <tr>\n",
       "      <th>0</th>\n",
       "      <td>Q1</td>\n",
       "      <td>11362</td>\n",
       "      <td>848</td>\n",
       "      <td>137</td>\n",
       "      <td>77</td>\n",
       "      <td>71</td>\n",
       "      <td>5</td>\n",
       "    </tr>\n",
       "    <tr>\n",
       "      <th>1</th>\n",
       "      <td>Q2</td>\n",
       "      <td>11264</td>\n",
       "      <td>919</td>\n",
       "      <td>142</td>\n",
       "      <td>92</td>\n",
       "      <td>78</td>\n",
       "      <td>4</td>\n",
       "    </tr>\n",
       "    <tr>\n",
       "      <th>2</th>\n",
       "      <td>Q3</td>\n",
       "      <td>11212</td>\n",
       "      <td>964</td>\n",
       "      <td>162</td>\n",
       "      <td>77</td>\n",
       "      <td>79</td>\n",
       "      <td>6</td>\n",
       "    </tr>\n",
       "    <tr>\n",
       "      <th>3</th>\n",
       "      <td>Q4</td>\n",
       "      <td>11142</td>\n",
       "      <td>993</td>\n",
       "      <td>185</td>\n",
       "      <td>95</td>\n",
       "      <td>75</td>\n",
       "      <td>7</td>\n",
       "    </tr>\n",
       "  </tbody>\n",
       "</table>\n",
       "</div>"
      ],
      "text/plain": [
       "current_interest_rate quarter    1.0  2.0  3.0  4.0  5.0  6.0\n",
       "0                          Q1  11362  848  137   77   71    5\n",
       "1                          Q2  11264  919  142   92   78    4\n",
       "2                          Q3  11212  964  162   77   79    6\n",
       "3                          Q4  11142  993  185   95   75    7"
      ]
     },
     "execution_count": 36,
     "metadata": {},
     "output_type": "execute_result"
    }
   ],
   "source": [
    "ir_2007 = pd.pivot_table(rate_2007,index=['quarter'],values='loan_sequence_no',columns = 'current_interest_rate',aggfunc='count').reset_index()\n",
    "ir_2007.head()"
   ]
  },
  {
   "cell_type": "code",
   "execution_count": 37,
   "metadata": {},
   "outputs": [
    {
     "data": {
      "text/html": [
       "<div>\n",
       "<style scoped>\n",
       "    .dataframe tbody tr th:only-of-type {\n",
       "        vertical-align: middle;\n",
       "    }\n",
       "\n",
       "    .dataframe tbody tr th {\n",
       "        vertical-align: top;\n",
       "    }\n",
       "\n",
       "    .dataframe thead th {\n",
       "        text-align: right;\n",
       "    }\n",
       "</style>\n",
       "<table border=\"1\" class=\"dataframe\">\n",
       "  <thead>\n",
       "    <tr style=\"text-align: right;\">\n",
       "      <th>current_interest_rate</th>\n",
       "      <th>quarter</th>\n",
       "      <th>1.0</th>\n",
       "      <th>2.0</th>\n",
       "      <th>3.0</th>\n",
       "      <th>4.0</th>\n",
       "      <th>5.0</th>\n",
       "      <th>6.0</th>\n",
       "      <th>percentage</th>\n",
       "    </tr>\n",
       "  </thead>\n",
       "  <tbody>\n",
       "    <tr>\n",
       "      <th>0</th>\n",
       "      <td>Q1</td>\n",
       "      <td>11362</td>\n",
       "      <td>848</td>\n",
       "      <td>137</td>\n",
       "      <td>77</td>\n",
       "      <td>71</td>\n",
       "      <td>5</td>\n",
       "      <td>9.104000</td>\n",
       "    </tr>\n",
       "    <tr>\n",
       "      <th>1</th>\n",
       "      <td>Q2</td>\n",
       "      <td>11264</td>\n",
       "      <td>919</td>\n",
       "      <td>142</td>\n",
       "      <td>92</td>\n",
       "      <td>78</td>\n",
       "      <td>4</td>\n",
       "      <td>9.880790</td>\n",
       "    </tr>\n",
       "    <tr>\n",
       "      <th>2</th>\n",
       "      <td>Q3</td>\n",
       "      <td>11212</td>\n",
       "      <td>964</td>\n",
       "      <td>162</td>\n",
       "      <td>77</td>\n",
       "      <td>79</td>\n",
       "      <td>6</td>\n",
       "      <td>10.304000</td>\n",
       "    </tr>\n",
       "    <tr>\n",
       "      <th>3</th>\n",
       "      <td>Q4</td>\n",
       "      <td>11142</td>\n",
       "      <td>993</td>\n",
       "      <td>185</td>\n",
       "      <td>95</td>\n",
       "      <td>75</td>\n",
       "      <td>7</td>\n",
       "      <td>10.842602</td>\n",
       "    </tr>\n",
       "  </tbody>\n",
       "</table>\n",
       "</div>"
      ],
      "text/plain": [
       "current_interest_rate quarter    1.0  2.0  3.0  4.0  5.0  6.0  percentage\n",
       "0                          Q1  11362  848  137   77   71    5    9.104000\n",
       "1                          Q2  11264  919  142   92   78    4    9.880790\n",
       "2                          Q3  11212  964  162   77   79    6   10.304000\n",
       "3                          Q4  11142  993  185   95   75    7   10.842602"
      ]
     },
     "execution_count": 37,
     "metadata": {},
     "output_type": "execute_result"
    }
   ],
   "source": [
    "ir_2007['percentage'] = (ir_2007[2]+ir_2007[3]+ir_2007[4]+ir_2007[5]+ir_2007[6])/ir_2007.sum(axis=1) *100\n",
    "ir_2007"
   ]
  },
  {
   "cell_type": "code",
   "execution_count": 38,
   "metadata": {},
   "outputs": [
    {
     "data": {
      "image/png": "[encoded data removed]",
      "text/plain": [
       "<Figure size 560x320 with 1 Axes>"
      ]
     },
     "metadata": {},
     "output_type": "display_data"
    }
   ],
   "source": [
    "plt.figure(figsize=(7,4),dpi = 80)\n",
    "ax = sns.lineplot(x = 'quarter',y ='percentage',data = ir_2007,color='r')\n",
    "plt.yticks(np.arange(8.2,11.5,0.5))\n",
    "ax.set(xlabel = 'Quarter', ylabel = 'Pecentage of change interest rate')\n",
    "vals = ax.get_yticks()\n",
    "ax.set_yticklabels(['{:3.1f}%'.format(x) for x in vals])\n",
    "sns.despine()"
   ]
  },
  {
   "cell_type": "code",
   "execution_count": 39,
   "metadata": {},
   "outputs": [
    {
     "name": "stderr",
     "output_type": "stream",
     "text": [
      "/Users/mamamia/anaconda3/lib/python3.6/site-packages/IPython/core/interactiveshell.py:2785: DtypeWarning: Columns (3) have mixed types. Specify dtype option on import or set low_memory=False.\n",
      "  interactivity=interactivity, compiler=compiler, result=result)\n"
     ]
    }
   ],
   "source": [
    "orig_2008 = pd.read_csv('cleanFiles/sample_orig_2008.csv')\n",
    "svcg_2008 = pd.read_csv('cleanFiles/sample_svcg_2008.csv')\n",
    "\n",
    "orig_2008['quarter'] = orig_2008.loan_sequence_no.str[4:6]\n",
    "svcg_2008['quarter'] = svcg_2008.loan_sequence_no.str[4:6]"
   ]
  },
  {
   "cell_type": "markdown",
   "metadata": {},
   "source": [
    "#### Origination 2008"
   ]
  },
  {
   "cell_type": "code",
   "execution_count": 40,
   "metadata": {},
   "outputs": [
    {
     "data": {
      "text/html": [
       "<div>\n",
       "<style scoped>\n",
       "    .dataframe tbody tr th:only-of-type {\n",
       "        vertical-align: middle;\n",
       "    }\n",
       "\n",
       "    .dataframe tbody tr th {\n",
       "        vertical-align: top;\n",
       "    }\n",
       "\n",
       "    .dataframe thead th {\n",
       "        text-align: right;\n",
       "    }\n",
       "</style>\n",
       "<table border=\"1\" class=\"dataframe\">\n",
       "  <thead>\n",
       "    <tr style=\"text-align: right;\">\n",
       "      <th></th>\n",
       "      <th>credit_score</th>\n",
       "      <th>first_pay_date</th>\n",
       "      <th>first_time_homebuyer</th>\n",
       "      <th>maturity_date</th>\n",
       "      <th>msa</th>\n",
       "      <th>mi_percentage</th>\n",
       "      <th>no_of_units</th>\n",
       "      <th>occupance_status</th>\n",
       "      <th>original_cltv</th>\n",
       "      <th>original_dti_ratio</th>\n",
       "      <th>...</th>\n",
       "      <th>property_type</th>\n",
       "      <th>postal_code</th>\n",
       "      <th>loan_sequence_no</th>\n",
       "      <th>loan_purpose</th>\n",
       "      <th>original_loan_term</th>\n",
       "      <th>no_of_borrowers</th>\n",
       "      <th>seller_name</th>\n",
       "      <th>servicer_name</th>\n",
       "      <th>quarter</th>\n",
       "      <th>monthly_upb</th>\n",
       "    </tr>\n",
       "  </thead>\n",
       "  <tbody>\n",
       "    <tr>\n",
       "      <th>0</th>\n",
       "      <td>735.0</td>\n",
       "      <td>200803</td>\n",
       "      <td>N</td>\n",
       "      <td>203802</td>\n",
       "      <td>44180.0</td>\n",
       "      <td>0.0</td>\n",
       "      <td>1.0</td>\n",
       "      <td>P</td>\n",
       "      <td>87.0</td>\n",
       "      <td>33.0</td>\n",
       "      <td>...</td>\n",
       "      <td>SF</td>\n",
       "      <td>65700</td>\n",
       "      <td>F108Q1000024</td>\n",
       "      <td>N</td>\n",
       "      <td>360</td>\n",
       "      <td>2</td>\n",
       "      <td>Other sellers</td>\n",
       "      <td>Other servicers</td>\n",
       "      <td>Q1</td>\n",
       "      <td>533.333333</td>\n",
       "    </tr>\n",
       "    <tr>\n",
       "      <th>1</th>\n",
       "      <td>733.0</td>\n",
       "      <td>200803</td>\n",
       "      <td>N</td>\n",
       "      <td>203802</td>\n",
       "      <td>44180.0</td>\n",
       "      <td>0.0</td>\n",
       "      <td>1.0</td>\n",
       "      <td>P</td>\n",
       "      <td>70.0</td>\n",
       "      <td>29.0</td>\n",
       "      <td>...</td>\n",
       "      <td>SF</td>\n",
       "      <td>65800</td>\n",
       "      <td>F108Q1000062</td>\n",
       "      <td>C</td>\n",
       "      <td>360</td>\n",
       "      <td>2</td>\n",
       "      <td>Other sellers</td>\n",
       "      <td>Other servicers</td>\n",
       "      <td>Q1</td>\n",
       "      <td>694.444444</td>\n",
       "    </tr>\n",
       "    <tr>\n",
       "      <th>2</th>\n",
       "      <td>682.0</td>\n",
       "      <td>200803</td>\n",
       "      <td>Y</td>\n",
       "      <td>203802</td>\n",
       "      <td>0.0</td>\n",
       "      <td>30.0</td>\n",
       "      <td>1.0</td>\n",
       "      <td>P</td>\n",
       "      <td>93.0</td>\n",
       "      <td>49.0</td>\n",
       "      <td>...</td>\n",
       "      <td>SF</td>\n",
       "      <td>24700</td>\n",
       "      <td>F108Q1000111</td>\n",
       "      <td>P</td>\n",
       "      <td>360</td>\n",
       "      <td>1</td>\n",
       "      <td>Other sellers</td>\n",
       "      <td>Other servicers</td>\n",
       "      <td>Q1</td>\n",
       "      <td>538.888889</td>\n",
       "    </tr>\n",
       "    <tr>\n",
       "      <th>3</th>\n",
       "      <td>705.0</td>\n",
       "      <td>200803</td>\n",
       "      <td>N</td>\n",
       "      <td>203802</td>\n",
       "      <td>30460.0</td>\n",
       "      <td>12.0</td>\n",
       "      <td>1.0</td>\n",
       "      <td>P</td>\n",
       "      <td>85.0</td>\n",
       "      <td>999.0</td>\n",
       "      <td>...</td>\n",
       "      <td>SF</td>\n",
       "      <td>40300</td>\n",
       "      <td>F108Q1000197</td>\n",
       "      <td>C</td>\n",
       "      <td>360</td>\n",
       "      <td>2</td>\n",
       "      <td>Other sellers</td>\n",
       "      <td>Other servicers</td>\n",
       "      <td>Q1</td>\n",
       "      <td>444.444444</td>\n",
       "    </tr>\n",
       "    <tr>\n",
       "      <th>4</th>\n",
       "      <td>747.0</td>\n",
       "      <td>200803</td>\n",
       "      <td>N</td>\n",
       "      <td>203802</td>\n",
       "      <td>0.0</td>\n",
       "      <td>0.0</td>\n",
       "      <td>1.0</td>\n",
       "      <td>P</td>\n",
       "      <td>58.0</td>\n",
       "      <td>37.0</td>\n",
       "      <td>...</td>\n",
       "      <td>SF</td>\n",
       "      <td>40700</td>\n",
       "      <td>F108Q1000222</td>\n",
       "      <td>N</td>\n",
       "      <td>360</td>\n",
       "      <td>2</td>\n",
       "      <td>Other sellers</td>\n",
       "      <td>Other servicers</td>\n",
       "      <td>Q1</td>\n",
       "      <td>416.666667</td>\n",
       "    </tr>\n",
       "  </tbody>\n",
       "</table>\n",
       "<p>5 rows × 27 columns</p>\n",
       "</div>"
      ],
      "text/plain": [
       "   credit_score  first_pay_date first_time_homebuyer  maturity_date      msa  \\\n",
       "0         735.0          200803                    N         203802  44180.0   \n",
       "1         733.0          200803                    N         203802  44180.0   \n",
       "2         682.0          200803                    Y         203802      0.0   \n",
       "3         705.0          200803                    N         203802  30460.0   \n",
       "4         747.0          200803                    N         203802      0.0   \n",
       "\n",
       "   mi_percentage  no_of_units occupance_status  original_cltv  \\\n",
       "0            0.0          1.0                P           87.0   \n",
       "1            0.0          1.0                P           70.0   \n",
       "2           30.0          1.0                P           93.0   \n",
       "3           12.0          1.0                P           85.0   \n",
       "4            0.0          1.0                P           58.0   \n",
       "\n",
       "   original_dti_ratio     ...      property_type  postal_code  \\\n",
       "0                33.0     ...                 SF        65700   \n",
       "1                29.0     ...                 SF        65800   \n",
       "2                49.0     ...                 SF        24700   \n",
       "3               999.0     ...                 SF        40300   \n",
       "4                37.0     ...                 SF        40700   \n",
       "\n",
       "   loan_sequence_no loan_purpose original_loan_term no_of_borrowers  \\\n",
       "0      F108Q1000024            N                360               2   \n",
       "1      F108Q1000062            C                360               2   \n",
       "2      F108Q1000111            P                360               1   \n",
       "3      F108Q1000197            C                360               2   \n",
       "4      F108Q1000222            N                360               2   \n",
       "\n",
       "     seller_name    servicer_name  quarter monthly_upb  \n",
       "0  Other sellers  Other servicers       Q1  533.333333  \n",
       "1  Other sellers  Other servicers       Q1  694.444444  \n",
       "2  Other sellers  Other servicers       Q1  538.888889  \n",
       "3  Other sellers  Other servicers       Q1  444.444444  \n",
       "4  Other sellers  Other servicers       Q1  416.666667  \n",
       "\n",
       "[5 rows x 27 columns]"
      ]
     },
     "execution_count": 40,
     "metadata": {},
     "output_type": "execute_result"
    }
   ],
   "source": [
    "# create new col for analysis\n",
    "orig_2008['monthly_upb'] = orig_2008['original_upb']/orig_2008['original_loan_term']\n",
    "orig_2008.head()"
   ]
  },
  {
   "cell_type": "code",
   "execution_count": 41,
   "metadata": {},
   "outputs": [
    {
     "data": {
      "text/plain": [
       "Text(0.5, 1.0, '2008 UPB Quarterly Analysis')"
      ]
     },
     "execution_count": 41,
     "metadata": {},
     "output_type": "execute_result"
    },
    {
     "data": {
      "image/png": "[encoded data removed]",
      "text/plain": [
       "<Figure size 640x400 with 1 Axes>"
      ]
     },
     "metadata": {},
     "output_type": "display_data"
    }
   ],
   "source": [
    "plt.figure(figsize=(8,5),dpi = 80)\n",
    "ax = sns.boxplot(x=\"quarter\", y=\"monthly_upb\",showfliers=False,width = 0.5,data=orig_2008)\n",
    "ax.set(xlabel = 'Quarter',ylabel = 'Monthly_UPB')\n",
    "ax.set_title('2008 UPB Quarterly Analysis',fontsize = 15,pad = 30)"
   ]
  },
  {
   "cell_type": "code",
   "execution_count": 42,
   "metadata": {},
   "outputs": [
    {
     "data": {
      "text/html": [
       "<div>\n",
       "<style scoped>\n",
       "    .dataframe tbody tr th:only-of-type {\n",
       "        vertical-align: middle;\n",
       "    }\n",
       "\n",
       "    .dataframe tbody tr th {\n",
       "        vertical-align: top;\n",
       "    }\n",
       "\n",
       "    .dataframe thead th {\n",
       "        text-align: right;\n",
       "    }\n",
       "</style>\n",
       "<table border=\"1\" class=\"dataframe\">\n",
       "  <thead>\n",
       "    <tr style=\"text-align: right;\">\n",
       "      <th></th>\n",
       "      <th>quarter</th>\n",
       "      <th>credit_score</th>\n",
       "      <th>original_dti_ratio</th>\n",
       "    </tr>\n",
       "  </thead>\n",
       "  <tbody>\n",
       "    <tr>\n",
       "      <th>0</th>\n",
       "      <td>Q1</td>\n",
       "      <td>736.091753</td>\n",
       "      <td>62.961523</td>\n",
       "    </tr>\n",
       "    <tr>\n",
       "      <th>1</th>\n",
       "      <td>Q2</td>\n",
       "      <td>745.363360</td>\n",
       "      <td>60.398400</td>\n",
       "    </tr>\n",
       "    <tr>\n",
       "      <th>2</th>\n",
       "      <td>Q3</td>\n",
       "      <td>745.150320</td>\n",
       "      <td>56.566800</td>\n",
       "    </tr>\n",
       "    <tr>\n",
       "      <th>3</th>\n",
       "      <td>Q4</td>\n",
       "      <td>758.874550</td>\n",
       "      <td>48.809585</td>\n",
       "    </tr>\n",
       "  </tbody>\n",
       "</table>\n",
       "</div>"
      ],
      "text/plain": [
       "  quarter  credit_score  original_dti_ratio\n",
       "0      Q1    736.091753           62.961523\n",
       "1      Q2    745.363360           60.398400\n",
       "2      Q3    745.150320           56.566800\n",
       "3      Q4    758.874550           48.809585"
      ]
     },
     "execution_count": 42,
     "metadata": {},
     "output_type": "execute_result"
    }
   ],
   "source": [
    "cs2008 = orig_2008.groupby([\"quarter\"])['credit_score','original_dti_ratio'].mean().reset_index()\n",
    "cs2008"
   ]
  },
  {
   "cell_type": "code",
   "execution_count": 43,
   "metadata": {},
   "outputs": [
    {
     "data": {
      "image/png": "[encoded data removed]",
      "text/plain": [
       "<Figure size 960x320 with 2 Axes>"
      ]
     },
     "metadata": {},
     "output_type": "display_data"
    }
   ],
   "source": [
    "plt.figure(figsize=(12,4),dpi = 80)\n",
    "plt.subplot(1,2,1)\n",
    "ax1 = sns.lineplot(x = 'quarter', y = 'credit_score', data = cs2008)\n",
    "ax1.set(xlabel = 'Quarter',ylabel = 'Credit Score')\n",
    "plt.subplot(1,2,2)\n",
    "ax2 = sns.lineplot(x = 'quarter', y = 'original_dti_ratio', data = cs2008,color='r')\n",
    "ax2.set(xlabel = 'Quarter',ylabel = 'Original DTI Ratio')\n",
    "sns.despine()"
   ]
  },
  {
   "cell_type": "code",
   "execution_count": 44,
   "metadata": {},
   "outputs": [
    {
     "data": {
      "text/html": [
       "<div>\n",
       "<style scoped>\n",
       "    .dataframe tbody tr th:only-of-type {\n",
       "        vertical-align: middle;\n",
       "    }\n",
       "\n",
       "    .dataframe tbody tr th {\n",
       "        vertical-align: top;\n",
       "    }\n",
       "\n",
       "    .dataframe thead th {\n",
       "        text-align: right;\n",
       "    }\n",
       "</style>\n",
       "<table border=\"1\" class=\"dataframe\">\n",
       "  <thead>\n",
       "    <tr style=\"text-align: right;\">\n",
       "      <th>first_time_homebuyer</th>\n",
       "      <th>quarter</th>\n",
       "      <th>9</th>\n",
       "      <th>N</th>\n",
       "      <th>Y</th>\n",
       "    </tr>\n",
       "  </thead>\n",
       "  <tbody>\n",
       "    <tr>\n",
       "      <th>0</th>\n",
       "      <td>Q1</td>\n",
       "      <td>1818</td>\n",
       "      <td>9846</td>\n",
       "      <td>837</td>\n",
       "    </tr>\n",
       "    <tr>\n",
       "      <th>1</th>\n",
       "      <td>Q2</td>\n",
       "      <td>1929</td>\n",
       "      <td>9328</td>\n",
       "      <td>1243</td>\n",
       "    </tr>\n",
       "    <tr>\n",
       "      <th>2</th>\n",
       "      <td>Q3</td>\n",
       "      <td>1607</td>\n",
       "      <td>9003</td>\n",
       "      <td>1890</td>\n",
       "    </tr>\n",
       "    <tr>\n",
       "      <th>3</th>\n",
       "      <td>Q4</td>\n",
       "      <td>2375</td>\n",
       "      <td>8596</td>\n",
       "      <td>1528</td>\n",
       "    </tr>\n",
       "  </tbody>\n",
       "</table>\n",
       "</div>"
      ],
      "text/plain": [
       "first_time_homebuyer quarter     9     N     Y\n",
       "0                         Q1  1818  9846   837\n",
       "1                         Q2  1929  9328  1243\n",
       "2                         Q3  1607  9003  1890\n",
       "3                         Q4  2375  8596  1528"
      ]
     },
     "execution_count": 44,
     "metadata": {},
     "output_type": "execute_result"
    }
   ],
   "source": [
    "fthb_2008 = pd.pivot_table(orig_2008,index='quarter', values = 'credit_score',columns='first_time_homebuyer',aggfunc='count').reset_index()\n",
    "fthb_2008"
   ]
  },
  {
   "cell_type": "code",
   "execution_count": 45,
   "metadata": {},
   "outputs": [
    {
     "data": {
      "text/html": [
       "<div>\n",
       "<style scoped>\n",
       "    .dataframe tbody tr th:only-of-type {\n",
       "        vertical-align: middle;\n",
       "    }\n",
       "\n",
       "    .dataframe tbody tr th {\n",
       "        vertical-align: top;\n",
       "    }\n",
       "\n",
       "    .dataframe thead th {\n",
       "        text-align: right;\n",
       "    }\n",
       "</style>\n",
       "<table border=\"1\" class=\"dataframe\">\n",
       "  <thead>\n",
       "    <tr style=\"text-align: right;\">\n",
       "      <th>first_time_homebuyer</th>\n",
       "      <th>quarter</th>\n",
       "      <th>9</th>\n",
       "      <th>N</th>\n",
       "      <th>Y</th>\n",
       "      <th>percentage</th>\n",
       "    </tr>\n",
       "  </thead>\n",
       "  <tbody>\n",
       "    <tr>\n",
       "      <th>0</th>\n",
       "      <td>Q1</td>\n",
       "      <td>1818</td>\n",
       "      <td>9846</td>\n",
       "      <td>837</td>\n",
       "      <td>6.695464</td>\n",
       "    </tr>\n",
       "    <tr>\n",
       "      <th>1</th>\n",
       "      <td>Q2</td>\n",
       "      <td>1929</td>\n",
       "      <td>9328</td>\n",
       "      <td>1243</td>\n",
       "      <td>9.944000</td>\n",
       "    </tr>\n",
       "    <tr>\n",
       "      <th>2</th>\n",
       "      <td>Q3</td>\n",
       "      <td>1607</td>\n",
       "      <td>9003</td>\n",
       "      <td>1890</td>\n",
       "      <td>15.120000</td>\n",
       "    </tr>\n",
       "    <tr>\n",
       "      <th>3</th>\n",
       "      <td>Q4</td>\n",
       "      <td>2375</td>\n",
       "      <td>8596</td>\n",
       "      <td>1528</td>\n",
       "      <td>12.224978</td>\n",
       "    </tr>\n",
       "  </tbody>\n",
       "</table>\n",
       "</div>"
      ],
      "text/plain": [
       "first_time_homebuyer quarter     9     N     Y  percentage\n",
       "0                         Q1  1818  9846   837    6.695464\n",
       "1                         Q2  1929  9328  1243    9.944000\n",
       "2                         Q3  1607  9003  1890   15.120000\n",
       "3                         Q4  2375  8596  1528   12.224978"
      ]
     },
     "execution_count": 45,
     "metadata": {},
     "output_type": "execute_result"
    }
   ],
   "source": [
    "fthb_2008['percentage'] = fthb_2008['Y']/fthb_2008.sum(axis=1) * 100\n",
    "fthb_2008"
   ]
  },
  {
   "cell_type": "code",
   "execution_count": 46,
   "metadata": {},
   "outputs": [
    {
     "data": {
      "text/plain": [
       "[Text(0, 0.5, 'Total First Time Home Buyer percentale'),\n",
       " Text(0.5, 0, 'Quarter')]"
      ]
     },
     "execution_count": 46,
     "metadata": {},
     "output_type": "execute_result"
    },
    {
     "data": {
      "image/png": "[encoded data removed]",
      "text/plain": [
       "<Figure size 320x240 with 1 Axes>"
      ]
     },
     "metadata": {},
     "output_type": "display_data"
    }
   ],
   "source": [
    "plt.figure(figsize=(4,3),dpi = 80)\n",
    "ax = sns.barplot(x ='quarter',y ='percentage',data = fthb_2008)\n",
    "vals = ax.get_yticks()\n",
    "ax.set_yticklabels(['{:3.1f}%'.format(x) for x in vals])\n",
    "ax.set(xlabel = 'Quarter', ylabel = 'Total First Time Home Buyer percentale')"
   ]
  },
  {
   "cell_type": "code",
   "execution_count": 47,
   "metadata": {},
   "outputs": [
    {
     "data": {
      "text/html": [
       "<div>\n",
       "<style scoped>\n",
       "    .dataframe tbody tr th:only-of-type {\n",
       "        vertical-align: middle;\n",
       "    }\n",
       "\n",
       "    .dataframe tbody tr th {\n",
       "        vertical-align: top;\n",
       "    }\n",
       "\n",
       "    .dataframe thead th {\n",
       "        text-align: right;\n",
       "    }\n",
       "</style>\n",
       "<table border=\"1\" class=\"dataframe\">\n",
       "  <thead>\n",
       "    <tr style=\"text-align: right;\">\n",
       "      <th>quarter</th>\n",
       "      <th>property_state</th>\n",
       "      <th>Q1</th>\n",
       "      <th>Q2</th>\n",
       "      <th>Q3</th>\n",
       "      <th>Q4</th>\n",
       "    </tr>\n",
       "  </thead>\n",
       "  <tbody>\n",
       "    <tr>\n",
       "      <th>0</th>\n",
       "      <td>AK</td>\n",
       "      <td>30.0</td>\n",
       "      <td>30.0</td>\n",
       "      <td>45.0</td>\n",
       "      <td>30.0</td>\n",
       "    </tr>\n",
       "    <tr>\n",
       "      <th>1</th>\n",
       "      <td>AL</td>\n",
       "      <td>165.0</td>\n",
       "      <td>160.0</td>\n",
       "      <td>185.0</td>\n",
       "      <td>171.0</td>\n",
       "    </tr>\n",
       "    <tr>\n",
       "      <th>2</th>\n",
       "      <td>AR</td>\n",
       "      <td>71.0</td>\n",
       "      <td>81.0</td>\n",
       "      <td>94.0</td>\n",
       "      <td>83.0</td>\n",
       "    </tr>\n",
       "    <tr>\n",
       "      <th>3</th>\n",
       "      <td>AZ</td>\n",
       "      <td>285.0</td>\n",
       "      <td>320.0</td>\n",
       "      <td>306.0</td>\n",
       "      <td>303.0</td>\n",
       "    </tr>\n",
       "    <tr>\n",
       "      <th>4</th>\n",
       "      <td>CA</td>\n",
       "      <td>1251.0</td>\n",
       "      <td>1406.0</td>\n",
       "      <td>1440.0</td>\n",
       "      <td>1623.0</td>\n",
       "    </tr>\n",
       "  </tbody>\n",
       "</table>\n",
       "</div>"
      ],
      "text/plain": [
       "quarter property_state      Q1      Q2      Q3      Q4\n",
       "0                   AK    30.0    30.0    45.0    30.0\n",
       "1                   AL   165.0   160.0   185.0   171.0\n",
       "2                   AR    71.0    81.0    94.0    83.0\n",
       "3                   AZ   285.0   320.0   306.0   303.0\n",
       "4                   CA  1251.0  1406.0  1440.0  1623.0"
      ]
     },
     "execution_count": 47,
     "metadata": {},
     "output_type": "execute_result"
    }
   ],
   "source": [
    "ps_2008 = pd.pivot_table(orig_2008,index='property_state', values = 'credit_score',columns='quarter',aggfunc='count').reset_index()\n",
    "ps_2008.head()"
   ]
  },
  {
   "cell_type": "code",
   "execution_count": 48,
   "metadata": {},
   "outputs": [
    {
     "data": {
      "text/plain": [
       "[Text(0, 0.5, 'Number of loan'), Text(0.5, 0, 'State')]"
      ]
     },
     "execution_count": 48,
     "metadata": {},
     "output_type": "execute_result"
    },
    {
     "data": {
      "image/png": "[encoded data removed]",
      "text/plain": [
       "<Figure size 1296x576 with 1 Axes>"
      ]
     },
     "metadata": {},
     "output_type": "display_data"
    }
   ],
   "source": [
    "ax = ps_2008.plot(kind = 'bar', figsize = (18,8),stacked=True)\n",
    "state_name = ps_2008['property_state']\n",
    "ax.set_xticklabels(state_name, rotation='vertical', fontsize=13)\n",
    "ax.set(xlabel = 'State', ylabel = 'Number of loan')"
   ]
  },
  {
   "cell_type": "code",
   "execution_count": 49,
   "metadata": {},
   "outputs": [
    {
     "data": {
      "text/html": [
       "<div>\n",
       "<style scoped>\n",
       "    .dataframe tbody tr th:only-of-type {\n",
       "        vertical-align: middle;\n",
       "    }\n",
       "\n",
       "    .dataframe tbody tr th {\n",
       "        vertical-align: top;\n",
       "    }\n",
       "\n",
       "    .dataframe thead th {\n",
       "        text-align: right;\n",
       "    }\n",
       "</style>\n",
       "<table border=\"1\" class=\"dataframe\">\n",
       "  <thead>\n",
       "    <tr style=\"text-align: right;\">\n",
       "      <th>quarter</th>\n",
       "      <th>seller_name</th>\n",
       "      <th>Q1</th>\n",
       "      <th>Q2</th>\n",
       "      <th>Q3</th>\n",
       "      <th>Q4</th>\n",
       "    </tr>\n",
       "  </thead>\n",
       "  <tbody>\n",
       "    <tr>\n",
       "      <th>0</th>\n",
       "      <td>AMTRUSTBANK</td>\n",
       "      <td>223.0</td>\n",
       "      <td>192.0</td>\n",
       "      <td>273.0</td>\n",
       "      <td>403.0</td>\n",
       "    </tr>\n",
       "    <tr>\n",
       "      <th>1</th>\n",
       "      <td>BANKOFAMERICA,NA</td>\n",
       "      <td>996.0</td>\n",
       "      <td>975.0</td>\n",
       "      <td>884.0</td>\n",
       "      <td>920.0</td>\n",
       "    </tr>\n",
       "    <tr>\n",
       "      <th>2</th>\n",
       "      <td>BRANCHBANKING&amp;TRUSTC</td>\n",
       "      <td>414.0</td>\n",
       "      <td>507.0</td>\n",
       "      <td>438.0</td>\n",
       "      <td>591.0</td>\n",
       "    </tr>\n",
       "    <tr>\n",
       "      <th>3</th>\n",
       "      <td>CHASEHOMEFINANCELLC</td>\n",
       "      <td>1255.0</td>\n",
       "      <td>1538.0</td>\n",
       "      <td>1038.0</td>\n",
       "      <td>738.0</td>\n",
       "    </tr>\n",
       "    <tr>\n",
       "      <th>4</th>\n",
       "      <td>CITIMORTGAGE,INC</td>\n",
       "      <td>456.0</td>\n",
       "      <td>408.0</td>\n",
       "      <td>825.0</td>\n",
       "      <td>994.0</td>\n",
       "    </tr>\n",
       "  </tbody>\n",
       "</table>\n",
       "</div>"
      ],
      "text/plain": [
       "quarter           seller_name      Q1      Q2      Q3     Q4\n",
       "0                 AMTRUSTBANK   223.0   192.0   273.0  403.0\n",
       "1            BANKOFAMERICA,NA   996.0   975.0   884.0  920.0\n",
       "2        BRANCHBANKING&TRUSTC   414.0   507.0   438.0  591.0\n",
       "3         CHASEHOMEFINANCELLC  1255.0  1538.0  1038.0  738.0\n",
       "4            CITIMORTGAGE,INC   456.0   408.0   825.0  994.0"
      ]
     },
     "execution_count": 49,
     "metadata": {},
     "output_type": "execute_result"
    }
   ],
   "source": [
    "seller_2008 = pd.pivot_table(orig_2008,index='seller_name', values = 'credit_score',columns='quarter',aggfunc='count').reset_index()\n",
    "seller_2008.head()"
   ]
  },
  {
   "cell_type": "code",
   "execution_count": 50,
   "metadata": {},
   "outputs": [
    {
     "data": {
      "text/plain": [
       "[Text(0, 0.5, 'Number of loan'), Text(0.5, 0, 'Seller')]"
      ]
     },
     "execution_count": 50,
     "metadata": {},
     "output_type": "execute_result"
    },
    {
     "data": {
      "image/png": "[encoded data removed]",
      "text/plain": [
       "<Figure size 1296x576 with 1 Axes>"
      ]
     },
     "metadata": {},
     "output_type": "display_data"
    }
   ],
   "source": [
    "ax = seller_2008.plot(kind = 'bar', figsize = (18,8),stacked=True)\n",
    "seller_name = seller_2008['seller_name']\n",
    "ax.set_xticklabels(seller_name, rotation='vertical', fontsize=13)\n",
    "ax.set(xlabel = 'Seller', ylabel = 'Number of loan')"
   ]
  },
  {
   "cell_type": "markdown",
   "metadata": {},
   "source": [
    "#### Performance 2008"
   ]
  },
  {
   "cell_type": "code",
   "execution_count": 51,
   "metadata": {},
   "outputs": [
    {
     "data": {
      "text/html": [
       "<div>\n",
       "<style scoped>\n",
       "    .dataframe tbody tr th:only-of-type {\n",
       "        vertical-align: middle;\n",
       "    }\n",
       "\n",
       "    .dataframe tbody tr th {\n",
       "        vertical-align: top;\n",
       "    }\n",
       "\n",
       "    .dataframe thead th {\n",
       "        text-align: right;\n",
       "    }\n",
       "</style>\n",
       "<table border=\"1\" class=\"dataframe\">\n",
       "  <thead>\n",
       "    <tr style=\"text-align: right;\">\n",
       "      <th></th>\n",
       "      <th>loan_sequence_no</th>\n",
       "      <th>monthly_reporting_period</th>\n",
       "      <th>current_actual_upb</th>\n",
       "      <th>current_loan_delinquency_status</th>\n",
       "      <th>loan_age</th>\n",
       "      <th>remaning_months_on_legal_maturity</th>\n",
       "      <th>zero_bal_code</th>\n",
       "      <th>current_interest_rate</th>\n",
       "      <th>current_deferred_upb</th>\n",
       "      <th>estimated_loan_to_value</th>\n",
       "      <th>quarter</th>\n",
       "    </tr>\n",
       "  </thead>\n",
       "  <tbody>\n",
       "    <tr>\n",
       "      <th>0</th>\n",
       "      <td>F108Q1000024</td>\n",
       "      <td>200802</td>\n",
       "      <td>192000.0</td>\n",
       "      <td>0</td>\n",
       "      <td>0</td>\n",
       "      <td>360</td>\n",
       "      <td>NaN</td>\n",
       "      <td>6.25</td>\n",
       "      <td>0.0</td>\n",
       "      <td>0.0</td>\n",
       "      <td>Q1</td>\n",
       "    </tr>\n",
       "    <tr>\n",
       "      <th>1</th>\n",
       "      <td>F108Q1000024</td>\n",
       "      <td>200803</td>\n",
       "      <td>192000.0</td>\n",
       "      <td>0</td>\n",
       "      <td>1</td>\n",
       "      <td>359</td>\n",
       "      <td>NaN</td>\n",
       "      <td>6.25</td>\n",
       "      <td>0.0</td>\n",
       "      <td>0.0</td>\n",
       "      <td>Q1</td>\n",
       "    </tr>\n",
       "    <tr>\n",
       "      <th>2</th>\n",
       "      <td>F108Q1000024</td>\n",
       "      <td>200804</td>\n",
       "      <td>191000.0</td>\n",
       "      <td>0</td>\n",
       "      <td>2</td>\n",
       "      <td>358</td>\n",
       "      <td>NaN</td>\n",
       "      <td>6.25</td>\n",
       "      <td>0.0</td>\n",
       "      <td>0.0</td>\n",
       "      <td>Q1</td>\n",
       "    </tr>\n",
       "    <tr>\n",
       "      <th>3</th>\n",
       "      <td>F108Q1000024</td>\n",
       "      <td>200805</td>\n",
       "      <td>191000.0</td>\n",
       "      <td>0</td>\n",
       "      <td>3</td>\n",
       "      <td>357</td>\n",
       "      <td>NaN</td>\n",
       "      <td>6.25</td>\n",
       "      <td>0.0</td>\n",
       "      <td>0.0</td>\n",
       "      <td>Q1</td>\n",
       "    </tr>\n",
       "    <tr>\n",
       "      <th>4</th>\n",
       "      <td>F108Q1000024</td>\n",
       "      <td>200806</td>\n",
       "      <td>191000.0</td>\n",
       "      <td>0</td>\n",
       "      <td>4</td>\n",
       "      <td>356</td>\n",
       "      <td>NaN</td>\n",
       "      <td>6.25</td>\n",
       "      <td>0.0</td>\n",
       "      <td>0.0</td>\n",
       "      <td>Q1</td>\n",
       "    </tr>\n",
       "  </tbody>\n",
       "</table>\n",
       "</div>"
      ],
      "text/plain": [
       "  loan_sequence_no  monthly_reporting_period  current_actual_upb  \\\n",
       "0     F108Q1000024                    200802            192000.0   \n",
       "1     F108Q1000024                    200803            192000.0   \n",
       "2     F108Q1000024                    200804            191000.0   \n",
       "3     F108Q1000024                    200805            191000.0   \n",
       "4     F108Q1000024                    200806            191000.0   \n",
       "\n",
       "  current_loan_delinquency_status  loan_age  \\\n",
       "0                               0         0   \n",
       "1                               0         1   \n",
       "2                               0         2   \n",
       "3                               0         3   \n",
       "4                               0         4   \n",
       "\n",
       "   remaning_months_on_legal_maturity  zero_bal_code  current_interest_rate  \\\n",
       "0                                360            NaN                   6.25   \n",
       "1                                359            NaN                   6.25   \n",
       "2                                358            NaN                   6.25   \n",
       "3                                357            NaN                   6.25   \n",
       "4                                356            NaN                   6.25   \n",
       "\n",
       "   current_deferred_upb  estimated_loan_to_value quarter  \n",
       "0                   0.0                      0.0      Q1  \n",
       "1                   0.0                      0.0      Q1  \n",
       "2                   0.0                      0.0      Q1  \n",
       "3                   0.0                      0.0      Q1  \n",
       "4                   0.0                      0.0      Q1  "
      ]
     },
     "execution_count": 51,
     "metadata": {},
     "output_type": "execute_result"
    }
   ],
   "source": [
    "svcg_2008.head()"
   ]
  },
  {
   "cell_type": "code",
   "execution_count": 52,
   "metadata": {},
   "outputs": [
    {
     "data": {
      "text/html": [
       "<div>\n",
       "<style scoped>\n",
       "    .dataframe tbody tr th:only-of-type {\n",
       "        vertical-align: middle;\n",
       "    }\n",
       "\n",
       "    .dataframe tbody tr th {\n",
       "        vertical-align: top;\n",
       "    }\n",
       "\n",
       "    .dataframe thead th {\n",
       "        text-align: right;\n",
       "    }\n",
       "</style>\n",
       "<table border=\"1\" class=\"dataframe\">\n",
       "  <thead>\n",
       "    <tr style=\"text-align: right;\">\n",
       "      <th>current_loan_delinquency_status</th>\n",
       "      <th>quarter</th>\n",
       "      <th>0</th>\n",
       "      <th>sum</th>\n",
       "      <th>delinquency_rate</th>\n",
       "    </tr>\n",
       "  </thead>\n",
       "  <tbody>\n",
       "    <tr>\n",
       "      <th>0</th>\n",
       "      <td>Q1</td>\n",
       "      <td>601615.0</td>\n",
       "      <td>645070.0</td>\n",
       "      <td>93.263522</td>\n",
       "    </tr>\n",
       "    <tr>\n",
       "      <th>1</th>\n",
       "      <td>Q2</td>\n",
       "      <td>562317.0</td>\n",
       "      <td>601724.0</td>\n",
       "      <td>93.450984</td>\n",
       "    </tr>\n",
       "    <tr>\n",
       "      <th>2</th>\n",
       "      <td>Q3</td>\n",
       "      <td>461182.0</td>\n",
       "      <td>495667.0</td>\n",
       "      <td>93.042708</td>\n",
       "    </tr>\n",
       "    <tr>\n",
       "      <th>3</th>\n",
       "      <td>Q4</td>\n",
       "      <td>496773.0</td>\n",
       "      <td>521972.0</td>\n",
       "      <td>95.172346</td>\n",
       "    </tr>\n",
       "  </tbody>\n",
       "</table>\n",
       "</div>"
      ],
      "text/plain": [
       "current_loan_delinquency_status quarter         0       sum  delinquency_rate\n",
       "0                                    Q1  601615.0  645070.0         93.263522\n",
       "1                                    Q2  562317.0  601724.0         93.450984\n",
       "2                                    Q3  461182.0  495667.0         93.042708\n",
       "3                                    Q4  496773.0  521972.0         95.172346"
      ]
     },
     "execution_count": 52,
     "metadata": {},
     "output_type": "execute_result"
    }
   ],
   "source": [
    "svcg_2008[\"current_loan_delinquency_status\"] = svcg_2008[\"current_loan_delinquency_status\"].astype(str)\n",
    "delinquency_2008 = pd.pivot_table(svcg_2008,index=['quarter'],values = 'loan_age',columns='current_loan_delinquency_status',aggfunc='count').reset_index()\n",
    "delinquency_2008['sum'] = delinquency_2008.sum(axis=1)\n",
    "delinquency_2008['delinquency_rate'] = delinquency_2008['0']/delinquency_2008['sum'] *100\n",
    "delinquency_2008 = delinquency_2008[['quarter','0','sum','delinquency_rate']]\n",
    "delinquency_2008.head()"
   ]
  },
  {
   "cell_type": "code",
   "execution_count": 53,
   "metadata": {},
   "outputs": [
    {
     "data": {
      "image/png": "[encoded data removed]",
      "text/plain": [
       "<Figure size 400x240 with 1 Axes>"
      ]
     },
     "metadata": {},
     "output_type": "display_data"
    }
   ],
   "source": [
    "plt.figure(figsize=(5,3),dpi = 80)\n",
    "ax = sns.lineplot(x = 'quarter', y = 'delinquency_rate', data = delinquency_2008)\n",
    "ax.set(xlabel = 'Quarter', ylabel = 'Deliquency Rate %')\n",
    "vals = ax.get_yticks()\n",
    "ax.set_yticklabels(['{:3.1f}%'.format(x) for x in vals])\n",
    "sns.despine()"
   ]
  },
  {
   "cell_type": "code",
   "execution_count": 54,
   "metadata": {},
   "outputs": [
    {
     "data": {
      "text/html": [
       "<div>\n",
       "<style scoped>\n",
       "    .dataframe tbody tr th:only-of-type {\n",
       "        vertical-align: middle;\n",
       "    }\n",
       "\n",
       "    .dataframe tbody tr th {\n",
       "        vertical-align: top;\n",
       "    }\n",
       "\n",
       "    .dataframe thead th {\n",
       "        text-align: right;\n",
       "    }\n",
       "</style>\n",
       "<table border=\"1\" class=\"dataframe\">\n",
       "  <thead>\n",
       "    <tr style=\"text-align: right;\">\n",
       "      <th>zero_bal_code</th>\n",
       "      <th>quarter</th>\n",
       "      <th>1.0</th>\n",
       "      <th>2.0</th>\n",
       "      <th>3.0</th>\n",
       "      <th>6.0</th>\n",
       "      <th>9.0</th>\n",
       "      <th>15.0</th>\n",
       "    </tr>\n",
       "  </thead>\n",
       "  <tbody>\n",
       "    <tr>\n",
       "      <th>0</th>\n",
       "      <td>Q1</td>\n",
       "      <td>10432</td>\n",
       "      <td>98</td>\n",
       "      <td>198</td>\n",
       "      <td>104</td>\n",
       "      <td>404</td>\n",
       "      <td>74</td>\n",
       "    </tr>\n",
       "    <tr>\n",
       "      <th>1</th>\n",
       "      <td>Q2</td>\n",
       "      <td>10526</td>\n",
       "      <td>84</td>\n",
       "      <td>148</td>\n",
       "      <td>116</td>\n",
       "      <td>319</td>\n",
       "      <td>66</td>\n",
       "    </tr>\n",
       "    <tr>\n",
       "      <th>2</th>\n",
       "      <td>Q3</td>\n",
       "      <td>10822</td>\n",
       "      <td>67</td>\n",
       "      <td>104</td>\n",
       "      <td>112</td>\n",
       "      <td>304</td>\n",
       "      <td>61</td>\n",
       "    </tr>\n",
       "    <tr>\n",
       "      <th>3</th>\n",
       "      <td>Q4</td>\n",
       "      <td>10974</td>\n",
       "      <td>58</td>\n",
       "      <td>70</td>\n",
       "      <td>66</td>\n",
       "      <td>160</td>\n",
       "      <td>33</td>\n",
       "    </tr>\n",
       "  </tbody>\n",
       "</table>\n",
       "</div>"
      ],
      "text/plain": [
       "zero_bal_code quarter    1.0  2.0  3.0  6.0  9.0  15.0\n",
       "0                  Q1  10432   98  198  104  404    74\n",
       "1                  Q2  10526   84  148  116  319    66\n",
       "2                  Q3  10822   67  104  112  304    61\n",
       "3                  Q4  10974   58   70   66  160    33"
      ]
     },
     "execution_count": 54,
     "metadata": {},
     "output_type": "execute_result"
    }
   ],
   "source": [
    "upb_2008 = pd.pivot_table(svcg_2008,index=['quarter'],values = 'loan_age',columns='zero_bal_code',aggfunc='count').reset_index()\n",
    "upb_2008"
   ]
  },
  {
   "cell_type": "code",
   "execution_count": 55,
   "metadata": {},
   "outputs": [
    {
     "data": {
      "text/html": [
       "<div>\n",
       "<style scoped>\n",
       "    .dataframe tbody tr th:only-of-type {\n",
       "        vertical-align: middle;\n",
       "    }\n",
       "\n",
       "    .dataframe tbody tr th {\n",
       "        vertical-align: top;\n",
       "    }\n",
       "\n",
       "    .dataframe thead th {\n",
       "        text-align: right;\n",
       "    }\n",
       "</style>\n",
       "<table border=\"1\" class=\"dataframe\">\n",
       "  <thead>\n",
       "    <tr style=\"text-align: right;\">\n",
       "      <th></th>\n",
       "      <th>quarter</th>\n",
       "      <th>loan_sequence_no</th>\n",
       "    </tr>\n",
       "  </thead>\n",
       "  <tbody>\n",
       "    <tr>\n",
       "      <th>0</th>\n",
       "      <td>Q1</td>\n",
       "      <td>12500</td>\n",
       "    </tr>\n",
       "    <tr>\n",
       "      <th>1</th>\n",
       "      <td>Q2</td>\n",
       "      <td>12498</td>\n",
       "    </tr>\n",
       "    <tr>\n",
       "      <th>2</th>\n",
       "      <td>Q3</td>\n",
       "      <td>12499</td>\n",
       "    </tr>\n",
       "    <tr>\n",
       "      <th>3</th>\n",
       "      <td>Q4</td>\n",
       "      <td>12498</td>\n",
       "    </tr>\n",
       "  </tbody>\n",
       "</table>\n",
       "</div>"
      ],
      "text/plain": [
       "  quarter  loan_sequence_no\n",
       "0      Q1             12500\n",
       "1      Q2             12498\n",
       "2      Q3             12499\n",
       "3      Q4             12498"
      ]
     },
     "execution_count": 55,
     "metadata": {},
     "output_type": "execute_result"
    }
   ],
   "source": [
    "g_2008 = pd.pivot_table(svcg_2008,index=['quarter','loan_sequence_no'],aggfunc='count').reset_index()\n",
    "t_2008 = pd.pivot_table(g_2008,index=['quarter'],values='loan_sequence_no',aggfunc='count').reset_index()\n",
    "t_2008.head()"
   ]
  },
  {
   "cell_type": "code",
   "execution_count": 56,
   "metadata": {},
   "outputs": [
    {
     "data": {
      "text/html": [
       "<div>\n",
       "<style scoped>\n",
       "    .dataframe tbody tr th:only-of-type {\n",
       "        vertical-align: middle;\n",
       "    }\n",
       "\n",
       "    .dataframe tbody tr th {\n",
       "        vertical-align: top;\n",
       "    }\n",
       "\n",
       "    .dataframe thead th {\n",
       "        text-align: right;\n",
       "    }\n",
       "</style>\n",
       "<table border=\"1\" class=\"dataframe\">\n",
       "  <thead>\n",
       "    <tr style=\"text-align: right;\">\n",
       "      <th>zero_bal_code</th>\n",
       "      <th>quarter</th>\n",
       "      <th>1.0</th>\n",
       "      <th>2.0</th>\n",
       "      <th>3.0</th>\n",
       "      <th>6.0</th>\n",
       "      <th>9.0</th>\n",
       "      <th>15.0</th>\n",
       "      <th>sum</th>\n",
       "      <th>percentage</th>\n",
       "    </tr>\n",
       "  </thead>\n",
       "  <tbody>\n",
       "    <tr>\n",
       "      <th>0</th>\n",
       "      <td>Q1</td>\n",
       "      <td>10432</td>\n",
       "      <td>98</td>\n",
       "      <td>198</td>\n",
       "      <td>104</td>\n",
       "      <td>404</td>\n",
       "      <td>74</td>\n",
       "      <td>12500</td>\n",
       "      <td>83.456000</td>\n",
       "    </tr>\n",
       "    <tr>\n",
       "      <th>1</th>\n",
       "      <td>Q2</td>\n",
       "      <td>10526</td>\n",
       "      <td>84</td>\n",
       "      <td>148</td>\n",
       "      <td>116</td>\n",
       "      <td>319</td>\n",
       "      <td>66</td>\n",
       "      <td>12498</td>\n",
       "      <td>84.221475</td>\n",
       "    </tr>\n",
       "    <tr>\n",
       "      <th>2</th>\n",
       "      <td>Q3</td>\n",
       "      <td>10822</td>\n",
       "      <td>67</td>\n",
       "      <td>104</td>\n",
       "      <td>112</td>\n",
       "      <td>304</td>\n",
       "      <td>61</td>\n",
       "      <td>12499</td>\n",
       "      <td>86.582927</td>\n",
       "    </tr>\n",
       "    <tr>\n",
       "      <th>3</th>\n",
       "      <td>Q4</td>\n",
       "      <td>10974</td>\n",
       "      <td>58</td>\n",
       "      <td>70</td>\n",
       "      <td>66</td>\n",
       "      <td>160</td>\n",
       "      <td>33</td>\n",
       "      <td>12498</td>\n",
       "      <td>87.806049</td>\n",
       "    </tr>\n",
       "  </tbody>\n",
       "</table>\n",
       "</div>"
      ],
      "text/plain": [
       "zero_bal_code quarter    1.0  2.0  3.0  6.0  9.0  15.0    sum  percentage\n",
       "0                  Q1  10432   98  198  104  404    74  12500   83.456000\n",
       "1                  Q2  10526   84  148  116  319    66  12498   84.221475\n",
       "2                  Q3  10822   67  104  112  304    61  12499   86.582927\n",
       "3                  Q4  10974   58   70   66  160    33  12498   87.806049"
      ]
     },
     "execution_count": 56,
     "metadata": {},
     "output_type": "execute_result"
    }
   ],
   "source": [
    "upb_2008['sum'] = t_2008['loan_sequence_no']\n",
    "upb_2008['percentage'] = upb_2008[1]/upb_2008['sum'] *100\n",
    "upb_2008"
   ]
  },
  {
   "cell_type": "code",
   "execution_count": 57,
   "metadata": {},
   "outputs": [
    {
     "data": {
      "image/png": "[encoded data removed]",
      "text/plain": [
       "<Figure size 560x320 with 1 Axes>"
      ]
     },
     "metadata": {},
     "output_type": "display_data"
    }
   ],
   "source": [
    "plt.figure(figsize=(7,4),dpi = 80)\n",
    "ax = sns.lineplot(x = 'quarter',y ='percentage',data = upb_2008,color='g')\n",
    "plt.yticks(np.arange(83,89,0.5))\n",
    "ax.set(xlabel = 'Quarter', ylabel = 'Pecentage of payoff')\n",
    "vals = ax.get_yticks()\n",
    "ax.set_yticklabels(['{:3.1f}%'.format(x) for x in vals])\n",
    "sns.despine()"
   ]
  },
  {
   "cell_type": "code",
   "execution_count": 58,
   "metadata": {},
   "outputs": [
    {
     "data": {
      "text/html": [
       "<div>\n",
       "<style scoped>\n",
       "    .dataframe tbody tr th:only-of-type {\n",
       "        vertical-align: middle;\n",
       "    }\n",
       "\n",
       "    .dataframe tbody tr th {\n",
       "        vertical-align: top;\n",
       "    }\n",
       "\n",
       "    .dataframe thead th {\n",
       "        text-align: right;\n",
       "    }\n",
       "</style>\n",
       "<table border=\"1\" class=\"dataframe\">\n",
       "  <thead>\n",
       "    <tr style=\"text-align: right;\">\n",
       "      <th></th>\n",
       "      <th>quarter</th>\n",
       "      <th>loan_sequence_no</th>\n",
       "      <th>current_interest_rate</th>\n",
       "    </tr>\n",
       "  </thead>\n",
       "  <tbody>\n",
       "    <tr>\n",
       "      <th>0</th>\n",
       "      <td>Q1</td>\n",
       "      <td>F108Q1000024</td>\n",
       "      <td>1.0</td>\n",
       "    </tr>\n",
       "    <tr>\n",
       "      <th>1</th>\n",
       "      <td>Q1</td>\n",
       "      <td>F108Q1000062</td>\n",
       "      <td>1.0</td>\n",
       "    </tr>\n",
       "    <tr>\n",
       "      <th>2</th>\n",
       "      <td>Q1</td>\n",
       "      <td>F108Q1000111</td>\n",
       "      <td>1.0</td>\n",
       "    </tr>\n",
       "    <tr>\n",
       "      <th>3</th>\n",
       "      <td>Q1</td>\n",
       "      <td>F108Q1000197</td>\n",
       "      <td>1.0</td>\n",
       "    </tr>\n",
       "    <tr>\n",
       "      <th>4</th>\n",
       "      <td>Q1</td>\n",
       "      <td>F108Q1000222</td>\n",
       "      <td>1.0</td>\n",
       "    </tr>\n",
       "  </tbody>\n",
       "</table>\n",
       "</div>"
      ],
      "text/plain": [
       "  quarter loan_sequence_no  current_interest_rate\n",
       "0      Q1     F108Q1000024                    1.0\n",
       "1      Q1     F108Q1000062                    1.0\n",
       "2      Q1     F108Q1000111                    1.0\n",
       "3      Q1     F108Q1000197                    1.0\n",
       "4      Q1     F108Q1000222                    1.0"
      ]
     },
     "execution_count": 58,
     "metadata": {},
     "output_type": "execute_result"
    }
   ],
   "source": [
    "func = lambda x: x.nunique()\n",
    "rate_2008 = pd.pivot_table(svcg_2008,index=['quarter','loan_sequence_no'],values = 'current_interest_rate',aggfunc=func).reset_index()\n",
    "rate_2008.head()"
   ]
  },
  {
   "cell_type": "code",
   "execution_count": 59,
   "metadata": {},
   "outputs": [
    {
     "data": {
      "text/html": [
       "<div>\n",
       "<style scoped>\n",
       "    .dataframe tbody tr th:only-of-type {\n",
       "        vertical-align: middle;\n",
       "    }\n",
       "\n",
       "    .dataframe tbody tr th {\n",
       "        vertical-align: top;\n",
       "    }\n",
       "\n",
       "    .dataframe thead th {\n",
       "        text-align: right;\n",
       "    }\n",
       "</style>\n",
       "<table border=\"1\" class=\"dataframe\">\n",
       "  <thead>\n",
       "    <tr style=\"text-align: right;\">\n",
       "      <th>current_interest_rate</th>\n",
       "      <th>quarter</th>\n",
       "      <th>1.0</th>\n",
       "      <th>2.0</th>\n",
       "      <th>3.0</th>\n",
       "      <th>4.0</th>\n",
       "      <th>5.0</th>\n",
       "      <th>6.0</th>\n",
       "    </tr>\n",
       "  </thead>\n",
       "  <tbody>\n",
       "    <tr>\n",
       "      <th>0</th>\n",
       "      <td>Q1</td>\n",
       "      <td>11659</td>\n",
       "      <td>627</td>\n",
       "      <td>112</td>\n",
       "      <td>58</td>\n",
       "      <td>40</td>\n",
       "      <td>4</td>\n",
       "    </tr>\n",
       "    <tr>\n",
       "      <th>1</th>\n",
       "      <td>Q2</td>\n",
       "      <td>11806</td>\n",
       "      <td>519</td>\n",
       "      <td>99</td>\n",
       "      <td>41</td>\n",
       "      <td>31</td>\n",
       "      <td>2</td>\n",
       "    </tr>\n",
       "    <tr>\n",
       "      <th>2</th>\n",
       "      <td>Q3</td>\n",
       "      <td>11821</td>\n",
       "      <td>504</td>\n",
       "      <td>80</td>\n",
       "      <td>62</td>\n",
       "      <td>30</td>\n",
       "      <td>2</td>\n",
       "    </tr>\n",
       "    <tr>\n",
       "      <th>3</th>\n",
       "      <td>Q4</td>\n",
       "      <td>12077</td>\n",
       "      <td>315</td>\n",
       "      <td>55</td>\n",
       "      <td>26</td>\n",
       "      <td>23</td>\n",
       "      <td>2</td>\n",
       "    </tr>\n",
       "  </tbody>\n",
       "</table>\n",
       "</div>"
      ],
      "text/plain": [
       "current_interest_rate quarter    1.0  2.0  3.0  4.0  5.0  6.0\n",
       "0                          Q1  11659  627  112   58   40    4\n",
       "1                          Q2  11806  519   99   41   31    2\n",
       "2                          Q3  11821  504   80   62   30    2\n",
       "3                          Q4  12077  315   55   26   23    2"
      ]
     },
     "execution_count": 59,
     "metadata": {},
     "output_type": "execute_result"
    }
   ],
   "source": [
    "ir_2008 = pd.pivot_table(rate_2008,index=['quarter'],values='loan_sequence_no',columns = 'current_interest_rate',aggfunc='count').reset_index()\n",
    "ir_2008.head()"
   ]
  },
  {
   "cell_type": "code",
   "execution_count": 60,
   "metadata": {},
   "outputs": [
    {
     "data": {
      "text/html": [
       "<div>\n",
       "<style scoped>\n",
       "    .dataframe tbody tr th:only-of-type {\n",
       "        vertical-align: middle;\n",
       "    }\n",
       "\n",
       "    .dataframe tbody tr th {\n",
       "        vertical-align: top;\n",
       "    }\n",
       "\n",
       "    .dataframe thead th {\n",
       "        text-align: right;\n",
       "    }\n",
       "</style>\n",
       "<table border=\"1\" class=\"dataframe\">\n",
       "  <thead>\n",
       "    <tr style=\"text-align: right;\">\n",
       "      <th>current_interest_rate</th>\n",
       "      <th>quarter</th>\n",
       "      <th>1.0</th>\n",
       "      <th>2.0</th>\n",
       "      <th>3.0</th>\n",
       "      <th>4.0</th>\n",
       "      <th>5.0</th>\n",
       "      <th>6.0</th>\n",
       "      <th>percentage</th>\n",
       "    </tr>\n",
       "  </thead>\n",
       "  <tbody>\n",
       "    <tr>\n",
       "      <th>0</th>\n",
       "      <td>Q1</td>\n",
       "      <td>11659</td>\n",
       "      <td>627</td>\n",
       "      <td>112</td>\n",
       "      <td>58</td>\n",
       "      <td>40</td>\n",
       "      <td>4</td>\n",
       "      <td>6.728000</td>\n",
       "    </tr>\n",
       "    <tr>\n",
       "      <th>1</th>\n",
       "      <td>Q2</td>\n",
       "      <td>11806</td>\n",
       "      <td>519</td>\n",
       "      <td>99</td>\n",
       "      <td>41</td>\n",
       "      <td>31</td>\n",
       "      <td>2</td>\n",
       "      <td>5.536886</td>\n",
       "    </tr>\n",
       "    <tr>\n",
       "      <th>2</th>\n",
       "      <td>Q3</td>\n",
       "      <td>11821</td>\n",
       "      <td>504</td>\n",
       "      <td>80</td>\n",
       "      <td>62</td>\n",
       "      <td>30</td>\n",
       "      <td>2</td>\n",
       "      <td>5.424434</td>\n",
       "    </tr>\n",
       "    <tr>\n",
       "      <th>3</th>\n",
       "      <td>Q4</td>\n",
       "      <td>12077</td>\n",
       "      <td>315</td>\n",
       "      <td>55</td>\n",
       "      <td>26</td>\n",
       "      <td>23</td>\n",
       "      <td>2</td>\n",
       "      <td>3.368539</td>\n",
       "    </tr>\n",
       "  </tbody>\n",
       "</table>\n",
       "</div>"
      ],
      "text/plain": [
       "current_interest_rate quarter    1.0  2.0  3.0  4.0  5.0  6.0  percentage\n",
       "0                          Q1  11659  627  112   58   40    4    6.728000\n",
       "1                          Q2  11806  519   99   41   31    2    5.536886\n",
       "2                          Q3  11821  504   80   62   30    2    5.424434\n",
       "3                          Q4  12077  315   55   26   23    2    3.368539"
      ]
     },
     "execution_count": 60,
     "metadata": {},
     "output_type": "execute_result"
    }
   ],
   "source": [
    "ir_2008['percentage'] = (ir_2008[2]+ir_2008[3]+ir_2008[4]+ir_2008[5]+ir_2008[6])/ir_2008.sum(axis=1) *100\n",
    "ir_2008"
   ]
  },
  {
   "cell_type": "code",
   "execution_count": 61,
   "metadata": {},
   "outputs": [
    {
     "data": {
      "image/png": "[encoded data removed]",
      "text/plain": [
       "<Figure size 560x320 with 1 Axes>"
      ]
     },
     "metadata": {},
     "output_type": "display_data"
    }
   ],
   "source": [
    "plt.figure(figsize=(7,4),dpi = 80)\n",
    "ax = sns.lineplot(x = 'quarter',y ='percentage',data = ir_2008,color='r')\n",
    "plt.yticks(np.arange(3,7.3,0.5))\n",
    "ax.set(xlabel = 'Quarter', ylabel = 'Pecentage of change interest rate')\n",
    "vals = ax.get_yticks()\n",
    "ax.set_yticklabels(['{:3.1f}%'.format(x) for x in vals])\n",
    "sns.despine()"
   ]
  },
  {
   "cell_type": "code",
   "execution_count": 62,
   "metadata": {},
   "outputs": [
    {
     "name": "stderr",
     "output_type": "stream",
     "text": [
      "/Users/mamamia/anaconda3/lib/python3.6/site-packages/IPython/core/interactiveshell.py:2785: DtypeWarning: Columns (3) have mixed types. Specify dtype option on import or set low_memory=False.\n",
      "  interactivity=interactivity, compiler=compiler, result=result)\n"
     ]
    }
   ],
   "source": [
    "orig_2009 = pd.read_csv('cleanFiles/sample_orig_2009.csv')\n",
    "svcg_2009 = pd.read_csv('cleanFiles/sample_svcg_2009.csv')\n",
    "\n",
    "orig_2009['quarter'] = orig_2009.loan_sequence_no.str[4:6]\n",
    "svcg_2009['quarter'] = svcg_2009.loan_sequence_no.str[4:6]"
   ]
  },
  {
   "cell_type": "markdown",
   "metadata": {},
   "source": [
    "#### Origination 2009"
   ]
  },
  {
   "cell_type": "code",
   "execution_count": 63,
   "metadata": {},
   "outputs": [
    {
     "data": {
      "text/html": [
       "<div>\n",
       "<style scoped>\n",
       "    .dataframe tbody tr th:only-of-type {\n",
       "        vertical-align: middle;\n",
       "    }\n",
       "\n",
       "    .dataframe tbody tr th {\n",
       "        vertical-align: top;\n",
       "    }\n",
       "\n",
       "    .dataframe thead th {\n",
       "        text-align: right;\n",
       "    }\n",
       "</style>\n",
       "<table border=\"1\" class=\"dataframe\">\n",
       "  <thead>\n",
       "    <tr style=\"text-align: right;\">\n",
       "      <th></th>\n",
       "      <th>credit_score</th>\n",
       "      <th>first_pay_date</th>\n",
       "      <th>first_time_homebuyer</th>\n",
       "      <th>maturity_date</th>\n",
       "      <th>msa</th>\n",
       "      <th>mi_percentage</th>\n",
       "      <th>no_of_units</th>\n",
       "      <th>occupance_status</th>\n",
       "      <th>original_cltv</th>\n",
       "      <th>original_dti_ratio</th>\n",
       "      <th>...</th>\n",
       "      <th>property_type</th>\n",
       "      <th>postal_code</th>\n",
       "      <th>loan_sequence_no</th>\n",
       "      <th>loan_purpose</th>\n",
       "      <th>original_loan_term</th>\n",
       "      <th>no_of_borrowers</th>\n",
       "      <th>seller_name</th>\n",
       "      <th>servicer_name</th>\n",
       "      <th>quarter</th>\n",
       "      <th>monthly_upb</th>\n",
       "    </tr>\n",
       "  </thead>\n",
       "  <tbody>\n",
       "    <tr>\n",
       "      <th>0</th>\n",
       "      <td>794.0</td>\n",
       "      <td>200903</td>\n",
       "      <td>N</td>\n",
       "      <td>203902</td>\n",
       "      <td>20260.0</td>\n",
       "      <td>12.0</td>\n",
       "      <td>1.0</td>\n",
       "      <td>P</td>\n",
       "      <td>82.0</td>\n",
       "      <td>35.0</td>\n",
       "      <td>...</td>\n",
       "      <td>SF</td>\n",
       "      <td>54800</td>\n",
       "      <td>F109Q1000018</td>\n",
       "      <td>N</td>\n",
       "      <td>360</td>\n",
       "      <td>1</td>\n",
       "      <td>Other sellers</td>\n",
       "      <td>Other servicers</td>\n",
       "      <td>Q1</td>\n",
       "      <td>555.555556</td>\n",
       "    </tr>\n",
       "    <tr>\n",
       "      <th>1</th>\n",
       "      <td>770.0</td>\n",
       "      <td>200904</td>\n",
       "      <td>N</td>\n",
       "      <td>203903</td>\n",
       "      <td>40340.0</td>\n",
       "      <td>25.0</td>\n",
       "      <td>1.0</td>\n",
       "      <td>P</td>\n",
       "      <td>89.0</td>\n",
       "      <td>43.0</td>\n",
       "      <td>...</td>\n",
       "      <td>SF</td>\n",
       "      <td>55900</td>\n",
       "      <td>F109Q1000036</td>\n",
       "      <td>N</td>\n",
       "      <td>360</td>\n",
       "      <td>2</td>\n",
       "      <td>Other sellers</td>\n",
       "      <td>Other servicers</td>\n",
       "      <td>Q1</td>\n",
       "      <td>661.111111</td>\n",
       "    </tr>\n",
       "    <tr>\n",
       "      <th>2</th>\n",
       "      <td>788.0</td>\n",
       "      <td>200904</td>\n",
       "      <td>N</td>\n",
       "      <td>203903</td>\n",
       "      <td>45820.0</td>\n",
       "      <td>12.0</td>\n",
       "      <td>1.0</td>\n",
       "      <td>P</td>\n",
       "      <td>84.0</td>\n",
       "      <td>40.0</td>\n",
       "      <td>...</td>\n",
       "      <td>SF</td>\n",
       "      <td>66600</td>\n",
       "      <td>F109Q1000072</td>\n",
       "      <td>C</td>\n",
       "      <td>360</td>\n",
       "      <td>1</td>\n",
       "      <td>Other sellers</td>\n",
       "      <td>Other servicers</td>\n",
       "      <td>Q1</td>\n",
       "      <td>444.444444</td>\n",
       "    </tr>\n",
       "    <tr>\n",
       "      <th>3</th>\n",
       "      <td>761.0</td>\n",
       "      <td>200904</td>\n",
       "      <td>N</td>\n",
       "      <td>203903</td>\n",
       "      <td>24220.0</td>\n",
       "      <td>0.0</td>\n",
       "      <td>1.0</td>\n",
       "      <td>P</td>\n",
       "      <td>75.0</td>\n",
       "      <td>30.0</td>\n",
       "      <td>...</td>\n",
       "      <td>SF</td>\n",
       "      <td>58200</td>\n",
       "      <td>F109Q1000090</td>\n",
       "      <td>C</td>\n",
       "      <td>360</td>\n",
       "      <td>2</td>\n",
       "      <td>Other sellers</td>\n",
       "      <td>Other servicers</td>\n",
       "      <td>Q1</td>\n",
       "      <td>341.666667</td>\n",
       "    </tr>\n",
       "    <tr>\n",
       "      <th>4</th>\n",
       "      <td>770.0</td>\n",
       "      <td>200903</td>\n",
       "      <td>N</td>\n",
       "      <td>203902</td>\n",
       "      <td>0.0</td>\n",
       "      <td>0.0</td>\n",
       "      <td>1.0</td>\n",
       "      <td>P</td>\n",
       "      <td>65.0</td>\n",
       "      <td>30.0</td>\n",
       "      <td>...</td>\n",
       "      <td>SF</td>\n",
       "      <td>58700</td>\n",
       "      <td>F109Q1000125</td>\n",
       "      <td>N</td>\n",
       "      <td>360</td>\n",
       "      <td>2</td>\n",
       "      <td>Other sellers</td>\n",
       "      <td>Other servicers</td>\n",
       "      <td>Q1</td>\n",
       "      <td>361.111111</td>\n",
       "    </tr>\n",
       "  </tbody>\n",
       "</table>\n",
       "<p>5 rows × 27 columns</p>\n",
       "</div>"
      ],
      "text/plain": [
       "   credit_score  first_pay_date first_time_homebuyer  maturity_date      msa  \\\n",
       "0         794.0          200903                    N         203902  20260.0   \n",
       "1         770.0          200904                    N         203903  40340.0   \n",
       "2         788.0          200904                    N         203903  45820.0   \n",
       "3         761.0          200904                    N         203903  24220.0   \n",
       "4         770.0          200903                    N         203902      0.0   \n",
       "\n",
       "   mi_percentage  no_of_units occupance_status  original_cltv  \\\n",
       "0           12.0          1.0                P           82.0   \n",
       "1           25.0          1.0                P           89.0   \n",
       "2           12.0          1.0                P           84.0   \n",
       "3            0.0          1.0                P           75.0   \n",
       "4            0.0          1.0                P           65.0   \n",
       "\n",
       "   original_dti_ratio     ...      property_type  postal_code  \\\n",
       "0                35.0     ...                 SF        54800   \n",
       "1                43.0     ...                 SF        55900   \n",
       "2                40.0     ...                 SF        66600   \n",
       "3                30.0     ...                 SF        58200   \n",
       "4                30.0     ...                 SF        58700   \n",
       "\n",
       "   loan_sequence_no loan_purpose original_loan_term no_of_borrowers  \\\n",
       "0      F109Q1000018            N                360               1   \n",
       "1      F109Q1000036            N                360               2   \n",
       "2      F109Q1000072            C                360               1   \n",
       "3      F109Q1000090            C                360               2   \n",
       "4      F109Q1000125            N                360               2   \n",
       "\n",
       "     seller_name    servicer_name  quarter monthly_upb  \n",
       "0  Other sellers  Other servicers       Q1  555.555556  \n",
       "1  Other sellers  Other servicers       Q1  661.111111  \n",
       "2  Other sellers  Other servicers       Q1  444.444444  \n",
       "3  Other sellers  Other servicers       Q1  341.666667  \n",
       "4  Other sellers  Other servicers       Q1  361.111111  \n",
       "\n",
       "[5 rows x 27 columns]"
      ]
     },
     "execution_count": 63,
     "metadata": {},
     "output_type": "execute_result"
    }
   ],
   "source": [
    "# create new col for analysis\n",
    "orig_2009['monthly_upb'] = orig_2009['original_upb']/orig_2009['original_loan_term']\n",
    "orig_2009.head()"
   ]
  },
  {
   "cell_type": "code",
   "execution_count": 64,
   "metadata": {},
   "outputs": [
    {
     "data": {
      "text/plain": [
       "Text(0.5, 1.0, '2009 UPB Quarterly Analysis')"
      ]
     },
     "execution_count": 64,
     "metadata": {},
     "output_type": "execute_result"
    },
    {
     "data": {
      "image/png": "[encoded data removed]",
      "text/plain": [
       "<Figure size 640x400 with 1 Axes>"
      ]
     },
     "metadata": {},
     "output_type": "display_data"
    }
   ],
   "source": [
    "plt.figure(figsize=(8,5),dpi = 80)\n",
    "ax = sns.boxplot(x=\"quarter\", y=\"monthly_upb\",showfliers=False,width = 0.5,data=orig_2009)\n",
    "ax.set(xlabel = 'Quarter',ylabel = 'Monthly_UPB')\n",
    "ax.set_title('2009 UPB Quarterly Analysis',fontsize = 15,pad = 30)"
   ]
  },
  {
   "cell_type": "code",
   "execution_count": 65,
   "metadata": {},
   "outputs": [
    {
     "data": {
      "text/html": [
       "<div>\n",
       "<style scoped>\n",
       "    .dataframe tbody tr th:only-of-type {\n",
       "        vertical-align: middle;\n",
       "    }\n",
       "\n",
       "    .dataframe tbody tr th {\n",
       "        vertical-align: top;\n",
       "    }\n",
       "\n",
       "    .dataframe thead th {\n",
       "        text-align: right;\n",
       "    }\n",
       "</style>\n",
       "<table border=\"1\" class=\"dataframe\">\n",
       "  <thead>\n",
       "    <tr style=\"text-align: right;\">\n",
       "      <th></th>\n",
       "      <th>quarter</th>\n",
       "      <th>credit_score</th>\n",
       "      <th>original_dti_ratio</th>\n",
       "    </tr>\n",
       "  </thead>\n",
       "  <tbody>\n",
       "    <tr>\n",
       "      <th>0</th>\n",
       "      <td>Q1</td>\n",
       "      <td>762.79328</td>\n",
       "      <td>36.91520</td>\n",
       "    </tr>\n",
       "    <tr>\n",
       "      <th>1</th>\n",
       "      <td>Q2</td>\n",
       "      <td>766.45008</td>\n",
       "      <td>32.96520</td>\n",
       "    </tr>\n",
       "    <tr>\n",
       "      <th>2</th>\n",
       "      <td>Q3</td>\n",
       "      <td>760.02976</td>\n",
       "      <td>34.13792</td>\n",
       "    </tr>\n",
       "    <tr>\n",
       "      <th>3</th>\n",
       "      <td>Q4</td>\n",
       "      <td>760.07144</td>\n",
       "      <td>32.84856</td>\n",
       "    </tr>\n",
       "  </tbody>\n",
       "</table>\n",
       "</div>"
      ],
      "text/plain": [
       "  quarter  credit_score  original_dti_ratio\n",
       "0      Q1     762.79328            36.91520\n",
       "1      Q2     766.45008            32.96520\n",
       "2      Q3     760.02976            34.13792\n",
       "3      Q4     760.07144            32.84856"
      ]
     },
     "execution_count": 65,
     "metadata": {},
     "output_type": "execute_result"
    }
   ],
   "source": [
    "cs2009 = orig_2009.groupby([\"quarter\"])['credit_score','original_dti_ratio'].mean().reset_index()\n",
    "cs2009"
   ]
  },
  {
   "cell_type": "code",
   "execution_count": 66,
   "metadata": {},
   "outputs": [
    {
     "data": {
      "image/png": "[encoded data removed]",
      "text/plain": [
       "<Figure size 960x320 with 2 Axes>"
      ]
     },
     "metadata": {},
     "output_type": "display_data"
    }
   ],
   "source": [
    "plt.figure(figsize=(12,4),dpi = 80)\n",
    "plt.subplot(1,2,1)\n",
    "ax1 = sns.lineplot(x = 'quarter', y = 'credit_score', data = cs2009)\n",
    "ax1.set(xlabel = 'Quarter',ylabel = 'Credit Score')\n",
    "plt.subplot(1,2,2)\n",
    "ax2 = sns.lineplot(x = 'quarter', y = 'original_dti_ratio', data = cs2009,color='r')\n",
    "ax2.set(xlabel = 'Quarter',ylabel = 'Original DTI Ratio')\n",
    "sns.despine()"
   ]
  },
  {
   "cell_type": "code",
   "execution_count": 67,
   "metadata": {},
   "outputs": [
    {
     "data": {
      "text/html": [
       "<div>\n",
       "<style scoped>\n",
       "    .dataframe tbody tr th:only-of-type {\n",
       "        vertical-align: middle;\n",
       "    }\n",
       "\n",
       "    .dataframe tbody tr th {\n",
       "        vertical-align: top;\n",
       "    }\n",
       "\n",
       "    .dataframe thead th {\n",
       "        text-align: right;\n",
       "    }\n",
       "</style>\n",
       "<table border=\"1\" class=\"dataframe\">\n",
       "  <thead>\n",
       "    <tr style=\"text-align: right;\">\n",
       "      <th>first_time_homebuyer</th>\n",
       "      <th>quarter</th>\n",
       "      <th>9</th>\n",
       "      <th>N</th>\n",
       "      <th>Y</th>\n",
       "    </tr>\n",
       "  </thead>\n",
       "  <tbody>\n",
       "    <tr>\n",
       "      <th>0</th>\n",
       "      <td>Q1</td>\n",
       "      <td>3276</td>\n",
       "      <td>8792</td>\n",
       "      <td>432</td>\n",
       "    </tr>\n",
       "    <tr>\n",
       "      <th>1</th>\n",
       "      <td>Q2</td>\n",
       "      <td>3664</td>\n",
       "      <td>8224</td>\n",
       "      <td>612</td>\n",
       "    </tr>\n",
       "    <tr>\n",
       "      <th>2</th>\n",
       "      <td>Q3</td>\n",
       "      <td>2816</td>\n",
       "      <td>8295</td>\n",
       "      <td>1389</td>\n",
       "    </tr>\n",
       "    <tr>\n",
       "      <th>3</th>\n",
       "      <td>Q4</td>\n",
       "      <td>2431</td>\n",
       "      <td>8798</td>\n",
       "      <td>1271</td>\n",
       "    </tr>\n",
       "  </tbody>\n",
       "</table>\n",
       "</div>"
      ],
      "text/plain": [
       "first_time_homebuyer quarter     9     N     Y\n",
       "0                         Q1  3276  8792   432\n",
       "1                         Q2  3664  8224   612\n",
       "2                         Q3  2816  8295  1389\n",
       "3                         Q4  2431  8798  1271"
      ]
     },
     "execution_count": 67,
     "metadata": {},
     "output_type": "execute_result"
    }
   ],
   "source": [
    "fthb_2009 = pd.pivot_table(orig_2009,index='quarter', values = 'credit_score',columns='first_time_homebuyer',aggfunc='count').reset_index()\n",
    "fthb_2009"
   ]
  },
  {
   "cell_type": "code",
   "execution_count": 68,
   "metadata": {},
   "outputs": [
    {
     "data": {
      "text/html": [
       "<div>\n",
       "<style scoped>\n",
       "    .dataframe tbody tr th:only-of-type {\n",
       "        vertical-align: middle;\n",
       "    }\n",
       "\n",
       "    .dataframe tbody tr th {\n",
       "        vertical-align: top;\n",
       "    }\n",
       "\n",
       "    .dataframe thead th {\n",
       "        text-align: right;\n",
       "    }\n",
       "</style>\n",
       "<table border=\"1\" class=\"dataframe\">\n",
       "  <thead>\n",
       "    <tr style=\"text-align: right;\">\n",
       "      <th>first_time_homebuyer</th>\n",
       "      <th>quarter</th>\n",
       "      <th>9</th>\n",
       "      <th>N</th>\n",
       "      <th>Y</th>\n",
       "      <th>percentage</th>\n",
       "    </tr>\n",
       "  </thead>\n",
       "  <tbody>\n",
       "    <tr>\n",
       "      <th>0</th>\n",
       "      <td>Q1</td>\n",
       "      <td>3276</td>\n",
       "      <td>8792</td>\n",
       "      <td>432</td>\n",
       "      <td>3.456</td>\n",
       "    </tr>\n",
       "    <tr>\n",
       "      <th>1</th>\n",
       "      <td>Q2</td>\n",
       "      <td>3664</td>\n",
       "      <td>8224</td>\n",
       "      <td>612</td>\n",
       "      <td>4.896</td>\n",
       "    </tr>\n",
       "    <tr>\n",
       "      <th>2</th>\n",
       "      <td>Q3</td>\n",
       "      <td>2816</td>\n",
       "      <td>8295</td>\n",
       "      <td>1389</td>\n",
       "      <td>11.112</td>\n",
       "    </tr>\n",
       "    <tr>\n",
       "      <th>3</th>\n",
       "      <td>Q4</td>\n",
       "      <td>2431</td>\n",
       "      <td>8798</td>\n",
       "      <td>1271</td>\n",
       "      <td>10.168</td>\n",
       "    </tr>\n",
       "  </tbody>\n",
       "</table>\n",
       "</div>"
      ],
      "text/plain": [
       "first_time_homebuyer quarter     9     N     Y  percentage\n",
       "0                         Q1  3276  8792   432       3.456\n",
       "1                         Q2  3664  8224   612       4.896\n",
       "2                         Q3  2816  8295  1389      11.112\n",
       "3                         Q4  2431  8798  1271      10.168"
      ]
     },
     "execution_count": 68,
     "metadata": {},
     "output_type": "execute_result"
    }
   ],
   "source": [
    "fthb_2009['percentage'] = fthb_2009['Y']/fthb_2009.sum(axis=1) * 100\n",
    "fthb_2009"
   ]
  },
  {
   "cell_type": "code",
   "execution_count": 69,
   "metadata": {},
   "outputs": [
    {
     "data": {
      "text/plain": [
       "[Text(0, 0.5, 'Total First Time Home Buyer percentale'),\n",
       " Text(0.5, 0, 'Quarter')]"
      ]
     },
     "execution_count": 69,
     "metadata": {},
     "output_type": "execute_result"
    },
    {
     "data": {
      "image/png": "[encoded data removed]",
      "text/plain": [
       "<Figure size 320x240 with 1 Axes>"
      ]
     },
     "metadata": {},
     "output_type": "display_data"
    }
   ],
   "source": [
    "plt.figure(figsize=(4,3),dpi = 80)\n",
    "ax = sns.barplot(x ='quarter',y ='percentage',data = fthb_2009)\n",
    "vals = ax.get_yticks()\n",
    "ax.set_yticklabels(['{:3.1f}%'.format(x) for x in vals])\n",
    "ax.set(xlabel = 'Quarter', ylabel = 'Total First Time Home Buyer percentale')"
   ]
  },
  {
   "cell_type": "code",
   "execution_count": 70,
   "metadata": {},
   "outputs": [
    {
     "data": {
      "text/html": [
       "<div>\n",
       "<style scoped>\n",
       "    .dataframe tbody tr th:only-of-type {\n",
       "        vertical-align: middle;\n",
       "    }\n",
       "\n",
       "    .dataframe tbody tr th {\n",
       "        vertical-align: top;\n",
       "    }\n",
       "\n",
       "    .dataframe thead th {\n",
       "        text-align: right;\n",
       "    }\n",
       "</style>\n",
       "<table border=\"1\" class=\"dataframe\">\n",
       "  <thead>\n",
       "    <tr style=\"text-align: right;\">\n",
       "      <th>quarter</th>\n",
       "      <th>property_state</th>\n",
       "      <th>Q1</th>\n",
       "      <th>Q2</th>\n",
       "      <th>Q3</th>\n",
       "      <th>Q4</th>\n",
       "    </tr>\n",
       "  </thead>\n",
       "  <tbody>\n",
       "    <tr>\n",
       "      <th>0</th>\n",
       "      <td>AK</td>\n",
       "      <td>39.0</td>\n",
       "      <td>42.0</td>\n",
       "      <td>43.0</td>\n",
       "      <td>31.0</td>\n",
       "    </tr>\n",
       "    <tr>\n",
       "      <th>1</th>\n",
       "      <td>AL</td>\n",
       "      <td>136.0</td>\n",
       "      <td>122.0</td>\n",
       "      <td>106.0</td>\n",
       "      <td>130.0</td>\n",
       "    </tr>\n",
       "    <tr>\n",
       "      <th>2</th>\n",
       "      <td>AR</td>\n",
       "      <td>73.0</td>\n",
       "      <td>62.0</td>\n",
       "      <td>70.0</td>\n",
       "      <td>76.0</td>\n",
       "    </tr>\n",
       "    <tr>\n",
       "      <th>3</th>\n",
       "      <td>AZ</td>\n",
       "      <td>213.0</td>\n",
       "      <td>230.0</td>\n",
       "      <td>264.0</td>\n",
       "      <td>242.0</td>\n",
       "    </tr>\n",
       "    <tr>\n",
       "      <th>4</th>\n",
       "      <td>CA</td>\n",
       "      <td>1270.0</td>\n",
       "      <td>1341.0</td>\n",
       "      <td>1570.0</td>\n",
       "      <td>1749.0</td>\n",
       "    </tr>\n",
       "  </tbody>\n",
       "</table>\n",
       "</div>"
      ],
      "text/plain": [
       "quarter property_state      Q1      Q2      Q3      Q4\n",
       "0                   AK    39.0    42.0    43.0    31.0\n",
       "1                   AL   136.0   122.0   106.0   130.0\n",
       "2                   AR    73.0    62.0    70.0    76.0\n",
       "3                   AZ   213.0   230.0   264.0   242.0\n",
       "4                   CA  1270.0  1341.0  1570.0  1749.0"
      ]
     },
     "execution_count": 70,
     "metadata": {},
     "output_type": "execute_result"
    }
   ],
   "source": [
    "ps_2009 = pd.pivot_table(orig_2009,index='property_state', values = 'credit_score',columns='quarter',aggfunc='count').reset_index()\n",
    "ps_2009.head()"
   ]
  },
  {
   "cell_type": "code",
   "execution_count": 71,
   "metadata": {},
   "outputs": [
    {
     "data": {
      "text/plain": [
       "[Text(0, 0.5, 'Number of loan'), Text(0.5, 0, 'State')]"
      ]
     },
     "execution_count": 71,
     "metadata": {},
     "output_type": "execute_result"
    },
    {
     "data": {
      "image/png": "[encoded data removed]",
      "text/plain": [
       "<Figure size 1296x576 with 1 Axes>"
      ]
     },
     "metadata": {},
     "output_type": "display_data"
    }
   ],
   "source": [
    "ax = ps_2009.plot(kind = 'bar', figsize = (18,8),stacked=True)\n",
    "state_name = ps_2009['property_state']\n",
    "ax.set_xticklabels(state_name, rotation='vertical', fontsize=13)\n",
    "ax.set(xlabel = 'State', ylabel = 'Number of loan')"
   ]
  },
  {
   "cell_type": "code",
   "execution_count": 72,
   "metadata": {},
   "outputs": [
    {
     "data": {
      "text/html": [
       "<div>\n",
       "<style scoped>\n",
       "    .dataframe tbody tr th:only-of-type {\n",
       "        vertical-align: middle;\n",
       "    }\n",
       "\n",
       "    .dataframe tbody tr th {\n",
       "        vertical-align: top;\n",
       "    }\n",
       "\n",
       "    .dataframe thead th {\n",
       "        text-align: right;\n",
       "    }\n",
       "</style>\n",
       "<table border=\"1\" class=\"dataframe\">\n",
       "  <thead>\n",
       "    <tr style=\"text-align: right;\">\n",
       "      <th>quarter</th>\n",
       "      <th>seller_name</th>\n",
       "      <th>Q1</th>\n",
       "      <th>Q2</th>\n",
       "      <th>Q3</th>\n",
       "      <th>Q4</th>\n",
       "    </tr>\n",
       "  </thead>\n",
       "  <tbody>\n",
       "    <tr>\n",
       "      <th>0</th>\n",
       "      <td>AMTRUSTBANK</td>\n",
       "      <td>227.0</td>\n",
       "      <td>194.0</td>\n",
       "      <td>204.0</td>\n",
       "      <td>174.0</td>\n",
       "    </tr>\n",
       "    <tr>\n",
       "      <th>1</th>\n",
       "      <td>BANKOFAMERICA,NA</td>\n",
       "      <td>408.0</td>\n",
       "      <td>698.0</td>\n",
       "      <td>1304.0</td>\n",
       "      <td>1806.0</td>\n",
       "    </tr>\n",
       "    <tr>\n",
       "      <th>2</th>\n",
       "      <td>BRANCHBANKING&amp;TRUSTC</td>\n",
       "      <td>635.0</td>\n",
       "      <td>604.0</td>\n",
       "      <td>621.0</td>\n",
       "      <td>572.0</td>\n",
       "    </tr>\n",
       "    <tr>\n",
       "      <th>3</th>\n",
       "      <td>CHASEHOMEFINANCELLC</td>\n",
       "      <td>799.0</td>\n",
       "      <td>871.0</td>\n",
       "      <td>1041.0</td>\n",
       "      <td>1041.0</td>\n",
       "    </tr>\n",
       "    <tr>\n",
       "      <th>4</th>\n",
       "      <td>CITIMORTGAGE,INC</td>\n",
       "      <td>406.0</td>\n",
       "      <td>647.0</td>\n",
       "      <td>387.0</td>\n",
       "      <td>362.0</td>\n",
       "    </tr>\n",
       "  </tbody>\n",
       "</table>\n",
       "</div>"
      ],
      "text/plain": [
       "quarter           seller_name     Q1     Q2      Q3      Q4\n",
       "0                 AMTRUSTBANK  227.0  194.0   204.0   174.0\n",
       "1            BANKOFAMERICA,NA  408.0  698.0  1304.0  1806.0\n",
       "2        BRANCHBANKING&TRUSTC  635.0  604.0   621.0   572.0\n",
       "3         CHASEHOMEFINANCELLC  799.0  871.0  1041.0  1041.0\n",
       "4            CITIMORTGAGE,INC  406.0  647.0   387.0   362.0"
      ]
     },
     "execution_count": 72,
     "metadata": {},
     "output_type": "execute_result"
    }
   ],
   "source": [
    "seller_2009 = pd.pivot_table(orig_2009,index='seller_name', values = 'credit_score',columns='quarter',aggfunc='count').reset_index()\n",
    "seller_2009.head()"
   ]
  },
  {
   "cell_type": "code",
   "execution_count": 73,
   "metadata": {},
   "outputs": [
    {
     "data": {
      "text/plain": [
       "[Text(0, 0.5, 'Number of loan'), Text(0.5, 0, 'Seller')]"
      ]
     },
     "execution_count": 73,
     "metadata": {},
     "output_type": "execute_result"
    },
    {
     "data": {
      "image/png": "[encoded data removed]",
      "text/plain": [
       "<Figure size 1296x576 with 1 Axes>"
      ]
     },
     "metadata": {},
     "output_type": "display_data"
    }
   ],
   "source": [
    "ax = seller_2009.plot(kind = 'bar', figsize = (18,8),stacked=True)\n",
    "seller_name = seller_2009['seller_name']\n",
    "ax.set_xticklabels(seller_name, rotation='vertical', fontsize=13)\n",
    "ax.set(xlabel = 'Seller', ylabel = 'Number of loan')"
   ]
  },
  {
   "cell_type": "markdown",
   "metadata": {},
   "source": [
    "#### Performance 2009"
   ]
  },
  {
   "cell_type": "code",
   "execution_count": 74,
   "metadata": {},
   "outputs": [
    {
     "data": {
      "text/html": [
       "<div>\n",
       "<style scoped>\n",
       "    .dataframe tbody tr th:only-of-type {\n",
       "        vertical-align: middle;\n",
       "    }\n",
       "\n",
       "    .dataframe tbody tr th {\n",
       "        vertical-align: top;\n",
       "    }\n",
       "\n",
       "    .dataframe thead th {\n",
       "        text-align: right;\n",
       "    }\n",
       "</style>\n",
       "<table border=\"1\" class=\"dataframe\">\n",
       "  <thead>\n",
       "    <tr style=\"text-align: right;\">\n",
       "      <th></th>\n",
       "      <th>loan_sequence_no</th>\n",
       "      <th>monthly_reporting_period</th>\n",
       "      <th>current_actual_upb</th>\n",
       "      <th>current_loan_delinquency_status</th>\n",
       "      <th>loan_age</th>\n",
       "      <th>remaning_months_on_legal_maturity</th>\n",
       "      <th>zero_bal_code</th>\n",
       "      <th>current_interest_rate</th>\n",
       "      <th>current_deferred_upb</th>\n",
       "      <th>estimated_loan_to_value</th>\n",
       "      <th>quarter</th>\n",
       "    </tr>\n",
       "  </thead>\n",
       "  <tbody>\n",
       "    <tr>\n",
       "      <th>0</th>\n",
       "      <td>F109Q1000018</td>\n",
       "      <td>200902</td>\n",
       "      <td>200000.0</td>\n",
       "      <td>0</td>\n",
       "      <td>0</td>\n",
       "      <td>360</td>\n",
       "      <td>NaN</td>\n",
       "      <td>5.0</td>\n",
       "      <td>0.0</td>\n",
       "      <td>0.0</td>\n",
       "      <td>Q1</td>\n",
       "    </tr>\n",
       "    <tr>\n",
       "      <th>1</th>\n",
       "      <td>F109Q1000018</td>\n",
       "      <td>200903</td>\n",
       "      <td>200000.0</td>\n",
       "      <td>0</td>\n",
       "      <td>1</td>\n",
       "      <td>359</td>\n",
       "      <td>NaN</td>\n",
       "      <td>5.0</td>\n",
       "      <td>0.0</td>\n",
       "      <td>0.0</td>\n",
       "      <td>Q1</td>\n",
       "    </tr>\n",
       "    <tr>\n",
       "      <th>2</th>\n",
       "      <td>F109Q1000018</td>\n",
       "      <td>200904</td>\n",
       "      <td>200000.0</td>\n",
       "      <td>0</td>\n",
       "      <td>2</td>\n",
       "      <td>358</td>\n",
       "      <td>NaN</td>\n",
       "      <td>5.0</td>\n",
       "      <td>0.0</td>\n",
       "      <td>0.0</td>\n",
       "      <td>Q1</td>\n",
       "    </tr>\n",
       "    <tr>\n",
       "      <th>3</th>\n",
       "      <td>F109Q1000018</td>\n",
       "      <td>200905</td>\n",
       "      <td>199000.0</td>\n",
       "      <td>0</td>\n",
       "      <td>3</td>\n",
       "      <td>357</td>\n",
       "      <td>NaN</td>\n",
       "      <td>5.0</td>\n",
       "      <td>0.0</td>\n",
       "      <td>0.0</td>\n",
       "      <td>Q1</td>\n",
       "    </tr>\n",
       "    <tr>\n",
       "      <th>4</th>\n",
       "      <td>F109Q1000018</td>\n",
       "      <td>200906</td>\n",
       "      <td>199000.0</td>\n",
       "      <td>0</td>\n",
       "      <td>4</td>\n",
       "      <td>356</td>\n",
       "      <td>NaN</td>\n",
       "      <td>5.0</td>\n",
       "      <td>0.0</td>\n",
       "      <td>0.0</td>\n",
       "      <td>Q1</td>\n",
       "    </tr>\n",
       "  </tbody>\n",
       "</table>\n",
       "</div>"
      ],
      "text/plain": [
       "  loan_sequence_no  monthly_reporting_period  current_actual_upb  \\\n",
       "0     F109Q1000018                    200902            200000.0   \n",
       "1     F109Q1000018                    200903            200000.0   \n",
       "2     F109Q1000018                    200904            200000.0   \n",
       "3     F109Q1000018                    200905            199000.0   \n",
       "4     F109Q1000018                    200906            199000.0   \n",
       "\n",
       "  current_loan_delinquency_status  loan_age  \\\n",
       "0                               0         0   \n",
       "1                               0         1   \n",
       "2                               0         2   \n",
       "3                               0         3   \n",
       "4                               0         4   \n",
       "\n",
       "   remaning_months_on_legal_maturity  zero_bal_code  current_interest_rate  \\\n",
       "0                                360            NaN                    5.0   \n",
       "1                                359            NaN                    5.0   \n",
       "2                                358            NaN                    5.0   \n",
       "3                                357            NaN                    5.0   \n",
       "4                                356            NaN                    5.0   \n",
       "\n",
       "   current_deferred_upb  estimated_loan_to_value quarter  \n",
       "0                   0.0                      0.0      Q1  \n",
       "1                   0.0                      0.0      Q1  \n",
       "2                   0.0                      0.0      Q1  \n",
       "3                   0.0                      0.0      Q1  \n",
       "4                   0.0                      0.0      Q1  "
      ]
     },
     "execution_count": 74,
     "metadata": {},
     "output_type": "execute_result"
    }
   ],
   "source": [
    "svcg_2009.head()"
   ]
  },
  {
   "cell_type": "code",
   "execution_count": 75,
   "metadata": {},
   "outputs": [
    {
     "data": {
      "text/html": [
       "<div>\n",
       "<style scoped>\n",
       "    .dataframe tbody tr th:only-of-type {\n",
       "        vertical-align: middle;\n",
       "    }\n",
       "\n",
       "    .dataframe tbody tr th {\n",
       "        vertical-align: top;\n",
       "    }\n",
       "\n",
       "    .dataframe thead th {\n",
       "        text-align: right;\n",
       "    }\n",
       "</style>\n",
       "<table border=\"1\" class=\"dataframe\">\n",
       "  <thead>\n",
       "    <tr style=\"text-align: right;\">\n",
       "      <th>current_loan_delinquency_status</th>\n",
       "      <th>quarter</th>\n",
       "      <th>0</th>\n",
       "      <th>sum</th>\n",
       "      <th>delinquency_rate</th>\n",
       "    </tr>\n",
       "  </thead>\n",
       "  <tbody>\n",
       "    <tr>\n",
       "      <th>0</th>\n",
       "      <td>Q1</td>\n",
       "      <td>626768.0</td>\n",
       "      <td>634856.0</td>\n",
       "      <td>98.726010</td>\n",
       "    </tr>\n",
       "    <tr>\n",
       "      <th>1</th>\n",
       "      <td>Q2</td>\n",
       "      <td>690598.0</td>\n",
       "      <td>697155.0</td>\n",
       "      <td>99.059463</td>\n",
       "    </tr>\n",
       "    <tr>\n",
       "      <th>2</th>\n",
       "      <td>Q3</td>\n",
       "      <td>653780.0</td>\n",
       "      <td>661931.0</td>\n",
       "      <td>98.768603</td>\n",
       "    </tr>\n",
       "    <tr>\n",
       "      <th>3</th>\n",
       "      <td>Q4</td>\n",
       "      <td>651367.0</td>\n",
       "      <td>659057.0</td>\n",
       "      <td>98.833181</td>\n",
       "    </tr>\n",
       "  </tbody>\n",
       "</table>\n",
       "</div>"
      ],
      "text/plain": [
       "current_loan_delinquency_status quarter         0       sum  delinquency_rate\n",
       "0                                    Q1  626768.0  634856.0         98.726010\n",
       "1                                    Q2  690598.0  697155.0         99.059463\n",
       "2                                    Q3  653780.0  661931.0         98.768603\n",
       "3                                    Q4  651367.0  659057.0         98.833181"
      ]
     },
     "execution_count": 75,
     "metadata": {},
     "output_type": "execute_result"
    }
   ],
   "source": [
    "svcg_2009[\"current_loan_delinquency_status\"] = svcg_2009[\"current_loan_delinquency_status\"].astype(str)\n",
    "delinquency_2009 = pd.pivot_table(svcg_2009,index=['quarter'],values = 'loan_age',columns='current_loan_delinquency_status',aggfunc='count').reset_index()\n",
    "delinquency_2009['sum'] = delinquency_2009.sum(axis=1)\n",
    "delinquency_2009['delinquency_rate'] = delinquency_2009['0']/delinquency_2009['sum'] *100\n",
    "delinquency_2009 = delinquency_2009[['quarter','0','sum','delinquency_rate']]\n",
    "delinquency_2009.head()"
   ]
  },
  {
   "cell_type": "code",
   "execution_count": 76,
   "metadata": {},
   "outputs": [
    {
     "data": {
      "image/png": "[encoded data removed]",
      "text/plain": [
       "<Figure size 400x240 with 1 Axes>"
      ]
     },
     "metadata": {},
     "output_type": "display_data"
    }
   ],
   "source": [
    "plt.figure(figsize=(5,3),dpi = 80)\n",
    "ax = sns.lineplot(x = 'quarter', y = 'delinquency_rate', data = delinquency_2009)\n",
    "ax.set(xlabel = 'Quarter', ylabel = 'Deliquency Rate %')\n",
    "vals = ax.get_yticks()\n",
    "ax.set_yticklabels(['{:3.1f}%'.format(x) for x in vals])\n",
    "sns.despine()"
   ]
  },
  {
   "cell_type": "code",
   "execution_count": 77,
   "metadata": {},
   "outputs": [
    {
     "data": {
      "text/html": [
       "<div>\n",
       "<style scoped>\n",
       "    .dataframe tbody tr th:only-of-type {\n",
       "        vertical-align: middle;\n",
       "    }\n",
       "\n",
       "    .dataframe tbody tr th {\n",
       "        vertical-align: top;\n",
       "    }\n",
       "\n",
       "    .dataframe thead th {\n",
       "        text-align: right;\n",
       "    }\n",
       "</style>\n",
       "<table border=\"1\" class=\"dataframe\">\n",
       "  <thead>\n",
       "    <tr style=\"text-align: right;\">\n",
       "      <th>zero_bal_code</th>\n",
       "      <th>quarter</th>\n",
       "      <th>1.0</th>\n",
       "      <th>2.0</th>\n",
       "      <th>3.0</th>\n",
       "      <th>6.0</th>\n",
       "      <th>9.0</th>\n",
       "      <th>15.0</th>\n",
       "    </tr>\n",
       "  </thead>\n",
       "  <tbody>\n",
       "    <tr>\n",
       "      <th>0</th>\n",
       "      <td>Q1</td>\n",
       "      <td>10745</td>\n",
       "      <td>19</td>\n",
       "      <td>34</td>\n",
       "      <td>16</td>\n",
       "      <td>57</td>\n",
       "      <td>7</td>\n",
       "    </tr>\n",
       "    <tr>\n",
       "      <th>1</th>\n",
       "      <td>Q2</td>\n",
       "      <td>10167</td>\n",
       "      <td>15</td>\n",
       "      <td>11</td>\n",
       "      <td>14</td>\n",
       "      <td>31</td>\n",
       "      <td>4</td>\n",
       "    </tr>\n",
       "    <tr>\n",
       "      <th>2</th>\n",
       "      <td>Q3</td>\n",
       "      <td>9994</td>\n",
       "      <td>14</td>\n",
       "      <td>8</td>\n",
       "      <td>61</td>\n",
       "      <td>31</td>\n",
       "      <td>4</td>\n",
       "    </tr>\n",
       "    <tr>\n",
       "      <th>3</th>\n",
       "      <td>Q4</td>\n",
       "      <td>9721</td>\n",
       "      <td>9</td>\n",
       "      <td>16</td>\n",
       "      <td>19</td>\n",
       "      <td>36</td>\n",
       "      <td>7</td>\n",
       "    </tr>\n",
       "  </tbody>\n",
       "</table>\n",
       "</div>"
      ],
      "text/plain": [
       "zero_bal_code quarter    1.0  2.0  3.0  6.0  9.0  15.0\n",
       "0                  Q1  10745   19   34   16   57     7\n",
       "1                  Q2  10167   15   11   14   31     4\n",
       "2                  Q3   9994   14    8   61   31     4\n",
       "3                  Q4   9721    9   16   19   36     7"
      ]
     },
     "execution_count": 77,
     "metadata": {},
     "output_type": "execute_result"
    }
   ],
   "source": [
    "upb_2009 = pd.pivot_table(svcg_2009,index=['quarter'],values = 'loan_age',columns='zero_bal_code',aggfunc='count').reset_index()\n",
    "upb_2009"
   ]
  },
  {
   "cell_type": "code",
   "execution_count": 78,
   "metadata": {},
   "outputs": [
    {
     "data": {
      "text/html": [
       "<div>\n",
       "<style scoped>\n",
       "    .dataframe tbody tr th:only-of-type {\n",
       "        vertical-align: middle;\n",
       "    }\n",
       "\n",
       "    .dataframe tbody tr th {\n",
       "        vertical-align: top;\n",
       "    }\n",
       "\n",
       "    .dataframe thead th {\n",
       "        text-align: right;\n",
       "    }\n",
       "</style>\n",
       "<table border=\"1\" class=\"dataframe\">\n",
       "  <thead>\n",
       "    <tr style=\"text-align: right;\">\n",
       "      <th></th>\n",
       "      <th>quarter</th>\n",
       "      <th>loan_sequence_no</th>\n",
       "    </tr>\n",
       "  </thead>\n",
       "  <tbody>\n",
       "    <tr>\n",
       "      <th>0</th>\n",
       "      <td>Q1</td>\n",
       "      <td>12500</td>\n",
       "    </tr>\n",
       "    <tr>\n",
       "      <th>1</th>\n",
       "      <td>Q2</td>\n",
       "      <td>12500</td>\n",
       "    </tr>\n",
       "    <tr>\n",
       "      <th>2</th>\n",
       "      <td>Q3</td>\n",
       "      <td>12499</td>\n",
       "    </tr>\n",
       "    <tr>\n",
       "      <th>3</th>\n",
       "      <td>Q4</td>\n",
       "      <td>12499</td>\n",
       "    </tr>\n",
       "  </tbody>\n",
       "</table>\n",
       "</div>"
      ],
      "text/plain": [
       "  quarter  loan_sequence_no\n",
       "0      Q1             12500\n",
       "1      Q2             12500\n",
       "2      Q3             12499\n",
       "3      Q4             12499"
      ]
     },
     "execution_count": 78,
     "metadata": {},
     "output_type": "execute_result"
    }
   ],
   "source": [
    "g_2009 = pd.pivot_table(svcg_2009,index=['quarter','loan_sequence_no'],aggfunc='count').reset_index()\n",
    "t_2009 = pd.pivot_table(g_2009,index=['quarter'],values='loan_sequence_no',aggfunc='count').reset_index()\n",
    "t_2009.head()"
   ]
  },
  {
   "cell_type": "code",
   "execution_count": 79,
   "metadata": {},
   "outputs": [
    {
     "data": {
      "text/html": [
       "<div>\n",
       "<style scoped>\n",
       "    .dataframe tbody tr th:only-of-type {\n",
       "        vertical-align: middle;\n",
       "    }\n",
       "\n",
       "    .dataframe tbody tr th {\n",
       "        vertical-align: top;\n",
       "    }\n",
       "\n",
       "    .dataframe thead th {\n",
       "        text-align: right;\n",
       "    }\n",
       "</style>\n",
       "<table border=\"1\" class=\"dataframe\">\n",
       "  <thead>\n",
       "    <tr style=\"text-align: right;\">\n",
       "      <th>zero_bal_code</th>\n",
       "      <th>quarter</th>\n",
       "      <th>1.0</th>\n",
       "      <th>2.0</th>\n",
       "      <th>3.0</th>\n",
       "      <th>6.0</th>\n",
       "      <th>9.0</th>\n",
       "      <th>15.0</th>\n",
       "      <th>sum</th>\n",
       "      <th>percentage</th>\n",
       "    </tr>\n",
       "  </thead>\n",
       "  <tbody>\n",
       "    <tr>\n",
       "      <th>0</th>\n",
       "      <td>Q1</td>\n",
       "      <td>10745</td>\n",
       "      <td>19</td>\n",
       "      <td>34</td>\n",
       "      <td>16</td>\n",
       "      <td>57</td>\n",
       "      <td>7</td>\n",
       "      <td>12500</td>\n",
       "      <td>85.960000</td>\n",
       "    </tr>\n",
       "    <tr>\n",
       "      <th>1</th>\n",
       "      <td>Q2</td>\n",
       "      <td>10167</td>\n",
       "      <td>15</td>\n",
       "      <td>11</td>\n",
       "      <td>14</td>\n",
       "      <td>31</td>\n",
       "      <td>4</td>\n",
       "      <td>12500</td>\n",
       "      <td>81.336000</td>\n",
       "    </tr>\n",
       "    <tr>\n",
       "      <th>2</th>\n",
       "      <td>Q3</td>\n",
       "      <td>9994</td>\n",
       "      <td>14</td>\n",
       "      <td>8</td>\n",
       "      <td>61</td>\n",
       "      <td>31</td>\n",
       "      <td>4</td>\n",
       "      <td>12499</td>\n",
       "      <td>79.958397</td>\n",
       "    </tr>\n",
       "    <tr>\n",
       "      <th>3</th>\n",
       "      <td>Q4</td>\n",
       "      <td>9721</td>\n",
       "      <td>9</td>\n",
       "      <td>16</td>\n",
       "      <td>19</td>\n",
       "      <td>36</td>\n",
       "      <td>7</td>\n",
       "      <td>12499</td>\n",
       "      <td>77.774222</td>\n",
       "    </tr>\n",
       "  </tbody>\n",
       "</table>\n",
       "</div>"
      ],
      "text/plain": [
       "zero_bal_code quarter    1.0  2.0  3.0  6.0  9.0  15.0    sum  percentage\n",
       "0                  Q1  10745   19   34   16   57     7  12500   85.960000\n",
       "1                  Q2  10167   15   11   14   31     4  12500   81.336000\n",
       "2                  Q3   9994   14    8   61   31     4  12499   79.958397\n",
       "3                  Q4   9721    9   16   19   36     7  12499   77.774222"
      ]
     },
     "execution_count": 79,
     "metadata": {},
     "output_type": "execute_result"
    }
   ],
   "source": [
    "upb_2009['sum'] = t_2009['loan_sequence_no']\n",
    "upb_2009['percentage'] = upb_2009[1]/upb_2009['sum'] *100\n",
    "upb_2009"
   ]
  },
  {
   "cell_type": "code",
   "execution_count": 80,
   "metadata": {},
   "outputs": [
    {
     "data": {
      "image/png": "[encoded data removed]",
      "text/plain": [
       "<Figure size 560x320 with 1 Axes>"
      ]
     },
     "metadata": {},
     "output_type": "display_data"
    }
   ],
   "source": [
    "plt.figure(figsize=(7,4),dpi = 80)\n",
    "ax = sns.lineplot(x = 'quarter',y ='percentage',data = upb_2009,color='g')\n",
    "plt.yticks(np.arange(77,87,1.5))\n",
    "ax.set(xlabel = 'Quarter', ylabel = 'Pecentage of payoff')\n",
    "vals = ax.get_yticks()\n",
    "ax.set_yticklabels(['{:3.1f}%'.format(x) for x in vals])\n",
    "sns.despine()"
   ]
  },
  {
   "cell_type": "code",
   "execution_count": 81,
   "metadata": {},
   "outputs": [
    {
     "data": {
      "text/html": [
       "<div>\n",
       "<style scoped>\n",
       "    .dataframe tbody tr th:only-of-type {\n",
       "        vertical-align: middle;\n",
       "    }\n",
       "\n",
       "    .dataframe tbody tr th {\n",
       "        vertical-align: top;\n",
       "    }\n",
       "\n",
       "    .dataframe thead th {\n",
       "        text-align: right;\n",
       "    }\n",
       "</style>\n",
       "<table border=\"1\" class=\"dataframe\">\n",
       "  <thead>\n",
       "    <tr style=\"text-align: right;\">\n",
       "      <th></th>\n",
       "      <th>quarter</th>\n",
       "      <th>loan_sequence_no</th>\n",
       "      <th>current_interest_rate</th>\n",
       "    </tr>\n",
       "  </thead>\n",
       "  <tbody>\n",
       "    <tr>\n",
       "      <th>0</th>\n",
       "      <td>Q1</td>\n",
       "      <td>F109Q1000018</td>\n",
       "      <td>1.0</td>\n",
       "    </tr>\n",
       "    <tr>\n",
       "      <th>1</th>\n",
       "      <td>Q1</td>\n",
       "      <td>F109Q1000036</td>\n",
       "      <td>1.0</td>\n",
       "    </tr>\n",
       "    <tr>\n",
       "      <th>2</th>\n",
       "      <td>Q1</td>\n",
       "      <td>F109Q1000072</td>\n",
       "      <td>1.0</td>\n",
       "    </tr>\n",
       "    <tr>\n",
       "      <th>3</th>\n",
       "      <td>Q1</td>\n",
       "      <td>F109Q1000090</td>\n",
       "      <td>1.0</td>\n",
       "    </tr>\n",
       "    <tr>\n",
       "      <th>4</th>\n",
       "      <td>Q1</td>\n",
       "      <td>F109Q1000125</td>\n",
       "      <td>1.0</td>\n",
       "    </tr>\n",
       "  </tbody>\n",
       "</table>\n",
       "</div>"
      ],
      "text/plain": [
       "  quarter loan_sequence_no  current_interest_rate\n",
       "0      Q1     F109Q1000018                    1.0\n",
       "1      Q1     F109Q1000036                    1.0\n",
       "2      Q1     F109Q1000072                    1.0\n",
       "3      Q1     F109Q1000090                    1.0\n",
       "4      Q1     F109Q1000125                    1.0"
      ]
     },
     "execution_count": 81,
     "metadata": {},
     "output_type": "execute_result"
    }
   ],
   "source": [
    "func = lambda x: x.nunique()\n",
    "rate_2009 = pd.pivot_table(svcg_2009,index=['quarter','loan_sequence_no'],values = 'current_interest_rate',aggfunc=func).reset_index()\n",
    "rate_2009.head()"
   ]
  },
  {
   "cell_type": "code",
   "execution_count": 82,
   "metadata": {},
   "outputs": [
    {
     "data": {
      "text/html": [
       "<div>\n",
       "<style scoped>\n",
       "    .dataframe tbody tr th:only-of-type {\n",
       "        vertical-align: middle;\n",
       "    }\n",
       "\n",
       "    .dataframe tbody tr th {\n",
       "        vertical-align: top;\n",
       "    }\n",
       "\n",
       "    .dataframe thead th {\n",
       "        text-align: right;\n",
       "    }\n",
       "</style>\n",
       "<table border=\"1\" class=\"dataframe\">\n",
       "  <thead>\n",
       "    <tr style=\"text-align: right;\">\n",
       "      <th>current_interest_rate</th>\n",
       "      <th>quarter</th>\n",
       "      <th>1.0</th>\n",
       "      <th>2.0</th>\n",
       "      <th>3.0</th>\n",
       "      <th>4.0</th>\n",
       "    </tr>\n",
       "  </thead>\n",
       "  <tbody>\n",
       "    <tr>\n",
       "      <th>0</th>\n",
       "      <td>Q1</td>\n",
       "      <td>12415.0</td>\n",
       "      <td>76.0</td>\n",
       "      <td>8.0</td>\n",
       "      <td>1.0</td>\n",
       "    </tr>\n",
       "    <tr>\n",
       "      <th>1</th>\n",
       "      <td>Q2</td>\n",
       "      <td>12445.0</td>\n",
       "      <td>52.0</td>\n",
       "      <td>3.0</td>\n",
       "      <td>0.0</td>\n",
       "    </tr>\n",
       "    <tr>\n",
       "      <th>2</th>\n",
       "      <td>Q3</td>\n",
       "      <td>12437.0</td>\n",
       "      <td>61.0</td>\n",
       "      <td>1.0</td>\n",
       "      <td>0.0</td>\n",
       "    </tr>\n",
       "    <tr>\n",
       "      <th>3</th>\n",
       "      <td>Q4</td>\n",
       "      <td>12427.0</td>\n",
       "      <td>68.0</td>\n",
       "      <td>4.0</td>\n",
       "      <td>0.0</td>\n",
       "    </tr>\n",
       "  </tbody>\n",
       "</table>\n",
       "</div>"
      ],
      "text/plain": [
       "current_interest_rate quarter      1.0   2.0  3.0  4.0\n",
       "0                          Q1  12415.0  76.0  8.0  1.0\n",
       "1                          Q2  12445.0  52.0  3.0  0.0\n",
       "2                          Q3  12437.0  61.0  1.0  0.0\n",
       "3                          Q4  12427.0  68.0  4.0  0.0"
      ]
     },
     "execution_count": 82,
     "metadata": {},
     "output_type": "execute_result"
    }
   ],
   "source": [
    "ir_2009 = pd.pivot_table(rate_2009,index=['quarter'],values='loan_sequence_no',columns = 'current_interest_rate',aggfunc='count').reset_index()\n",
    "ir_2009 = ir_2009.fillna(0)\n",
    "ir_2009.head()"
   ]
  },
  {
   "cell_type": "code",
   "execution_count": 83,
   "metadata": {},
   "outputs": [
    {
     "data": {
      "text/html": [
       "<div>\n",
       "<style scoped>\n",
       "    .dataframe tbody tr th:only-of-type {\n",
       "        vertical-align: middle;\n",
       "    }\n",
       "\n",
       "    .dataframe tbody tr th {\n",
       "        vertical-align: top;\n",
       "    }\n",
       "\n",
       "    .dataframe thead th {\n",
       "        text-align: right;\n",
       "    }\n",
       "</style>\n",
       "<table border=\"1\" class=\"dataframe\">\n",
       "  <thead>\n",
       "    <tr style=\"text-align: right;\">\n",
       "      <th>current_interest_rate</th>\n",
       "      <th>quarter</th>\n",
       "      <th>1.0</th>\n",
       "      <th>2.0</th>\n",
       "      <th>3.0</th>\n",
       "      <th>4.0</th>\n",
       "      <th>percentage</th>\n",
       "    </tr>\n",
       "  </thead>\n",
       "  <tbody>\n",
       "    <tr>\n",
       "      <th>0</th>\n",
       "      <td>Q1</td>\n",
       "      <td>12415.0</td>\n",
       "      <td>76.0</td>\n",
       "      <td>8.0</td>\n",
       "      <td>1.0</td>\n",
       "      <td>0.680000</td>\n",
       "    </tr>\n",
       "    <tr>\n",
       "      <th>1</th>\n",
       "      <td>Q2</td>\n",
       "      <td>12445.0</td>\n",
       "      <td>52.0</td>\n",
       "      <td>3.0</td>\n",
       "      <td>0.0</td>\n",
       "      <td>0.440000</td>\n",
       "    </tr>\n",
       "    <tr>\n",
       "      <th>2</th>\n",
       "      <td>Q3</td>\n",
       "      <td>12437.0</td>\n",
       "      <td>61.0</td>\n",
       "      <td>1.0</td>\n",
       "      <td>0.0</td>\n",
       "      <td>0.496040</td>\n",
       "    </tr>\n",
       "    <tr>\n",
       "      <th>3</th>\n",
       "      <td>Q4</td>\n",
       "      <td>12427.0</td>\n",
       "      <td>68.0</td>\n",
       "      <td>4.0</td>\n",
       "      <td>0.0</td>\n",
       "      <td>0.576046</td>\n",
       "    </tr>\n",
       "  </tbody>\n",
       "</table>\n",
       "</div>"
      ],
      "text/plain": [
       "current_interest_rate quarter      1.0   2.0  3.0  4.0  percentage\n",
       "0                          Q1  12415.0  76.0  8.0  1.0    0.680000\n",
       "1                          Q2  12445.0  52.0  3.0  0.0    0.440000\n",
       "2                          Q3  12437.0  61.0  1.0  0.0    0.496040\n",
       "3                          Q4  12427.0  68.0  4.0  0.0    0.576046"
      ]
     },
     "execution_count": 83,
     "metadata": {},
     "output_type": "execute_result"
    }
   ],
   "source": [
    "ir_2009['percentage'] = (ir_2009[2]+ir_2009[3]+ir_2009[4])/ir_2009.sum(axis=1) *100\n",
    "ir_2009"
   ]
  },
  {
   "cell_type": "code",
   "execution_count": 84,
   "metadata": {},
   "outputs": [
    {
     "data": {
      "image/png": "[encoded data removed]",
      "text/plain": [
       "<Figure size 560x320 with 1 Axes>"
      ]
     },
     "metadata": {},
     "output_type": "display_data"
    }
   ],
   "source": [
    "plt.figure(figsize=(7,4),dpi = 80)\n",
    "ax = sns.lineplot(x = 'quarter',y ='percentage',data = ir_2009,color='r')\n",
    "plt.yticks(np.arange(0.4,0.7,0.05))\n",
    "ax.set(xlabel = 'Quarter', ylabel = 'Pecentage of change interest rate')\n",
    "vals = ax.get_yticks()\n",
    "ax.set_yticklabels(['{:3.1f}%'.format(x) for x in vals])\n",
    "sns.despine()"
   ]
  },
  {
   "cell_type": "code",
   "execution_count": null,
   "metadata": {},
   "outputs": [],
   "source": []
  },
  {
   "cell_type": "code",
   "execution_count": null,
   "metadata": {},
   "outputs": [],
   "source": []
  },
  {
   "cell_type": "code",
   "execution_count": null,
   "metadata": {},
   "outputs": [],
   "source": []
  },
  {
   "cell_type": "code",
   "execution_count": null,
   "metadata": {},
   "outputs": [],
   "source": []
  },
  {
   "cell_type": "code",
   "execution_count": null,
   "metadata": {},
   "outputs": [],
   "source": []
  },
  {
   "cell_type": "code",
   "execution_count": null,
   "metadata": {},
   "outputs": [],
   "source": []
  },
  {
   "cell_type": "code",
   "execution_count": null,
   "metadata": {},
   "outputs": [],
   "source": []
  }
 ],
 "metadata": {
  "kernelspec": {
   "display_name": "Python 3",
   "language": "python",
   "name": "python3"
  },
  "language_info": {
   "codemirror_mode": {
    "name": "ipython",
    "version": 3
   },
   "file_extension": ".py",
   "mimetype": "text/x-python",
   "name": "python",
   "nbconvert_exporter": "python",
   "pygments_lexer": "ipython3",
   "version": "3.6.5"
  }
 },
 "nbformat": 4,
 "nbformat_minor": 2
}
